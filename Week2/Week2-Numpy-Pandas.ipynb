{
 "cells": [
  {
   "cell_type": "markdown",
   "metadata": {},
   "source": [
    "<table width=100%; style=\"background-color:#caf0fa\";>\n",
    "    <tr style=\"background-color:#caf0fa\">\n",
    "        <td>\n",
    "            <h1 style=\"text-align:right\">\n",
    "                Python for Data Science Training - Week 2\n",
    "            </h1>\n",
    "        </td>\n",
    "        <td>\n",
    "            <img src=\"../img/jica-logo.png\" alt = \"JICA Training\" style = \"width: 100px;\"/>\n",
    "        </td>\n",
    "    </tr>\n",
    "</table>\n",
    "\n",
    "# Today's Contents\n",
    "1. Data types\n",
    "2. How to install and import libraries\n",
    "3. Numpy\n",
    "4. Pandas - Intro\n",
    "---\n",
    "\n",
    "# 1. Data Types\n",
    "\n",
    "| Numeric | Text | Sequence/Dictionary | Boolean |\n",
    "| --- | --- | --- | --- |\n",
    "| `int` | `str` | `list` | `bool` |\n",
    "| `float` | . | `tuple` | . |\n",
    "| . | . | `range` | . |\n",
    "| . | . | `dict` | . |"
   ]
  },
  {
   "cell_type": "markdown",
   "metadata": {},
   "source": [
    "### Numeric"
   ]
  },
  {
   "cell_type": "code",
   "execution_count": 1,
   "metadata": {},
   "outputs": [
    {
     "data": {
      "text/plain": [
       "int"
      ]
     },
     "execution_count": 1,
     "metadata": {},
     "output_type": "execute_result"
    }
   ],
   "source": [
    "# Integer\n",
    "type(1)"
   ]
  },
  {
   "cell_type": "code",
   "execution_count": 2,
   "metadata": {},
   "outputs": [
    {
     "data": {
      "text/plain": [
       "float"
      ]
     },
     "execution_count": 2,
     "metadata": {},
     "output_type": "execute_result"
    }
   ],
   "source": [
    "# Float\n",
    "type(1.1)"
   ]
  },
  {
   "cell_type": "code",
   "execution_count": 3,
   "metadata": {},
   "outputs": [
    {
     "data": {
      "text/plain": [
       "float"
      ]
     },
     "execution_count": 3,
     "metadata": {},
     "output_type": "execute_result"
    }
   ],
   "source": [
    "type(1.0)"
   ]
  },
  {
   "cell_type": "code",
   "execution_count": 4,
   "metadata": {},
   "outputs": [
    {
     "data": {
      "text/plain": [
       "float"
      ]
     },
     "execution_count": 4,
     "metadata": {},
     "output_type": "execute_result"
    }
   ],
   "source": [
    "type(1.)"
   ]
  },
  {
   "cell_type": "code",
   "execution_count": 5,
   "metadata": {},
   "outputs": [
    {
     "name": "stdout",
     "output_type": "stream",
     "text": [
      "2.5\n",
      "Data Type:  <class 'float'>\n"
     ]
    }
   ],
   "source": [
    "mix_of_int_and_float = 1 + 1.5\n",
    "print(mix_of_int_and_float)\n",
    "print('Data Type: ', type(mix_of_int_and_float))"
   ]
  },
  {
   "cell_type": "code",
   "execution_count": 6,
   "metadata": {},
   "outputs": [
    {
     "data": {
      "text/plain": [
       "5"
      ]
     },
     "execution_count": 6,
     "metadata": {},
     "output_type": "execute_result"
    }
   ],
   "source": [
    "# You can explititly assign number\n",
    "int(5)"
   ]
  },
  {
   "cell_type": "code",
   "execution_count": 7,
   "metadata": {},
   "outputs": [
    {
     "data": {
      "text/plain": [
       "1.5"
      ]
     },
     "execution_count": 7,
     "metadata": {},
     "output_type": "execute_result"
    }
   ],
   "source": [
    "float(1.5)"
   ]
  },
  {
   "cell_type": "code",
   "execution_count": 8,
   "metadata": {},
   "outputs": [
    {
     "data": {
      "text/plain": [
       "5"
      ]
     },
     "execution_count": 8,
     "metadata": {},
     "output_type": "execute_result"
    }
   ],
   "source": [
    "# Float can be forced to be integer\n",
    "int(5.5)"
   ]
  },
  {
   "cell_type": "code",
   "execution_count": 9,
   "metadata": {},
   "outputs": [
    {
     "data": {
      "text/plain": [
       "4.0"
      ]
     },
     "execution_count": 9,
     "metadata": {},
     "output_type": "execute_result"
    }
   ],
   "source": [
    "# Integer can be forced to be integer\n",
    "float(4)"
   ]
  },
  {
   "cell_type": "markdown",
   "metadata": {},
   "source": [
    "### Text"
   ]
  },
  {
   "cell_type": "code",
   "execution_count": 10,
   "metadata": {},
   "outputs": [
    {
     "data": {
      "text/plain": [
       "str"
      ]
     },
     "execution_count": 10,
     "metadata": {},
     "output_type": "execute_result"
    }
   ],
   "source": [
    "type('My favorite number... ')"
   ]
  },
  {
   "cell_type": "code",
   "execution_count": 11,
   "metadata": {},
   "outputs": [
    {
     "ename": "TypeError",
     "evalue": "can only concatenate str (not \"int\") to str",
     "output_type": "error",
     "traceback": [
      "\u001b[0;31m---------------------------------------------------------------------------\u001b[0m",
      "\u001b[0;31mTypeError\u001b[0m                                 Traceback (most recent call last)",
      "\u001b[0;32m<ipython-input-11-e5a13b573bb2>\u001b[0m in \u001b[0;36m<module>\u001b[0;34m\u001b[0m\n\u001b[1;32m      1\u001b[0m \u001b[0;31m# String and number cannot be merged\u001b[0m\u001b[0;34m\u001b[0m\u001b[0;34m\u001b[0m\u001b[0;34m\u001b[0m\u001b[0m\n\u001b[0;32m----> 2\u001b[0;31m \u001b[0;34m'My favorite number is... '\u001b[0m \u001b[0;34m+\u001b[0m \u001b[0;36m7\u001b[0m\u001b[0;34m\u001b[0m\u001b[0;34m\u001b[0m\u001b[0m\n\u001b[0m",
      "\u001b[0;31mTypeError\u001b[0m: can only concatenate str (not \"int\") to str"
     ]
    }
   ],
   "source": [
    "# String and number cannot be merged\n",
    "'My favorite number is... ' + 7"
   ]
  },
  {
   "cell_type": "code",
   "execution_count": 12,
   "metadata": {},
   "outputs": [
    {
     "data": {
      "text/plain": [
       "'My favorite number is... 7'"
      ]
     },
     "execution_count": 12,
     "metadata": {},
     "output_type": "execute_result"
    }
   ],
   "source": [
    "# A solution is to change the number to string\n",
    "'My favorite number is... ' + str(7)"
   ]
  },
  {
   "cell_type": "markdown",
   "metadata": {},
   "source": [
    "### List\n",
    "- `[ ]`\n",
    "- `list([ ])`"
   ]
  },
  {
   "cell_type": "code",
   "execution_count": 13,
   "metadata": {},
   "outputs": [
    {
     "data": {
      "text/plain": [
       "[1, 2, 3, 4, 5]"
      ]
     },
     "execution_count": 13,
     "metadata": {},
     "output_type": "execute_result"
    }
   ],
   "source": [
    "# Case 1 - with bracket\n",
    "list_number = [1, 2, 3, 4, 5]\n",
    "list_number"
   ]
  },
  {
   "cell_type": "code",
   "execution_count": 14,
   "metadata": {},
   "outputs": [
    {
     "data": {
      "text/plain": [
       "[1, 2, 3, 4, 't']"
      ]
     },
     "execution_count": 14,
     "metadata": {},
     "output_type": "execute_result"
    }
   ],
   "source": [
    "list_num_and_str = [1, 2, 3, 4, 't']\n",
    "list_num_and_str"
   ]
  },
  {
   "cell_type": "code",
   "execution_count": 15,
   "metadata": {},
   "outputs": [
    {
     "data": {
      "text/plain": [
       "['abc', 'cde', 'efg']"
      ]
     },
     "execution_count": 15,
     "metadata": {},
     "output_type": "execute_result"
    }
   ],
   "source": [
    "# Case 2- with `list`\n",
    "list_text = list(['abc', 'cde', 'efg'])\n",
    "list_text"
   ]
  },
  {
   "cell_type": "code",
   "execution_count": 16,
   "metadata": {},
   "outputs": [
    {
     "name": "stdout",
     "output_type": "stream",
     "text": [
      "<class 'list'>\n",
      "<class 'list'>\n",
      "<class 'list'>\n"
     ]
    }
   ],
   "source": [
    "print(type(list_number))\n",
    "print(type(list_num_and_str))\n",
    "print(type(list_text))"
   ]
  },
  {
   "cell_type": "markdown",
   "metadata": {},
   "source": [
    "### Tuple\n",
    "- ( )"
   ]
  },
  {
   "cell_type": "code",
   "execution_count": 17,
   "metadata": {},
   "outputs": [
    {
     "name": "stdout",
     "output_type": "stream",
     "text": [
      "(1, 2, 3)\n",
      "<class 'tuple'>\n"
     ]
    }
   ],
   "source": [
    "this_is_tuple = (1, 2, 3)\n",
    "print(this_is_tuple)\n",
    "print(type(this_is_tuple))"
   ]
  },
  {
   "cell_type": "markdown",
   "metadata": {},
   "source": [
    "### Dictionary\n",
    "- `{key: value}`"
   ]
  },
  {
   "cell_type": "code",
   "execution_count": 18,
   "metadata": {},
   "outputs": [
    {
     "name": "stdout",
     "output_type": "stream",
     "text": [
      "{'FirstName': 'Hiroyuki'}\n",
      "<class 'dict'>\n"
     ]
    }
   ],
   "source": [
    "my_dict = {'FirstName':'Hiroyuki'}\n",
    "print(my_dict)\n",
    "print(type(my_dict))"
   ]
  },
  {
   "cell_type": "code",
   "execution_count": 19,
   "metadata": {},
   "outputs": [
    {
     "data": {
      "text/plain": [
       "dict_keys(['FirstName'])"
      ]
     },
     "execution_count": 19,
     "metadata": {},
     "output_type": "execute_result"
    }
   ],
   "source": [
    "# You can find keys\n",
    "my_dict.keys()"
   ]
  },
  {
   "cell_type": "code",
   "execution_count": 20,
   "metadata": {},
   "outputs": [
    {
     "data": {
      "text/plain": [
       "dict_values(['Hiroyuki'])"
      ]
     },
     "execution_count": 20,
     "metadata": {},
     "output_type": "execute_result"
    }
   ],
   "source": [
    "# You can also find values\n",
    "my_dict.values()"
   ]
  },
  {
   "cell_type": "code",
   "execution_count": 21,
   "metadata": {},
   "outputs": [
    {
     "name": "stdout",
     "output_type": "stream",
     "text": [
      "dict_keys(['FirstName', 'LastName'])\n",
      "dict_values(['Hiroyuki', 'Yokoi'])\n"
     ]
    }
   ],
   "source": [
    "# Multiple keys and values can be assigned.\n",
    "my_new_dict = {'FirstName':'Hiroyuki', 'LastName':'Yokoi'}\n",
    "print(my_new_dict.keys())\n",
    "print(my_new_dict.values())"
   ]
  },
  {
   "cell_type": "code",
   "execution_count": 22,
   "metadata": {},
   "outputs": [
    {
     "name": "stdout",
     "output_type": "stream",
     "text": [
      "{'FirstName': 'Hiroyuki', 'LastName': 'Yokoi'}\n"
     ]
    }
   ],
   "source": [
    "# You can add another key and value\n",
    "my_dict['LastName'] = 'Yokoi'\n",
    "print(my_dict)"
   ]
  },
  {
   "cell_type": "code",
   "execution_count": 23,
   "metadata": {},
   "outputs": [],
   "source": [
    "# Without creating a new dictionary, you can update the dictionary by `.update` method\n",
    "my_dict.update({'FullName':'Hiroyui Yokoi'})"
   ]
  },
  {
   "cell_type": "code",
   "execution_count": 24,
   "metadata": {},
   "outputs": [
    {
     "data": {
      "text/plain": [
       "{'FirstName': 'Hiroyuki', 'LastName': 'Yokoi', 'FullName': 'Hiroyui Yokoi'}"
      ]
     },
     "execution_count": 24,
     "metadata": {},
     "output_type": "execute_result"
    }
   ],
   "source": [
    "my_dict"
   ]
  },
  {
   "cell_type": "markdown",
   "metadata": {},
   "source": [
    "### Boolean\n",
    "- `True` or `False`"
   ]
  },
  {
   "cell_type": "code",
   "execution_count": 25,
   "metadata": {},
   "outputs": [
    {
     "data": {
      "text/plain": [
       "True"
      ]
     },
     "execution_count": 25,
     "metadata": {},
     "output_type": "execute_result"
    }
   ],
   "source": [
    "True"
   ]
  },
  {
   "cell_type": "code",
   "execution_count": 26,
   "metadata": {},
   "outputs": [
    {
     "data": {
      "text/plain": [
       "False"
      ]
     },
     "execution_count": 26,
     "metadata": {},
     "output_type": "execute_result"
    }
   ],
   "source": [
    "False"
   ]
  },
  {
   "cell_type": "code",
   "execution_count": 27,
   "metadata": {},
   "outputs": [
    {
     "ename": "NameError",
     "evalue": "name 'true' is not defined",
     "output_type": "error",
     "traceback": [
      "\u001b[0;31m---------------------------------------------------------------------------\u001b[0m",
      "\u001b[0;31mNameError\u001b[0m                                 Traceback (most recent call last)",
      "\u001b[0;32m<ipython-input-27-210f0a5377cf>\u001b[0m in \u001b[0;36m<module>\u001b[0;34m\u001b[0m\n\u001b[1;32m      1\u001b[0m \u001b[0;31m# Python is case sensitive language. For example, \"true\" does not work\u001b[0m\u001b[0;34m\u001b[0m\u001b[0;34m\u001b[0m\u001b[0;34m\u001b[0m\u001b[0m\n\u001b[0;32m----> 2\u001b[0;31m \u001b[0mtrue\u001b[0m\u001b[0;34m\u001b[0m\u001b[0;34m\u001b[0m\u001b[0m\n\u001b[0m",
      "\u001b[0;31mNameError\u001b[0m: name 'true' is not defined"
     ]
    }
   ],
   "source": [
    "# Python is case sensitive language. For example, \"true\" does not work\n",
    "true"
   ]
  },
  {
   "cell_type": "markdown",
   "metadata": {},
   "source": [
    "Let's see if True equals False.  \n",
    "Note that in Python `==` means left-hand and right-hand side is exactly equal.  \n",
    "Don't mess up with `=`, which assigns a variable."
   ]
  },
  {
   "cell_type": "code",
   "execution_count": 28,
   "metadata": {},
   "outputs": [
    {
     "data": {
      "text/plain": [
       "False"
      ]
     },
     "execution_count": 28,
     "metadata": {},
     "output_type": "execute_result"
    }
   ],
   "source": [
    "True == False"
   ]
  },
  {
   "cell_type": "code",
   "execution_count": 29,
   "metadata": {},
   "outputs": [
    {
     "data": {
      "text/plain": [
       "True"
      ]
     },
     "execution_count": 29,
     "metadata": {},
     "output_type": "execute_result"
    }
   ],
   "source": [
    "True == True"
   ]
  },
  {
   "cell_type": "code",
   "execution_count": 30,
   "metadata": {},
   "outputs": [
    {
     "data": {
      "text/plain": [
       "True"
      ]
     },
     "execution_count": 30,
     "metadata": {},
     "output_type": "execute_result"
    }
   ],
   "source": [
    "False == False"
   ]
  },
  {
   "cell_type": "code",
   "execution_count": 31,
   "metadata": {},
   "outputs": [
    {
     "data": {
      "text/plain": [
       "False"
      ]
     },
     "execution_count": 31,
     "metadata": {},
     "output_type": "execute_result"
    }
   ],
   "source": [
    "False == True"
   ]
  },
  {
   "cell_type": "code",
   "execution_count": 32,
   "metadata": {},
   "outputs": [
    {
     "data": {
      "text/plain": [
       "1"
      ]
     },
     "execution_count": 32,
     "metadata": {},
     "output_type": "execute_result"
    }
   ],
   "source": [
    "# In Python, True is considered as 1, while False is as 0.\n",
    "int(True)"
   ]
  },
  {
   "cell_type": "code",
   "execution_count": 33,
   "metadata": {},
   "outputs": [
    {
     "data": {
      "text/plain": [
       "0"
      ]
     },
     "execution_count": 33,
     "metadata": {},
     "output_type": "execute_result"
    }
   ],
   "source": [
    "int(False)"
   ]
  },
  {
   "cell_type": "code",
   "execution_count": 34,
   "metadata": {},
   "outputs": [
    {
     "data": {
      "text/plain": [
       "2"
      ]
     },
     "execution_count": 34,
     "metadata": {},
     "output_type": "execute_result"
    }
   ],
   "source": [
    "True + True"
   ]
  },
  {
   "cell_type": "code",
   "execution_count": 35,
   "metadata": {},
   "outputs": [
    {
     "data": {
      "text/plain": [
       "0"
      ]
     },
     "execution_count": 35,
     "metadata": {},
     "output_type": "execute_result"
    }
   ],
   "source": [
    "False + False"
   ]
  },
  {
   "cell_type": "markdown",
   "metadata": {},
   "source": [
    "# 2. How to install and load libraries\n",
    "Other than [Python built-in functions](https://docs.python.org/3/library/functions.html), you always need to import relevant libraries. If a library is not installed to your computer, you should install the library by calling:\n",
    "```python\n",
    "conda install xxxx\n",
    "```\n",
    "(It is also possible to install with:\n",
    "```python\n",
    "pip install xxxx\n",
    "```\n",
    "but this does not consider dependencies, thus `conda install xxxx` is recommended.)   \n",
    "\n",
    "After installation, you call the library with:\n",
    "```python\n",
    "import xxxx\n",
    "```\n"
   ]
  },
  {
   "cell_type": "markdown",
   "metadata": {},
   "source": [
    "### Install a library\n",
    "1. Google `conda install xxxx` (xxxx should be a specific library) and find an installation page in \"https://anaconda.org\".\n",
    "2. Under this page, you'll find a text like: **To install this package with conda run: ** `conda install -c anaconda numpy`\n",
    "3. Copy and paste to **Command**(Windows)/**Terminal**(Mac).\n",
    "\n",
    "Alternatively, you can just run a command in a jupyter notebok by: `!conda install -c anaconda numpy`"
   ]
  },
  {
   "cell_type": "code",
   "execution_count": 36,
   "metadata": {},
   "outputs": [],
   "source": [
    "# !conda install -c anaconda numpy"
   ]
  },
  {
   "cell_type": "markdown",
   "metadata": {},
   "source": [
    "### Import a library"
   ]
  },
  {
   "cell_type": "code",
   "execution_count": 37,
   "metadata": {},
   "outputs": [],
   "source": [
    "# import white space library\n",
    "import numpy"
   ]
  },
  {
   "cell_type": "code",
   "execution_count": 38,
   "metadata": {},
   "outputs": [
    {
     "data": {
      "text/plain": [
       "module"
      ]
     },
     "execution_count": 38,
     "metadata": {},
     "output_type": "execute_result"
    }
   ],
   "source": [
    "type(numpy)"
   ]
  },
  {
   "cell_type": "code",
   "execution_count": 39,
   "metadata": {},
   "outputs": [],
   "source": [
    "# also can be used `as` for a shorthand name\n",
    "import numpy as np"
   ]
  },
  {
   "cell_type": "code",
   "execution_count": 40,
   "metadata": {},
   "outputs": [
    {
     "data": {
      "text/plain": [
       "module"
      ]
     },
     "execution_count": 40,
     "metadata": {},
     "output_type": "execute_result"
    }
   ],
   "source": [
    "type(np)"
   ]
  },
  {
   "cell_type": "code",
   "execution_count": 41,
   "metadata": {},
   "outputs": [
    {
     "data": {
      "text/plain": [
       "module"
      ]
     },
     "execution_count": 41,
     "metadata": {},
     "output_type": "execute_result"
    }
   ],
   "source": [
    "# sometimes a library has \"deep\" module, and a deeper method can be called with the combination of dot.\n",
    "import matplotlib.pyplot as plt\n",
    "type(plt)"
   ]
  },
  {
   "cell_type": "code",
   "execution_count": 42,
   "metadata": {},
   "outputs": [],
   "source": [
    "# Several libraries can be loaded in the same cell.\n",
    "import numpy as np\n",
    "import pandas as pd"
   ]
  },
  {
   "cell_type": "markdown",
   "metadata": {},
   "source": [
    "# 3. Numpy\n",
    "Numpy is the most popular and famous library in Python. Many many libraries are built upon Numpy."
   ]
  },
  {
   "cell_type": "code",
   "execution_count": 43,
   "metadata": {},
   "outputs": [
    {
     "name": "stdout",
     "output_type": "stream",
     "text": [
      "[1 2 3 4]\n",
      "Type is:  <class 'numpy.ndarray'>\n"
     ]
    }
   ],
   "source": [
    "# numpy array\n",
    "arr = [1, 2, 3, 4]\n",
    "np_arr = np.array(arr)\n",
    "print(np_arr)\n",
    "print('Type is: ', type(np_arr))"
   ]
  },
  {
   "cell_type": "code",
   "execution_count": 44,
   "metadata": {},
   "outputs": [
    {
     "data": {
      "text/plain": [
       "(4,)"
      ]
     },
     "execution_count": 44,
     "metadata": {},
     "output_type": "execute_result"
    }
   ],
   "source": [
    "# Shape is (row, column)\n",
    "np_arr.shape"
   ]
  },
  {
   "cell_type": "code",
   "execution_count": 45,
   "metadata": {},
   "outputs": [
    {
     "name": "stdout",
     "output_type": "stream",
     "text": [
      "[[1 2 3]\n",
      " [5 6 7]]\n",
      "Type is:  <class 'numpy.ndarray'>\n"
     ]
    }
   ],
   "source": [
    "# two dimensional aray\n",
    "arr_two_dim = [[1, 2, 3], [5, 6, 7]]\n",
    "np_arr_two_dim = np.array(arr_two_dim)\n",
    "print(np_arr_two_dim)\n",
    "print('Type is: ', type(np_arr_two_dim))"
   ]
  },
  {
   "cell_type": "code",
   "execution_count": 46,
   "metadata": {},
   "outputs": [
    {
     "data": {
      "text/plain": [
       "(2, 3)"
      ]
     },
     "execution_count": 46,
     "metadata": {},
     "output_type": "execute_result"
    }
   ],
   "source": [
    "np_arr_two_dim.shape # two rows and three columns"
   ]
  },
  {
   "cell_type": "code",
   "execution_count": 47,
   "metadata": {},
   "outputs": [
    {
     "data": {
      "text/plain": [
       "2"
      ]
     },
     "execution_count": 47,
     "metadata": {},
     "output_type": "execute_result"
    }
   ],
   "source": [
    "np_arr_two_dim.ndim # Show dimension"
   ]
  },
  {
   "cell_type": "code",
   "execution_count": 48,
   "metadata": {},
   "outputs": [
    {
     "data": {
      "text/plain": [
       "dtype('int64')"
      ]
     },
     "execution_count": 48,
     "metadata": {},
     "output_type": "execute_result"
    }
   ],
   "source": [
    "np_arr_two_dim.dtype # numeric type"
   ]
  },
  {
   "cell_type": "code",
   "execution_count": 49,
   "metadata": {},
   "outputs": [
    {
     "data": {
      "text/plain": [
       "array([26, 81, 75, 17, 23,  4,  2, 40, 66,  5])"
      ]
     },
     "execution_count": 49,
     "metadata": {},
     "output_type": "execute_result"
    }
   ],
   "source": [
    "# select random number\n",
    "np_random = np.random.randint(low = 0, high = 100, size = 10)\n",
    "np_random"
   ]
  },
  {
   "cell_type": "code",
   "execution_count": 50,
   "metadata": {},
   "outputs": [
    {
     "data": {
      "text/plain": [
       "(10,)"
      ]
     },
     "execution_count": 50,
     "metadata": {},
     "output_type": "execute_result"
    }
   ],
   "source": [
    "# show shape\n",
    "np_random.shape  # row 10, col none"
   ]
  },
  {
   "cell_type": "code",
   "execution_count": 51,
   "metadata": {},
   "outputs": [
    {
     "data": {
      "text/plain": [
       "81"
      ]
     },
     "execution_count": 51,
     "metadata": {},
     "output_type": "execute_result"
    }
   ],
   "source": [
    "# Find max number\n",
    "np.max(np_random)"
   ]
  },
  {
   "cell_type": "code",
   "execution_count": 52,
   "metadata": {},
   "outputs": [
    {
     "data": {
      "text/plain": [
       "2"
      ]
     },
     "execution_count": 52,
     "metadata": {},
     "output_type": "execute_result"
    }
   ],
   "source": [
    "# Find min number\n",
    "np.min(np_random)"
   ]
  },
  {
   "cell_type": "code",
   "execution_count": 53,
   "metadata": {},
   "outputs": [
    {
     "data": {
      "text/plain": [
       "33.9"
      ]
     },
     "execution_count": 53,
     "metadata": {},
     "output_type": "execute_result"
    }
   ],
   "source": [
    "# Show mean value\n",
    "np.mean(np_random)"
   ]
  },
  {
   "cell_type": "code",
   "execution_count": 54,
   "metadata": {},
   "outputs": [
    {
     "data": {
      "text/plain": [
       "33.9"
      ]
     },
     "execution_count": 54,
     "metadata": {},
     "output_type": "execute_result"
    }
   ],
   "source": [
    "# Same method\n",
    "np_random.mean()"
   ]
  },
  {
   "cell_type": "code",
   "execution_count": 55,
   "metadata": {},
   "outputs": [
    {
     "data": {
      "text/plain": [
       "24.5"
      ]
     },
     "execution_count": 55,
     "metadata": {},
     "output_type": "execute_result"
    }
   ],
   "source": [
    "# Show median value\n",
    "np.median(np_random)"
   ]
  },
  {
   "cell_type": "code",
   "execution_count": 56,
   "metadata": {},
   "outputs": [
    {
     "data": {
      "text/plain": [
       "28.61625412243888"
      ]
     },
     "execution_count": 56,
     "metadata": {},
     "output_type": "execute_result"
    }
   ],
   "source": [
    "# Standard deviation\n",
    "np.std(np_random)"
   ]
  },
  {
   "cell_type": "code",
   "execution_count": 57,
   "metadata": {},
   "outputs": [
    {
     "data": {
      "text/plain": [
       "818.8900000000001"
      ]
     },
     "execution_count": 57,
     "metadata": {},
     "output_type": "execute_result"
    }
   ],
   "source": [
    "# Variance\n",
    "np.var(np_random)"
   ]
  },
  {
   "cell_type": "code",
   "execution_count": 58,
   "metadata": {},
   "outputs": [
    {
     "data": {
      "text/plain": [
       "28.61625412243888"
      ]
     },
     "execution_count": 58,
     "metadata": {},
     "output_type": "execute_result"
    }
   ],
   "source": [
    "# simple calculation: square root of variance\n",
    "np.sqrt(np.var(np_random))"
   ]
  },
  {
   "cell_type": "code",
   "execution_count": 59,
   "metadata": {},
   "outputs": [
    {
     "data": {
      "text/plain": [
       "818.8900000000001"
      ]
     },
     "execution_count": 59,
     "metadata": {},
     "output_type": "execute_result"
    }
   ],
   "source": [
    "# simple calculation: variance is calculated by squaring standard deviation\n",
    "np.std(np_random) ** 2"
   ]
  },
  {
   "cell_type": "markdown",
   "metadata": {},
   "source": [
    "## Indexing\n",
    "An index is a sequential number of a variable, which starts from **0** in Python."
   ]
  },
  {
   "cell_type": "code",
   "execution_count": 60,
   "metadata": {},
   "outputs": [
    {
     "name": "stdout",
     "output_type": "stream",
     "text": [
      "[26 81 75 17 23  4  2 40 66  5]\n"
     ]
    }
   ],
   "source": [
    "# Indexing: make sure it starts from 0.\n",
    "print(np_random)"
   ]
  },
  {
   "cell_type": "code",
   "execution_count": 61,
   "metadata": {},
   "outputs": [
    {
     "name": "stdout",
     "output_type": "stream",
     "text": [
      "26\n"
     ]
    }
   ],
   "source": [
    "print(np_random[0])"
   ]
  },
  {
   "cell_type": "code",
   "execution_count": 62,
   "metadata": {},
   "outputs": [
    {
     "name": "stdout",
     "output_type": "stream",
     "text": [
      "81\n"
     ]
    }
   ],
   "source": [
    "print(np_random[1])"
   ]
  },
  {
   "cell_type": "code",
   "execution_count": 63,
   "metadata": {},
   "outputs": [
    {
     "name": "stdout",
     "output_type": "stream",
     "text": [
      "75\n"
     ]
    }
   ],
   "source": [
    "print(np_random[2])"
   ]
  },
  {
   "cell_type": "code",
   "execution_count": 64,
   "metadata": {},
   "outputs": [
    {
     "name": "stdout",
     "output_type": "stream",
     "text": [
      "5\n"
     ]
    }
   ],
   "source": [
    "# Index of the last item is: -1\n",
    "print(np_random[-1])"
   ]
  },
  {
   "cell_type": "code",
   "execution_count": 65,
   "metadata": {},
   "outputs": [
    {
     "name": "stdout",
     "output_type": "stream",
     "text": [
      "66\n"
     ]
    }
   ],
   "source": [
    "print(np_random[-2])"
   ]
  },
  {
   "cell_type": "markdown",
   "metadata": {},
   "source": [
    "### For loop\n",
    "It is tedious to type the same command again and again. If there is a repetition in the command, you can run **for loop**.\n",
    "\n",
    "\n",
    "```python\n",
    "for any_name in list_variable:\n",
    "    *do your function\n",
    "```"
   ]
  },
  {
   "cell_type": "code",
   "execution_count": 66,
   "metadata": {},
   "outputs": [
    {
     "data": {
      "text/plain": [
       "array([26, 81, 75, 17, 23,  4,  2, 40, 66,  5])"
      ]
     },
     "execution_count": 66,
     "metadata": {},
     "output_type": "execute_result"
    }
   ],
   "source": [
    "# Show the list variable again.\n",
    "np_random"
   ]
  },
  {
   "cell_type": "code",
   "execution_count": 67,
   "metadata": {},
   "outputs": [
    {
     "name": "stdout",
     "output_type": "stream",
     "text": [
      "26\n",
      "81\n",
      "75\n",
      "17\n",
      "23\n",
      "4\n",
      "2\n",
      "40\n",
      "66\n",
      "5\n"
     ]
    }
   ],
   "source": [
    "# Show individual item with for-loop\n",
    "for item in np_random:\n",
    "    print(item)"
   ]
  },
  {
   "cell_type": "code",
   "execution_count": 68,
   "metadata": {},
   "outputs": [
    {
     "name": "stdout",
     "output_type": "stream",
     "text": [
      "Index is 0 and Number is 26\n",
      "Index is 1 and Number is 81\n",
      "Index is 2 and Number is 75\n",
      "Index is 3 and Number is 17\n",
      "Index is 4 and Number is 23\n",
      "Index is 5 and Number is 4\n",
      "Index is 6 and Number is 2\n",
      "Index is 7 and Number is 40\n",
      "Index is 8 and Number is 66\n",
      "Index is 9 and Number is 5\n"
     ]
    }
   ],
   "source": [
    "# Distinguishing each variable with index:\n",
    "for i, item in enumerate(np_random):\n",
    "    print(f'Index is {i} and Number is {item}')"
   ]
  },
  {
   "cell_type": "code",
   "execution_count": 69,
   "metadata": {},
   "outputs": [
    {
     "name": "stdout",
     "output_type": "stream",
     "text": [
      "My name is  Suzuki\n",
      "My name is  Yamada\n",
      "My name is  Kobayashi\n"
     ]
    }
   ],
   "source": [
    "# Another example\n",
    "name_list = ['Suzuki', 'Yamada', 'Kobayashi']\n",
    "for name in name_list:\n",
    "    print('My name is ', name)"
   ]
  },
  {
   "cell_type": "code",
   "execution_count": 70,
   "metadata": {},
   "outputs": [
    {
     "name": "stdout",
     "output_type": "stream",
     "text": [
      "Kazu Miura\n",
      "Hide Nakata\n",
      "Shinji Kagawa\n"
     ]
    }
   ],
   "source": [
    "# zip function: zipping two lists\n",
    "first_name = ['Kazu', 'Hide', 'Shinji']\n",
    "last_name = ['Miura', 'Nakata', 'Kagawa']\n",
    "\n",
    "for first, last in zip(first_name, last_name):\n",
    "    print(first, last)"
   ]
  },
  {
   "cell_type": "code",
   "execution_count": 71,
   "metadata": {},
   "outputs": [
    {
     "name": "stdout",
     "output_type": "stream",
     "text": [
      "0\n",
      "1\n",
      "2\n",
      "3\n",
      "4\n",
      "5\n",
      "6\n",
      "7\n",
      "8\n",
      "9\n"
     ]
    }
   ],
   "source": [
    "# range function: create sequence\n",
    "for i in range(10):\n",
    "    print(i)"
   ]
  },
  {
   "cell_type": "markdown",
   "metadata": {},
   "source": [
    "### List Comprehension - Quicker way to apply for-loop\n",
    "```python\n",
    "[element for element in list_variable]\n",
    "```"
   ]
  },
  {
   "cell_type": "code",
   "execution_count": 72,
   "metadata": {},
   "outputs": [
    {
     "data": {
      "text/plain": [
       "['Suzuki', 'Yamada', 'Kobayashi']"
      ]
     },
     "execution_count": 72,
     "metadata": {},
     "output_type": "execute_result"
    }
   ],
   "source": [
    "# Quicker way - List comprehension\n",
    "[name for name in name_list]"
   ]
  },
  {
   "cell_type": "markdown",
   "metadata": {},
   "source": [
    "# グループワーク"
   ]
  },
  {
   "cell_type": "markdown",
   "metadata": {},
   "source": [
    "### ワーク1: for loopを使って次のように文字をプリントしてください\n",
    "\n",
    "```python\n",
    "\"1 番目の人です。\"\n",
    "\"2 番目の人です。\"\n",
    "\"3 番目の人です。\"\n",
    "\"4 番目の人です。\"\n",
    "\"5 番目の人です。\"\n",
    "```"
   ]
  },
  {
   "cell_type": "code",
   "execution_count": 73,
   "metadata": {},
   "outputs": [],
   "source": [
    "# TODO\n"
   ]
  },
  {
   "cell_type": "markdown",
   "metadata": {},
   "source": [
    "### ワーク2: \n",
    "1. 学生の時に聞いていたミュージシャンの名前を３つリストとして書き出してください。\n",
    "2. そのミュージシャンの好きな曲のタイトルをそれぞれ３つリストとして書き出してください。\n",
    "3. for loopを使って以下のように文字をプリントしてください。\n",
    "\n",
    "```python\n",
    "\"私が好きなミュージシャンは●●です。そのうち、好きな曲は■■です。\"  \n",
    "\"私が好きなミュージシャンは○○す。そのうち、好きな曲は□□です。\"  \n",
    "\"私が好きなミュージシャンは▲▲です。そのうち、好きな曲は△△です。 \"\n",
    "```"
   ]
  },
  {
   "cell_type": "code",
   "execution_count": 74,
   "metadata": {},
   "outputs": [
    {
     "ename": "SyntaxError",
     "evalue": "invalid syntax (<ipython-input-74-bb3ccbf6d082>, line 2)",
     "output_type": "error",
     "traceback": [
      "\u001b[0;36m  File \u001b[0;32m\"<ipython-input-74-bb3ccbf6d082>\"\u001b[0;36m, line \u001b[0;32m2\u001b[0m\n\u001b[0;31m    musician_name =\u001b[0m\n\u001b[0m                    ^\u001b[0m\n\u001b[0;31mSyntaxError\u001b[0m\u001b[0;31m:\u001b[0m invalid syntax\n"
     ]
    }
   ],
   "source": [
    "# TODO\n",
    "musician_name = \n",
    "music_titles = "
   ]
  },
  {
   "cell_type": "markdown",
   "metadata": {},
   "source": [
    "### ワーク3:\n",
    "上のリストを使って、以下のように変化させてください。<br>\n",
    "ポイント：１番目、２番目、３番目というシークエンスが加わりました。<br><br>\n",
    "```python\n",
    "\"私が1番目に好きなミュージシャンは●●です。そのうち、好きな曲は■■です。\"\n",
    "\"私が2番目に好きなミュージシャンは○○す。そのうち、好きな曲は□□です。\"\n",
    "\"私が3番目に好きなミュージシャンは▲▲です。そのうち、好きな曲は△△です。\"\n",
    "```"
   ]
  },
  {
   "cell_type": "code",
   "execution_count": 75,
   "metadata": {},
   "outputs": [],
   "source": [
    "# TODO\n"
   ]
  },
  {
   "cell_type": "markdown",
   "metadata": {},
   "source": [
    "### Conditional for-loop\n",
    "1. Two conditions\n",
    "```python\n",
    "    for element in list_variable:\n",
    "        if *condition*:  \n",
    "            *do_something\n",
    "       else:\n",
    "            *do_the_rest\n",
    "```\n",
    "2. More than two conditions\n",
    "```python\n",
    "    for element in list_variable:\n",
    "        if *condition*:  #  First condition\n",
    "            *do_something\n",
    "       elif *another condition*:  #  Second condition\n",
    "            *do_another\n",
    "       else:\n",
    "            *do_the_rest\n",
    "```\n",
    "\n",
    "### Append method\n",
    "It is useful to store variable applied to a specific condition. First, you need to provide a empty list, then you need to be explicit to append a variable to the list.\n",
    "```python\n",
    "    empty_list_1 = []\n",
    "    empty_list_2 = []\n",
    "    for element in list_variable:\n",
    "        if *condition*:\n",
    "            *do_something\n",
    "            empty_list_1.append(element) # an element meeting the condition is appended to the empty_list_1\n",
    "        else:\n",
    "            *do_the_rest\n",
    "            empty_list_2.append(element) # an element NOT meeting the condition is appended to the empty_list_2\n",
    "            \n",
    "```"
   ]
  },
  {
   "cell_type": "code",
   "execution_count": 76,
   "metadata": {},
   "outputs": [
    {
     "data": {
      "text/plain": [
       "array([26, 81, 75, 17, 23,  4,  2, 40, 66,  5])"
      ]
     },
     "execution_count": 76,
     "metadata": {},
     "output_type": "execute_result"
    }
   ],
   "source": [
    "# Show the list variable again.\n",
    "np_random"
   ]
  },
  {
   "cell_type": "code",
   "execution_count": 77,
   "metadata": {},
   "outputs": [],
   "source": [
    "# two conditions\n",
    "more_than_50_list = []\n",
    "less_than_50_list = []\n",
    "\n",
    "for element in np_random:\n",
    "    if element > 50:\n",
    "        # If element is more than 50, store the variable to the list of more_than_50_list\n",
    "        more_than_50_list.append(element) \n",
    "    else:\n",
    "        # If above condition is not met, store the remaining to the list of less_than_50_list\n",
    "        less_than_50_list.append(element) "
   ]
  },
  {
   "cell_type": "code",
   "execution_count": 78,
   "metadata": {},
   "outputs": [
    {
     "name": "stdout",
     "output_type": "stream",
     "text": [
      "More than 50\n",
      " [81, 75, 66]\n",
      "Less than 50\n",
      " [26, 17, 23, 4, 2, 40, 5]\n"
     ]
    }
   ],
   "source": [
    "print('More than 50\\n', more_than_50_list)\n",
    "print('Less than 50\\n', less_than_50_list)"
   ]
  },
  {
   "cell_type": "code",
   "execution_count": 79,
   "metadata": {},
   "outputs": [],
   "source": [
    "# multiple conditions\n",
    "small_number_list = []\n",
    "mid_number_list = []\n",
    "large_number_list = []\n",
    "\n",
    "for element in np_random:\n",
    "    if element > 30 and element < 60:\n",
    "        #  Store number between 30 and 60 to mid_number_list\n",
    "        mid_number_list.append(element) \n",
    "    elif element >= 60:\n",
    "        #  Store number more than 60 to large_number_list\n",
    "        large_number_list.append(element)\n",
    "    else:\n",
    "        small_number_list.append(element)"
   ]
  },
  {
   "cell_type": "code",
   "execution_count": 80,
   "metadata": {},
   "outputs": [
    {
     "name": "stdout",
     "output_type": "stream",
     "text": [
      "Small Number (0-30):\n",
      " [26, 17, 23, 4, 2, 5]\n",
      "Mid Number (30-60):\n",
      " [40]\n",
      "Large Number (60-100):\n",
      " [81, 75, 66]\n"
     ]
    }
   ],
   "source": [
    "print('Small Number (0-30):\\n', small_number_list)\n",
    "print('Mid Number (30-60):\\n', mid_number_list)\n",
    "print('Large Number (60-100):\\n', large_number_list)"
   ]
  },
  {
   "cell_type": "markdown",
   "metadata": {},
   "source": [
    "# 4. Pandas - Intro\n",
    "<img src=\"https://upload.wikimedia.org/wikipedia/commons/0/0f/Grosser_Panda.JPG\" alt=\"Panda\" style = \"width: 250px;\">\n",
    "\n",
    "Pandas is another most famous library which handles **dataframe**, in other words, a table. Pandas is very powerful to work with any kind of tables which may have numbers and text. Let's take a quick look."
   ]
  },
  {
   "cell_type": "code",
   "execution_count": 81,
   "metadata": {},
   "outputs": [],
   "source": [
    "# As convention, pandas is called as pd for a shorthand name.\n",
    "import pandas as pd"
   ]
  },
  {
   "cell_type": "markdown",
   "metadata": {},
   "source": [
    "We'll reveiw the following [excel version of JICA's annual report](https://www.jica.go.jp/about/report/2020/ku57pq00002mxr2q-att/chart01_01.xls). Look into **\"P16　図表-3\"**.\n"
   ]
  },
  {
   "cell_type": "markdown",
   "metadata": {},
   "source": [
    "なお、ローカル環境でPythonを動かしている方は、以下でエラーが出る可能性があります。エラーの原因はPandasでエクセルを読み込むための、`xlrd`というdependencyファイルがないためです。同様のエラーが出た方は、以下をコマンドで実行ください。\n",
    "\n",
    "`conda install -c anaconda xlrd`"
   ]
  },
  {
   "cell_type": "code",
   "execution_count": 82,
   "metadata": {},
   "outputs": [
    {
     "data": {
      "text/html": [
       "<div>\n",
       "<style scoped>\n",
       "    .dataframe tbody tr th:only-of-type {\n",
       "        vertical-align: middle;\n",
       "    }\n",
       "\n",
       "    .dataframe tbody tr th {\n",
       "        vertical-align: top;\n",
       "    }\n",
       "\n",
       "    .dataframe thead th {\n",
       "        text-align: right;\n",
       "    }\n",
       "</style>\n",
       "<table border=\"1\" class=\"dataframe\">\n",
       "  <thead>\n",
       "    <tr style=\"text-align: right;\">\n",
       "      <th></th>\n",
       "      <th>Unnamed: 0</th>\n",
       "      <th>Unnamed: 1</th>\n",
       "      <th>Unnamed: 2</th>\n",
       "      <th>Unnamed: 3</th>\n",
       "      <th>Unnamed: 4</th>\n",
       "      <th>Unnamed: 5</th>\n",
       "      <th>Unnamed: 6</th>\n",
       "      <th>Unnamed: 7</th>\n",
       "      <th>Unnamed: 8</th>\n",
       "      <th>Unnamed: 9</th>\n",
       "      <th>Unnamed: 10</th>\n",
       "      <th>Unnamed: 11</th>\n",
       "    </tr>\n",
       "  </thead>\n",
       "  <tbody>\n",
       "    <tr>\n",
       "      <th>0</th>\n",
       "      <td>NaN</td>\n",
       "      <td>図表-2　 日本のODA実績［2019年（暦年）、暫定値］</td>\n",
       "      <td>NaN</td>\n",
       "      <td>NaN</td>\n",
       "      <td>NaN</td>\n",
       "      <td>NaN</td>\n",
       "      <td>NaN</td>\n",
       "      <td>NaN</td>\n",
       "      <td>NaN</td>\n",
       "      <td>NaN</td>\n",
       "      <td>NaN</td>\n",
       "      <td>NaN</td>\n",
       "    </tr>\n",
       "    <tr>\n",
       "      <th>1</th>\n",
       "      <td>NaN</td>\n",
       "      <td>NaN</td>\n",
       "      <td>NaN</td>\n",
       "      <td>NaN</td>\n",
       "      <td>NaN</td>\n",
       "      <td>NaN</td>\n",
       "      <td>NaN</td>\n",
       "      <td>NaN</td>\n",
       "      <td>NaN</td>\n",
       "      <td>NaN</td>\n",
       "      <td>NaN</td>\n",
       "      <td>NaN</td>\n",
       "    </tr>\n",
       "    <tr>\n",
       "      <th>2</th>\n",
       "      <td>NaN</td>\n",
       "      <td>援助実績（2019年（暦年））\\n援助形態</td>\n",
       "      <td>NaN</td>\n",
       "      <td>NaN</td>\n",
       "      <td>NaN</td>\n",
       "      <td>ドル･ベース(百万ドル)</td>\n",
       "      <td>NaN</td>\n",
       "      <td>NaN</td>\n",
       "      <td>円ベース(億円)</td>\n",
       "      <td>NaN</td>\n",
       "      <td>NaN</td>\n",
       "      <td>構成比（％）</td>\n",
       "    </tr>\n",
       "    <tr>\n",
       "      <th>3</th>\n",
       "      <td>NaN</td>\n",
       "      <td>NaN</td>\n",
       "      <td>NaN</td>\n",
       "      <td>NaN</td>\n",
       "      <td>NaN</td>\n",
       "      <td>実　績</td>\n",
       "      <td>前年実績</td>\n",
       "      <td>増減率（%）</td>\n",
       "      <td>実　績</td>\n",
       "      <td>前年実績</td>\n",
       "      <td>増減率（%）</td>\n",
       "      <td>ODA計(純額ベース)</td>\n",
       "    </tr>\n",
       "    <tr>\n",
       "      <th>4</th>\n",
       "      <td>NaN</td>\n",
       "      <td>ODA</td>\n",
       "      <td>二国間ODA</td>\n",
       "      <td>贈与</td>\n",
       "      <td>無償資金協力</td>\n",
       "      <td>2553.02</td>\n",
       "      <td>2639.75</td>\n",
       "      <td>-3.3</td>\n",
       "      <td>2783.97</td>\n",
       "      <td>2915.28</td>\n",
       "      <td>-4.5</td>\n",
       "      <td>22</td>\n",
       "    </tr>\n",
       "    <tr>\n",
       "      <th>5</th>\n",
       "      <td>NaN</td>\n",
       "      <td>NaN</td>\n",
       "      <td>NaN</td>\n",
       "      <td>NaN</td>\n",
       "      <td>技術協力※</td>\n",
       "      <td>2721.18</td>\n",
       "      <td>2651.71</td>\n",
       "      <td>2.6</td>\n",
       "      <td>2967.34</td>\n",
       "      <td>2928.49</td>\n",
       "      <td>1.3</td>\n",
       "      <td>23.5</td>\n",
       "    </tr>\n",
       "    <tr>\n",
       "      <th>6</th>\n",
       "      <td>NaN</td>\n",
       "      <td>NaN</td>\n",
       "      <td>NaN</td>\n",
       "      <td>贈与計</td>\n",
       "      <td>NaN</td>\n",
       "      <td>5274.21</td>\n",
       "      <td>5291.46</td>\n",
       "      <td>-0.3</td>\n",
       "      <td>5751.31</td>\n",
       "      <td>5843.77</td>\n",
       "      <td>-1.6</td>\n",
       "      <td>45.5</td>\n",
       "    </tr>\n",
       "    <tr>\n",
       "      <th>7</th>\n",
       "      <td>NaN</td>\n",
       "      <td>NaN</td>\n",
       "      <td>NaN</td>\n",
       "      <td>政府貸付等（純額）</td>\n",
       "      <td>NaN</td>\n",
       "      <td>2150.8</td>\n",
       "      <td>769.15</td>\n",
       "      <td>179.6</td>\n",
       "      <td>2345.35</td>\n",
       "      <td>849.43</td>\n",
       "      <td>176.1</td>\n",
       "      <td>18.5</td>\n",
       "    </tr>\n",
       "    <tr>\n",
       "      <th>8</th>\n",
       "      <td>NaN</td>\n",
       "      <td>NaN</td>\n",
       "      <td>二国間ODA計（純額ベース）</td>\n",
       "      <td>NaN</td>\n",
       "      <td>NaN</td>\n",
       "      <td>7425</td>\n",
       "      <td>6060.61</td>\n",
       "      <td>22.5</td>\n",
       "      <td>8096.66</td>\n",
       "      <td>6693.2</td>\n",
       "      <td>21</td>\n",
       "      <td>64</td>\n",
       "    </tr>\n",
       "    <tr>\n",
       "      <th>9</th>\n",
       "      <td>NaN</td>\n",
       "      <td>NaN</td>\n",
       "      <td>国際機関向け拠出・出資等計（総額・純額ベース）</td>\n",
       "      <td>NaN</td>\n",
       "      <td>NaN</td>\n",
       "      <td>4171.19</td>\n",
       "      <td>3965.38</td>\n",
       "      <td>5.2</td>\n",
       "      <td>4548.52</td>\n",
       "      <td>4379.28</td>\n",
       "      <td>3.9</td>\n",
       "      <td>35.8</td>\n",
       "    </tr>\n",
       "    <tr>\n",
       "      <th>10</th>\n",
       "      <td>NaN</td>\n",
       "      <td>ODA計(支出総額)</td>\n",
       "      <td>NaN</td>\n",
       "      <td>NaN</td>\n",
       "      <td>NaN</td>\n",
       "      <td>11596.2</td>\n",
       "      <td>10025.99</td>\n",
       "      <td>15.7</td>\n",
       "      <td>12645.18</td>\n",
       "      <td>11072.48</td>\n",
       "      <td>14.2</td>\n",
       "      <td>100</td>\n",
       "    </tr>\n",
       "    <tr>\n",
       "      <th>11</th>\n",
       "      <td>NaN</td>\n",
       "      <td>名目GNI速報値（10億ドル、10億円）</td>\n",
       "      <td>NaN</td>\n",
       "      <td>NaN</td>\n",
       "      <td>NaN</td>\n",
       "      <td>5266.61</td>\n",
       "      <td>5135.33</td>\n",
       "      <td>2.6</td>\n",
       "      <td>574302.4</td>\n",
       "      <td>567134.5</td>\n",
       "      <td>1.3</td>\n",
       "      <td>NaN</td>\n",
       "    </tr>\n",
       "    <tr>\n",
       "      <th>12</th>\n",
       "      <td>NaN</td>\n",
       "      <td>対ＧＮI比（％）：（純額ベース）</td>\n",
       "      <td>NaN</td>\n",
       "      <td>NaN</td>\n",
       "      <td>NaN</td>\n",
       "      <td>0.22</td>\n",
       "      <td>0.2</td>\n",
       "      <td>NaN</td>\n",
       "      <td>0.22</td>\n",
       "      <td>0.2</td>\n",
       "      <td>NaN</td>\n",
       "      <td>NaN</td>\n",
       "    </tr>\n",
       "    <tr>\n",
       "      <th>13</th>\n",
       "      <td>NaN</td>\n",
       "      <td>NaN</td>\n",
       "      <td>NaN</td>\n",
       "      <td>NaN</td>\n",
       "      <td>NaN</td>\n",
       "      <td>NaN</td>\n",
       "      <td>NaN</td>\n",
       "      <td>NaN</td>\n",
       "      <td>NaN</td>\n",
       "      <td>NaN</td>\n",
       "      <td>NaN</td>\n",
       "      <td>NaN</td>\n",
       "    </tr>\n",
       "    <tr>\n",
       "      <th>14</th>\n",
       "      <td>NaN</td>\n",
       "      <td>（注）</td>\n",
       "      <td>1</td>\n",
       "      <td>上記には卒業国向けの援助を含んでいます。卒業国向け援助を除いた実績の詳細は、別冊資料編の表1...</td>\n",
       "      <td>NaN</td>\n",
       "      <td>NaN</td>\n",
       "      <td>NaN</td>\n",
       "      <td>NaN</td>\n",
       "      <td>NaN</td>\n",
       "      <td>NaN</td>\n",
       "      <td>NaN</td>\n",
       "      <td>NaN</td>\n",
       "    </tr>\n",
       "    <tr>\n",
       "      <th>15</th>\n",
       "      <td>NaN</td>\n",
       "      <td>NaN</td>\n",
       "      <td>2</td>\n",
       "      <td>DAC諸国以外の卒業国で支出実績を有するのは次の16カ国・地域：アラブ首長国連邦、ウルグアイ...</td>\n",
       "      <td>NaN</td>\n",
       "      <td>NaN</td>\n",
       "      <td>NaN</td>\n",
       "      <td>NaN</td>\n",
       "      <td>NaN</td>\n",
       "      <td>NaN</td>\n",
       "      <td>NaN</td>\n",
       "      <td>NaN</td>\n",
       "    </tr>\n",
       "    <tr>\n",
       "      <th>16</th>\n",
       "      <td>NaN</td>\n",
       "      <td>NaN</td>\n",
       "      <td>3</td>\n",
       "      <td>2019年DAC指定レート: 1ドル=109.0459円（2018年比、1.3919円の円高）</td>\n",
       "      <td>NaN</td>\n",
       "      <td>NaN</td>\n",
       "      <td>NaN</td>\n",
       "      <td>NaN</td>\n",
       "      <td>NaN</td>\n",
       "      <td>NaN</td>\n",
       "      <td>NaN</td>\n",
       "      <td>NaN</td>\n",
       "    </tr>\n",
       "    <tr>\n",
       "      <th>17</th>\n",
       "      <td>NaN</td>\n",
       "      <td>NaN</td>\n",
       "      <td>4</td>\n",
       "      <td>四捨五入の関係上､各形態の計が一致しないことがあります｡</td>\n",
       "      <td>NaN</td>\n",
       "      <td>NaN</td>\n",
       "      <td>NaN</td>\n",
       "      <td>NaN</td>\n",
       "      <td>NaN</td>\n",
       "      <td>NaN</td>\n",
       "      <td>NaN</td>\n",
       "      <td>NaN</td>\n",
       "    </tr>\n",
       "    <tr>\n",
       "      <th>18</th>\n",
       "      <td>NaN</td>\n",
       "      <td>NaN</td>\n",
       "      <td>5</td>\n",
       "      <td>債務救済は、商業上の債務の免除であり、債務繰延は含みません。</td>\n",
       "      <td>NaN</td>\n",
       "      <td>NaN</td>\n",
       "      <td>NaN</td>\n",
       "      <td>NaN</td>\n",
       "      <td>NaN</td>\n",
       "      <td>NaN</td>\n",
       "      <td>NaN</td>\n",
       "      <td>NaN</td>\n",
       "    </tr>\n",
       "    <tr>\n",
       "      <th>19</th>\n",
       "      <td>NaN</td>\n",
       "      <td>NaN</td>\n",
       "      <td>6</td>\n",
       "      <td>従来、国際機関を通じた贈与は「国際機関向け拠出・出資等」として計上してきましたが、2006年...</td>\n",
       "      <td>NaN</td>\n",
       "      <td>NaN</td>\n",
       "      <td>NaN</td>\n",
       "      <td>NaN</td>\n",
       "      <td>NaN</td>\n",
       "      <td>NaN</td>\n",
       "      <td>NaN</td>\n",
       "      <td>NaN</td>\n",
       "    </tr>\n",
       "    <tr>\n",
       "      <th>20</th>\n",
       "      <td>NaN</td>\n",
       "      <td>NaN</td>\n",
       "      <td>7</td>\n",
       "      <td>技術協力に含めてきたNGO事業補助金については、2011年実績より各国の無償資金協力に含める...</td>\n",
       "      <td>NaN</td>\n",
       "      <td>NaN</td>\n",
       "      <td>NaN</td>\n",
       "      <td>NaN</td>\n",
       "      <td>NaN</td>\n",
       "      <td>NaN</td>\n",
       "      <td>NaN</td>\n",
       "      <td>NaN</td>\n",
       "    </tr>\n",
       "    <tr>\n",
       "      <th>21</th>\n",
       "      <td>NaN</td>\n",
       "      <td>NaN</td>\n",
       "      <td>8</td>\n",
       "      <td>本データは外務省提供によるもの。前年実績は確定値を掲載。</td>\n",
       "      <td>NaN</td>\n",
       "      <td>NaN</td>\n",
       "      <td>NaN</td>\n",
       "      <td>NaN</td>\n",
       "      <td>NaN</td>\n",
       "      <td>NaN</td>\n",
       "      <td>NaN</td>\n",
       "      <td>NaN</td>\n",
       "    </tr>\n",
       "    <tr>\n",
       "      <th>22</th>\n",
       "      <td>NaN</td>\n",
       "      <td>※</td>\n",
       "      <td>技術協力に行政経費・開発啓発費を含みます。</td>\n",
       "      <td>NaN</td>\n",
       "      <td>NaN</td>\n",
       "      <td>NaN</td>\n",
       "      <td>NaN</td>\n",
       "      <td>NaN</td>\n",
       "      <td>NaN</td>\n",
       "      <td>NaN</td>\n",
       "      <td>NaN</td>\n",
       "      <td>NaN</td>\n",
       "    </tr>\n",
       "  </tbody>\n",
       "</table>\n",
       "</div>"
      ],
      "text/plain": [
       "    Unnamed: 0                             Unnamed: 1  \\\n",
       "0          NaN          図表-2　 日本のODA実績［2019年（暦年）、暫定値］   \n",
       "1          NaN                                    NaN   \n",
       "2          NaN  　　　　　　　　　　　　　　　 援助実績（2019年（暦年））\\n援助形態   \n",
       "3          NaN                                    NaN   \n",
       "4          NaN                                    ODA   \n",
       "5          NaN                                    NaN   \n",
       "6          NaN                                    NaN   \n",
       "7          NaN                                    NaN   \n",
       "8          NaN                                    NaN   \n",
       "9          NaN                                    NaN   \n",
       "10         NaN                             ODA計(支出総額)   \n",
       "11         NaN                   名目GNI速報値（10億ドル、10億円）   \n",
       "12         NaN                       対ＧＮI比（％）：（純額ベース）   \n",
       "13         NaN                                    NaN   \n",
       "14         NaN                                    （注）   \n",
       "15         NaN                                    NaN   \n",
       "16         NaN                                    NaN   \n",
       "17         NaN                                    NaN   \n",
       "18         NaN                                    NaN   \n",
       "19         NaN                                    NaN   \n",
       "20         NaN                                    NaN   \n",
       "21         NaN                                    NaN   \n",
       "22         NaN                                      ※   \n",
       "\n",
       "                 Unnamed: 2  \\\n",
       "0                       NaN   \n",
       "1                       NaN   \n",
       "2                       NaN   \n",
       "3                       NaN   \n",
       "4                    二国間ODA   \n",
       "5                       NaN   \n",
       "6                       NaN   \n",
       "7                       NaN   \n",
       "8            二国間ODA計（純額ベース）   \n",
       "9   国際機関向け拠出・出資等計（総額・純額ベース）   \n",
       "10                      NaN   \n",
       "11                      NaN   \n",
       "12                      NaN   \n",
       "13                      NaN   \n",
       "14                        1   \n",
       "15                        2   \n",
       "16                        3   \n",
       "17                        4   \n",
       "18                        5   \n",
       "19                        6   \n",
       "20                        7   \n",
       "21                        8   \n",
       "22    技術協力に行政経費・開発啓発費を含みます。   \n",
       "\n",
       "                                           Unnamed: 3 Unnamed: 4  \\\n",
       "0                                                 NaN        NaN   \n",
       "1                                                 NaN        NaN   \n",
       "2                                                 NaN        NaN   \n",
       "3                                                 NaN        NaN   \n",
       "4                                                  贈与     無償資金協力   \n",
       "5                                                 NaN      技術協力※   \n",
       "6                                                 贈与計        NaN   \n",
       "7                                           政府貸付等（純額）        NaN   \n",
       "8                                                 NaN        NaN   \n",
       "9                                                 NaN        NaN   \n",
       "10                                                NaN        NaN   \n",
       "11                                                NaN        NaN   \n",
       "12                                                NaN        NaN   \n",
       "13                                                NaN        NaN   \n",
       "14  上記には卒業国向けの援助を含んでいます。卒業国向け援助を除いた実績の詳細は、別冊資料編の表1...        NaN   \n",
       "15  DAC諸国以外の卒業国で支出実績を有するのは次の16カ国・地域：アラブ首長国連邦、ウルグアイ...        NaN   \n",
       "16    2019年DAC指定レート: 1ドル=109.0459円（2018年比、1.3919円の円高）        NaN   \n",
       "17                       四捨五入の関係上､各形態の計が一致しないことがあります｡        NaN   \n",
       "18                     債務救済は、商業上の債務の免除であり、債務繰延は含みません。        NaN   \n",
       "19  従来、国際機関を通じた贈与は「国際機関向け拠出・出資等」として計上してきましたが、2006年...        NaN   \n",
       "20  技術協力に含めてきたNGO事業補助金については、2011年実績より各国の無償資金協力に含める...        NaN   \n",
       "21                       本データは外務省提供によるもの。前年実績は確定値を掲載。        NaN   \n",
       "22                                                NaN        NaN   \n",
       "\n",
       "      Unnamed: 5 Unnamed: 6 Unnamed: 7 Unnamed: 8 Unnamed: 9 Unnamed: 10  \\\n",
       "0            NaN        NaN        NaN        NaN        NaN         NaN   \n",
       "1            NaN        NaN        NaN        NaN        NaN         NaN   \n",
       "2   ドル･ベース(百万ドル)        NaN        NaN   円ベース(億円)        NaN         NaN   \n",
       "3            実　績       前年実績     増減率（%）        実　績       前年実績      増減率（%）   \n",
       "4        2553.02    2639.75       -3.3    2783.97    2915.28        -4.5   \n",
       "5        2721.18    2651.71        2.6    2967.34    2928.49         1.3   \n",
       "6        5274.21    5291.46       -0.3    5751.31    5843.77        -1.6   \n",
       "7         2150.8     769.15      179.6    2345.35     849.43       176.1   \n",
       "8           7425    6060.61       22.5    8096.66     6693.2          21   \n",
       "9        4171.19    3965.38        5.2    4548.52    4379.28         3.9   \n",
       "10       11596.2   10025.99       15.7   12645.18   11072.48        14.2   \n",
       "11       5266.61    5135.33        2.6   574302.4   567134.5         1.3   \n",
       "12          0.22        0.2        NaN       0.22        0.2         NaN   \n",
       "13           NaN        NaN        NaN        NaN        NaN         NaN   \n",
       "14           NaN        NaN        NaN        NaN        NaN         NaN   \n",
       "15           NaN        NaN        NaN        NaN        NaN         NaN   \n",
       "16           NaN        NaN        NaN        NaN        NaN         NaN   \n",
       "17           NaN        NaN        NaN        NaN        NaN         NaN   \n",
       "18           NaN        NaN        NaN        NaN        NaN         NaN   \n",
       "19           NaN        NaN        NaN        NaN        NaN         NaN   \n",
       "20           NaN        NaN        NaN        NaN        NaN         NaN   \n",
       "21           NaN        NaN        NaN        NaN        NaN         NaN   \n",
       "22           NaN        NaN        NaN        NaN        NaN         NaN   \n",
       "\n",
       "    Unnamed: 11  \n",
       "0           NaN  \n",
       "1           NaN  \n",
       "2        構成比（％）  \n",
       "3   ODA計(純額ベース)  \n",
       "4            22  \n",
       "5          23.5  \n",
       "6          45.5  \n",
       "7          18.5  \n",
       "8            64  \n",
       "9          35.8  \n",
       "10          100  \n",
       "11          NaN  \n",
       "12          NaN  \n",
       "13          NaN  \n",
       "14          NaN  \n",
       "15          NaN  \n",
       "16          NaN  \n",
       "17          NaN  \n",
       "18          NaN  \n",
       "19          NaN  \n",
       "20          NaN  \n",
       "21          NaN  \n",
       "22          NaN  "
      ]
     },
     "execution_count": 82,
     "metadata": {},
     "output_type": "execute_result"
    }
   ],
   "source": [
    "# Let's take a quick look at JICA's annual report.\n",
    "url = 'https://www.jica.go.jp/about/report/2020/ku57pq00002mxr2q-att/chart01_01.xls'\n",
    "scheme_wise_results = pd.read_excel(url)\n",
    "scheme_wise_results"
   ]
  },
  {
   "cell_type": "markdown",
   "metadata": {},
   "source": [
    "- The table is ugly to read. Use `.head()` method, which shows the first 5 rows.\n",
    "- `pd.read_excel` reads the first sheet if not explicitly specified. Thus, you need to specify `sheet_name`."
   ]
  },
  {
   "cell_type": "code",
   "execution_count": 83,
   "metadata": {},
   "outputs": [
    {
     "data": {
      "text/html": [
       "<div>\n",
       "<style scoped>\n",
       "    .dataframe tbody tr th:only-of-type {\n",
       "        vertical-align: middle;\n",
       "    }\n",
       "\n",
       "    .dataframe tbody tr th {\n",
       "        vertical-align: top;\n",
       "    }\n",
       "\n",
       "    .dataframe thead th {\n",
       "        text-align: right;\n",
       "    }\n",
       "</style>\n",
       "<table border=\"1\" class=\"dataframe\">\n",
       "  <thead>\n",
       "    <tr style=\"text-align: right;\">\n",
       "      <th></th>\n",
       "      <th>Unnamed: 0</th>\n",
       "      <th>Unnamed: 1</th>\n",
       "      <th>Unnamed: 2</th>\n",
       "      <th>Unnamed: 3</th>\n",
       "      <th>Unnamed: 4</th>\n",
       "      <th>Unnamed: 5</th>\n",
       "      <th>Unnamed: 6</th>\n",
       "      <th>Unnamed: 7</th>\n",
       "      <th>Unnamed: 8</th>\n",
       "      <th>Unnamed: 9</th>\n",
       "      <th>Unnamed: 10</th>\n",
       "      <th>Unnamed: 11</th>\n",
       "    </tr>\n",
       "  </thead>\n",
       "  <tbody>\n",
       "    <tr>\n",
       "      <th>0</th>\n",
       "      <td>NaN</td>\n",
       "      <td>図表-2　 日本のODA実績［2019年（暦年）、暫定値］</td>\n",
       "      <td>NaN</td>\n",
       "      <td>NaN</td>\n",
       "      <td>NaN</td>\n",
       "      <td>NaN</td>\n",
       "      <td>NaN</td>\n",
       "      <td>NaN</td>\n",
       "      <td>NaN</td>\n",
       "      <td>NaN</td>\n",
       "      <td>NaN</td>\n",
       "      <td>NaN</td>\n",
       "    </tr>\n",
       "    <tr>\n",
       "      <th>1</th>\n",
       "      <td>NaN</td>\n",
       "      <td>NaN</td>\n",
       "      <td>NaN</td>\n",
       "      <td>NaN</td>\n",
       "      <td>NaN</td>\n",
       "      <td>NaN</td>\n",
       "      <td>NaN</td>\n",
       "      <td>NaN</td>\n",
       "      <td>NaN</td>\n",
       "      <td>NaN</td>\n",
       "      <td>NaN</td>\n",
       "      <td>NaN</td>\n",
       "    </tr>\n",
       "    <tr>\n",
       "      <th>2</th>\n",
       "      <td>NaN</td>\n",
       "      <td>援助実績（2019年（暦年））\\n援助形態</td>\n",
       "      <td>NaN</td>\n",
       "      <td>NaN</td>\n",
       "      <td>NaN</td>\n",
       "      <td>ドル･ベース(百万ドル)</td>\n",
       "      <td>NaN</td>\n",
       "      <td>NaN</td>\n",
       "      <td>円ベース(億円)</td>\n",
       "      <td>NaN</td>\n",
       "      <td>NaN</td>\n",
       "      <td>構成比（％）</td>\n",
       "    </tr>\n",
       "    <tr>\n",
       "      <th>3</th>\n",
       "      <td>NaN</td>\n",
       "      <td>NaN</td>\n",
       "      <td>NaN</td>\n",
       "      <td>NaN</td>\n",
       "      <td>NaN</td>\n",
       "      <td>実　績</td>\n",
       "      <td>前年実績</td>\n",
       "      <td>増減率（%）</td>\n",
       "      <td>実　績</td>\n",
       "      <td>前年実績</td>\n",
       "      <td>増減率（%）</td>\n",
       "      <td>ODA計(純額ベース)</td>\n",
       "    </tr>\n",
       "    <tr>\n",
       "      <th>4</th>\n",
       "      <td>NaN</td>\n",
       "      <td>ODA</td>\n",
       "      <td>二国間ODA</td>\n",
       "      <td>贈与</td>\n",
       "      <td>無償資金協力</td>\n",
       "      <td>2553.02</td>\n",
       "      <td>2639.75</td>\n",
       "      <td>-3.3</td>\n",
       "      <td>2783.97</td>\n",
       "      <td>2915.28</td>\n",
       "      <td>-4.5</td>\n",
       "      <td>22</td>\n",
       "    </tr>\n",
       "  </tbody>\n",
       "</table>\n",
       "</div>"
      ],
      "text/plain": [
       "   Unnamed: 0                             Unnamed: 1 Unnamed: 2 Unnamed: 3  \\\n",
       "0         NaN          図表-2　 日本のODA実績［2019年（暦年）、暫定値］        NaN        NaN   \n",
       "1         NaN                                    NaN        NaN        NaN   \n",
       "2         NaN  　　　　　　　　　　　　　　　 援助実績（2019年（暦年））\\n援助形態        NaN        NaN   \n",
       "3         NaN                                    NaN        NaN        NaN   \n",
       "4         NaN                                    ODA     二国間ODA         贈与   \n",
       "\n",
       "  Unnamed: 4    Unnamed: 5 Unnamed: 6 Unnamed: 7 Unnamed: 8 Unnamed: 9  \\\n",
       "0        NaN           NaN        NaN        NaN        NaN        NaN   \n",
       "1        NaN           NaN        NaN        NaN        NaN        NaN   \n",
       "2        NaN  ドル･ベース(百万ドル)        NaN        NaN   円ベース(億円)        NaN   \n",
       "3        NaN           実　績       前年実績     増減率（%）        実　績       前年実績   \n",
       "4     無償資金協力       2553.02    2639.75       -3.3    2783.97    2915.28   \n",
       "\n",
       "  Unnamed: 10  Unnamed: 11  \n",
       "0         NaN          NaN  \n",
       "1         NaN          NaN  \n",
       "2         NaN       構成比（％）  \n",
       "3      増減率（%）  ODA計(純額ベース)  \n",
       "4        -4.5           22  "
      ]
     },
     "execution_count": 83,
     "metadata": {},
     "output_type": "execute_result"
    }
   ],
   "source": [
    "scheme_wise_results.head()"
   ]
  },
  {
   "cell_type": "code",
   "execution_count": 84,
   "metadata": {},
   "outputs": [],
   "source": [
    "# Let's make sure you assign the sheet_name\n",
    "scheme_wise_results = pd.read_excel(url, sheet_name='P16　図表-3', header=4) # header= is from which rows you want to read."
   ]
  },
  {
   "cell_type": "code",
   "execution_count": 85,
   "metadata": {},
   "outputs": [
    {
     "data": {
      "text/html": [
       "<div>\n",
       "<style scoped>\n",
       "    .dataframe tbody tr th:only-of-type {\n",
       "        vertical-align: middle;\n",
       "    }\n",
       "\n",
       "    .dataframe tbody tr th {\n",
       "        vertical-align: top;\n",
       "    }\n",
       "\n",
       "    .dataframe thead th {\n",
       "        text-align: right;\n",
       "    }\n",
       "</style>\n",
       "<table border=\"1\" class=\"dataframe\">\n",
       "  <thead>\n",
       "    <tr style=\"text-align: right;\">\n",
       "      <th></th>\n",
       "      <th>Unnamed: 0</th>\n",
       "      <th>形態</th>\n",
       "      <th>金額</th>\n",
       "    </tr>\n",
       "  </thead>\n",
       "  <tbody>\n",
       "    <tr>\n",
       "      <th>0</th>\n",
       "      <td>NaN</td>\n",
       "      <td>技術協力※１</td>\n",
       "      <td>1751.0</td>\n",
       "    </tr>\n",
       "    <tr>\n",
       "      <th>1</th>\n",
       "      <td>NaN</td>\n",
       "      <td>有償資金協力※2</td>\n",
       "      <td>15232.0</td>\n",
       "    </tr>\n",
       "    <tr>\n",
       "      <th>2</th>\n",
       "      <td>NaN</td>\n",
       "      <td>無償資金協力※3</td>\n",
       "      <td>856.0</td>\n",
       "    </tr>\n",
       "    <tr>\n",
       "      <th>3</th>\n",
       "      <td>NaN</td>\n",
       "      <td>NaN</td>\n",
       "      <td>NaN</td>\n",
       "    </tr>\n",
       "    <tr>\n",
       "      <th>4</th>\n",
       "      <td>NaN</td>\n",
       "      <td>※１　有償資金協力勘定予算による技術支援等を含み、管理費を除く技術協力経費実績</td>\n",
       "      <td>NaN</td>\n",
       "    </tr>\n",
       "  </tbody>\n",
       "</table>\n",
       "</div>"
      ],
      "text/plain": [
       "   Unnamed: 0                                       形態       金額\n",
       "0         NaN                                   技術協力※１   1751.0\n",
       "1         NaN                                 有償資金協力※2  15232.0\n",
       "2         NaN                                 無償資金協力※3    856.0\n",
       "3         NaN                                      NaN      NaN\n",
       "4         NaN  ※１　有償資金協力勘定予算による技術支援等を含み、管理費を除く技術協力経費実績      NaN"
      ]
     },
     "execution_count": 85,
     "metadata": {},
     "output_type": "execute_result"
    }
   ],
   "source": [
    "scheme_wise_results.head()"
   ]
  },
  {
   "cell_type": "markdown",
   "metadata": {},
   "source": [
    "Sounds like that you read the correct sheet, but this is still little ugly.  \n",
    "Let's extract what you want - rows 0-2 and columns of 形態 and 金額"
   ]
  },
  {
   "cell_type": "code",
   "execution_count": 86,
   "metadata": {},
   "outputs": [],
   "source": [
    "# iloc method can extract what you need to use. In this case, rows should be up to 2, columns should be after 形態.\n",
    "scheme_wise_results = scheme_wise_results.iloc[:3, 1:] #  :3 = 0-2, 1: = select all after index 1"
   ]
  },
  {
   "cell_type": "code",
   "execution_count": 87,
   "metadata": {},
   "outputs": [
    {
     "data": {
      "text/html": [
       "<div>\n",
       "<style scoped>\n",
       "    .dataframe tbody tr th:only-of-type {\n",
       "        vertical-align: middle;\n",
       "    }\n",
       "\n",
       "    .dataframe tbody tr th {\n",
       "        vertical-align: top;\n",
       "    }\n",
       "\n",
       "    .dataframe thead th {\n",
       "        text-align: right;\n",
       "    }\n",
       "</style>\n",
       "<table border=\"1\" class=\"dataframe\">\n",
       "  <thead>\n",
       "    <tr style=\"text-align: right;\">\n",
       "      <th></th>\n",
       "      <th>形態</th>\n",
       "      <th>金額</th>\n",
       "    </tr>\n",
       "  </thead>\n",
       "  <tbody>\n",
       "    <tr>\n",
       "      <th>0</th>\n",
       "      <td>技術協力※１</td>\n",
       "      <td>1751.0</td>\n",
       "    </tr>\n",
       "    <tr>\n",
       "      <th>1</th>\n",
       "      <td>有償資金協力※2</td>\n",
       "      <td>15232.0</td>\n",
       "    </tr>\n",
       "    <tr>\n",
       "      <th>2</th>\n",
       "      <td>無償資金協力※3</td>\n",
       "      <td>856.0</td>\n",
       "    </tr>\n",
       "  </tbody>\n",
       "</table>\n",
       "</div>"
      ],
      "text/plain": [
       "         形態       金額\n",
       "0    技術協力※１   1751.0\n",
       "1  有償資金協力※2  15232.0\n",
       "2  無償資金協力※3    856.0"
      ]
     },
     "execution_count": 87,
     "metadata": {},
     "output_type": "execute_result"
    }
   ],
   "source": [
    "scheme_wise_results"
   ]
  },
  {
   "cell_type": "markdown",
   "metadata": {},
   "source": [
    "---\n",
    "今週は以上。\n",
    "  \n",
    "  \n",
    "来週はPandasをDeep Dive！\n",
    "関心ある人は[10 minutes to Pandas](https://pandas.pydata.org/pandas-docs/stable/user_guide/10min.html)をみてください。"
   ]
  },
  {
   "cell_type": "code",
   "execution_count": null,
   "metadata": {},
   "outputs": [],
   "source": []
  },
  {
   "cell_type": "markdown",
   "metadata": {},
   "source": [
    "---"
   ]
  },
  {
   "cell_type": "code",
   "execution_count": 88,
   "metadata": {},
   "outputs": [
    {
     "data": {
      "text/html": [
       "<script>\n",
       "code_show=true; \n",
       "function code_toggle() {\n",
       "    if (code_show){\n",
       "        $('div.cell.code_cell.rendered.selected div.input').hide();\n",
       "    } else {\n",
       "        $('div.cell.code_cell.rendered.selected div.input').show();\n",
       "    }\n",
       "    code_show = !code_show\n",
       "} \n",
       "$( document ).ready(code_toggle);\n",
       "</script>\n",
       "Creating requirements.txt file. To show/hide this cell's raw code input, click <a href=\"javascript:code_toggle()\">here</a>."
      ],
      "text/plain": [
       "<IPython.core.display.HTML object>"
      ]
     },
     "metadata": {},
     "output_type": "display_data"
    },
    {
     "name": "stdout",
     "output_type": "stream",
     "text": [
      "Create \"requirements.txt\"\n",
      "\tpandas==1.2.4\n",
      "\tnumpy==1.20.2\n",
      "\tmatplotlib==3.3.4\n",
      "\"requirements.txt\" was created.\n"
     ]
    }
   ],
   "source": [
    "# This cell is to create a config file.\n",
    "# Hiding this cell for authority\n",
    "\n",
    "# Hiding celll from https://gist.github.com/Zsailer/5d1f4e357c78409dd9a5a4e5c61be552\n",
    "from IPython.display import HTML\n",
    "from IPython.display import display\n",
    "\n",
    "# Taken from https://stackoverflow.com/questions/31517194/how-to-hide-one-specific-cell-input-or-output-in-ipython-notebook\n",
    "tag = HTML('''<script>\n",
    "code_show=true; \n",
    "function code_toggle() {\n",
    "    if (code_show){\n",
    "        $('div.cell.code_cell.rendered.selected div.input').hide();\n",
    "    } else {\n",
    "        $('div.cell.code_cell.rendered.selected div.input').show();\n",
    "    }\n",
    "    code_show = !code_show\n",
    "} \n",
    "$( document ).ready(code_toggle);\n",
    "</script>\n",
    "Creating requirements.txt file. To show/hide this cell's raw code input, click <a href=\"javascript:code_toggle()\">here</a>.''')\n",
    "display(tag)\n",
    "\n",
    "############### Write code below ##################\n",
    "# Config file to freeze packages in a notebook\n",
    "# from https://stackoverflow.com/questions/40428931/package-for-listing-version-of-packages-used-in-a-jupyter-notebook\n",
    "import pkg_resources\n",
    "import types\n",
    "\n",
    "def get_requirements():\n",
    "    def get_imports():\n",
    "        for name, val in globals().items():\n",
    "            if isinstance(val, types.ModuleType):\n",
    "                # Split ensures you get root package, \n",
    "                # not just imported function\n",
    "                name = val.__name__.split(\".\")[0]\n",
    "\n",
    "            elif isinstance(val, type):\n",
    "                name = val.__module__.split(\".\")[0]\n",
    "\n",
    "            # Some packages are weird and have different\n",
    "            # imported names vs. system/pip names. Unfortunately,\n",
    "            # there is no systematic way to get pip names from\n",
    "            # a package's imported name. You'll have to add\n",
    "            # exceptions to this list manually!\n",
    "            poorly_named_packages = {\n",
    "                \"PIL\": \"Pillow\",\n",
    "                \"sklearn\": \"scikit-learn\"\n",
    "            }\n",
    "            if name in poorly_named_packages.keys():\n",
    "                name = poorly_named_packages[name]\n",
    "\n",
    "            yield name\n",
    "    imports = list(set(get_imports()))\n",
    "\n",
    "    # The only way I found to get the version of the root package\n",
    "    # from only the name of the package is to cross-check the names \n",
    "    # of installed packages vs. imported packages\n",
    "    requirements = []\n",
    "    for m in pkg_resources.working_set:\n",
    "        if m.project_name in imports and m.project_name!=\"pip\":\n",
    "            requirements.append((m.project_name, m.version))\n",
    "\n",
    "    \n",
    "    with open(\"requirements.txt\", \"w\") as f:\n",
    "        print('Create \"requirements.txt\"')\n",
    "        for r in requirements:\n",
    "            string = r[0] + '==' + r[1] + '\\n'\n",
    "            f.write(string)\n",
    "            print(\"\\t{}=={}\".format(*r))\n",
    "    print('\"requirements.txt\" was created.')\n",
    "        \n",
    "get_requirements()"
   ]
  },
  {
   "cell_type": "code",
   "execution_count": null,
   "metadata": {},
   "outputs": [],
   "source": []
  }
 ],
 "metadata": {
  "kernelspec": {
   "display_name": "JICA_training",
   "language": "python",
   "name": "jica"
  },
  "language_info": {
   "codemirror_mode": {
    "name": "ipython",
    "version": 3
   },
   "file_extension": ".py",
   "mimetype": "text/x-python",
   "name": "python",
   "nbconvert_exporter": "python",
   "pygments_lexer": "ipython3",
   "version": "3.9.5"
  }
 },
 "nbformat": 4,
 "nbformat_minor": 4
}
