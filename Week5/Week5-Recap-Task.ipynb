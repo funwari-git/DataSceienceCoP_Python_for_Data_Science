{
 "cells": [
  {
   "cell_type": "markdown",
   "id": "702aa9f7",
   "metadata": {},
   "source": [
    "<table width=100%; style=\"background-color:#caf0fa\";>\n",
    "    <tr style=\"background-color:#caf0fa\">\n",
    "        <td>\n",
    "            <h1 style=\"text-align:right\">\n",
    "                Python for Data Science Training - Week 5\n",
    "            </h1>\n",
    "        </td>\n",
    "        <td>\n",
    "            <img src=\"../img/jica-logo.png\" alt = \"JICA Training\" style = \"width: 100px;\"/>\n",
    "        </td>\n",
    "    </tr>\n",
    "</table>\n",
    "\n",
    "# Recap\n"
   ]
  },
  {
   "cell_type": "code",
   "execution_count": null,
   "id": "835a4c2e",
   "metadata": {},
   "outputs": [],
   "source": [
    "# Numpy, Pandas, Matplotlib.pyplotをインポートしてください。ヒント：import xx\n"
   ]
  },
  {
   "cell_type": "markdown",
   "id": "7598527f",
   "metadata": {},
   "source": [
    "# 1. Read CSV data and view first and last 5 rows"
   ]
  },
  {
   "cell_type": "code",
   "execution_count": null,
   "id": "92c233c1",
   "metadata": {},
   "outputs": [],
   "source": [
    "# dataフォルダーにある\"List_of_countries_by_population.csv\"をPandasで読み込んでください。ヒント：pd.read_csv\n"
   ]
  },
  {
   "cell_type": "code",
   "execution_count": null,
   "id": "53bc5950",
   "metadata": {},
   "outputs": [],
   "source": [
    "# 最初の５行を表示してください。ヒント：.head()\n"
   ]
  },
  {
   "cell_type": "code",
   "execution_count": null,
   "id": "17f7b359",
   "metadata": {},
   "outputs": [],
   "source": [
    "# 最後の５行を表示してください。ヒント：.tail()\n"
   ]
  },
  {
   "cell_type": "markdown",
   "id": "b270e519",
   "metadata": {},
   "source": [
    "# 2. Check data types"
   ]
  },
  {
   "cell_type": "code",
   "execution_count": null,
   "id": "3f7f1e94",
   "metadata": {},
   "outputs": [],
   "source": [
    "# データタイプをチェックしてください。ヒント：.dtypes\n"
   ]
  },
  {
   "cell_type": "markdown",
   "id": "d5fdb252",
   "metadata": {},
   "source": [
    "# 3. Convert string to number (population in 2018 and 2019)"
   ]
  },
  {
   "cell_type": "code",
   "execution_count": null,
   "id": "5135d909",
   "metadata": {},
   "outputs": [],
   "source": [
    "# Population 2018とPopulation 2019をIntegerに直してください。\n"
   ]
  },
  {
   "cell_type": "markdown",
   "id": "e5c36964",
   "metadata": {},
   "source": [
    "# 4. View major statistics"
   ]
  },
  {
   "cell_type": "code",
   "execution_count": null,
   "id": "30ece136",
   "metadata": {},
   "outputs": [],
   "source": [
    "# 統計値を確認してください。ヒント：.describe()\n"
   ]
  },
  {
   "cell_type": "markdown",
   "id": "5e2e27c3",
   "metadata": {},
   "source": [
    "# 5. Sort data\n",
    "1. by region (UN_statistical)\n",
    "2. by Population 2019\n",
    "3. by region (UN_statistical) and then by population 2019."
   ]
  },
  {
   "cell_type": "code",
   "execution_count": null,
   "id": "24672d1a",
   "metadata": {},
   "outputs": [],
   "source": [
    "# 5-1 by region\n",
    "# `UN_statistical`のColumnを基準にソートしてください。ヒント：.sort_values()\n"
   ]
  },
  {
   "cell_type": "code",
   "execution_count": null,
   "id": "0d43c016",
   "metadata": {},
   "outputs": [],
   "source": [
    "# 5-2 by population 2019\n",
    "# `Population_2019`のColumnを基準にソートしてください。ヒント：.sort_values()\n"
   ]
  },
  {
   "cell_type": "code",
   "execution_count": null,
   "id": "6770c63a",
   "metadata": {},
   "outputs": [],
   "source": [
    "# 5-3 by region and population 2019\n",
    "# 'UN_statistical'と'Population_2019'の二つのColumnを基準にソートしてください。ヒント：.sort_values(by = [ , ])\n"
   ]
  },
  {
   "cell_type": "markdown",
   "id": "76e2016d",
   "metadata": {},
   "source": [
    "# 6. Create a column \"change\" by calculating percent change from 2018 to 2019"
   ]
  },
  {
   "cell_type": "code",
   "execution_count": null,
   "id": "d1f93e59",
   "metadata": {},
   "outputs": [],
   "source": [
    "# 2018年から2019年の人口の変化率を計算してください。\n"
   ]
  },
  {
   "cell_type": "markdown",
   "id": "0bfc0d31",
   "metadata": {},
   "source": [
    "# 7. Calculate the total population by continent by using `.groupby`"
   ]
  },
  {
   "cell_type": "code",
   "execution_count": null,
   "id": "cd49df1f",
   "metadata": {},
   "outputs": [],
   "source": [
    "# 地域別に２０１８年と２０１９年の人口の総計を出してください。ヒント：.groupby()\n"
   ]
  },
  {
   "cell_type": "markdown",
   "id": "f6842e8d",
   "metadata": {},
   "source": [
    "# 8. Visualize population data"
   ]
  },
  {
   "cell_type": "code",
   "execution_count": null,
   "id": "3c83fc29",
   "metadata": {},
   "outputs": [],
   "source": [
    "# 地域別の２０１８年の人口を縦棒グラフで表示してください。ヒント：.plot()\n"
   ]
  },
  {
   "cell_type": "code",
   "execution_count": null,
   "id": "e0bf6da5",
   "metadata": {},
   "outputs": [],
   "source": [
    "# 地域別の２０１８年と２０１９年の人口を縦棒グラフで表示してください。ヒント：.plot()\n"
   ]
  },
  {
   "cell_type": "code",
   "execution_count": null,
   "id": "feb622d5",
   "metadata": {},
   "outputs": [],
   "source": []
  }
 ],
 "metadata": {
  "kernelspec": {
   "display_name": "Python 3",
   "language": "python",
   "name": "python3"
  },
  "language_info": {
   "codemirror_mode": {
    "name": "ipython",
    "version": 3
   },
   "file_extension": ".py",
   "mimetype": "text/x-python",
   "name": "python",
   "nbconvert_exporter": "python",
   "pygments_lexer": "ipython3",
   "version": "3.8.8"
  }
 },
 "nbformat": 4,
 "nbformat_minor": 5
}
