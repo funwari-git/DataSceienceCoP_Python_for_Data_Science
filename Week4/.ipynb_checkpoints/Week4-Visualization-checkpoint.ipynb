{
 "cells": [
  {
   "cell_type": "markdown",
   "metadata": {},
   "source": [
    "<table width=100%; style=\"background-color:#caf0fa\";>\n",
    "    <tr style=\"background-color:#caf0fa\">\n",
    "        <td>\n",
    "            <h1 style=\"text-align:right\">\n",
    "                Python for Data Science Training - Week 4\n",
    "            </h1>\n",
    "        </td>\n",
    "        <td>\n",
    "            <img src=\"../img/jica-logo.png\" alt = \"JICA Training\" style = \"width: 100px;\"/>\n",
    "        </td>\n",
    "    </tr>\n",
    "</table>\n",
    "\n",
    "# Today's Contents\n",
    "1. Matplotlib\n",
    "2. Seaborn\n",
    "\n",
    "---\n",
    "\n",
    "# 1. Matplotlib\n",
    "Matplotlib is the most famous and popular visualization library in Python."
   ]
  },
  {
   "cell_type": "markdown",
   "metadata": {},
   "source": [
    "### Creating a Japanese language environment for matplotlib\n",
    "Matplotlibはデフォルトでは日本語を読み込む際に文字化けします。以下のように、Matplotlibの文字設定を変更しておく必要があります。  \n",
    "参考1：[Qiita matplotlibで日本語](https://qiita.com/yniji/items/3fac25c2ffa316990d0c)  \n",
    "参考2：[ESRI Japan matplotlib での日本語利用について](https://esrijapan.github.io/arcgis-dev-resources/tips/python/matplotlib-japanese/)"
   ]
  },
  {
   "cell_type": "code",
   "execution_count": null,
   "metadata": {},
   "outputs": [],
   "source": [
    "import matplotlib.font_manager as fm\n",
    "fm_list = fm.findSystemFonts()\n",
    "fm_list"
   ]
  },
  {
   "cell_type": "code",
   "execution_count": null,
   "metadata": {},
   "outputs": [],
   "source": [
    "import matplotlib.pyplot as plt\n",
    "from matplotlib import rcParams\n",
    "rcParams[\"font.family\"] = \"sans-serif\"\n",
    "rcParams['font.sans-serif'] = ['Hiragino Maru Gothic Pro', 'Yu Gothic', 'Meirio', 'Takao', 'IPAexGothic', 'IPAPGothic', 'VL PGothic', 'Noto Sans CJK JP']"
   ]
  },
  {
   "cell_type": "markdown",
   "metadata": {},
   "source": [
    "## Preprocessing"
   ]
  },
  {
   "cell_type": "code",
   "execution_count": null,
   "metadata": {},
   "outputs": [],
   "source": [
    "import pandas as pd\n",
    "import matplotlib.pyplot as plt\n",
    "%matplotlib inline\n",
    "# percent is called magic command to allow specific behaviour in the notebook."
   ]
  },
  {
   "cell_type": "code",
   "execution_count": null,
   "metadata": {},
   "outputs": [],
   "source": [
    "# 国勢調査　男女別人口－全国，都道府県（大正９年～平成27年）\n",
    "url = 'https://www.e-stat.go.jp/stat-search/file-download?statInfId=000031524010&fileKind=1'\n",
    "df = pd.read_csv(url, encoding=\"shift-jis\")"
   ]
  },
  {
   "cell_type": "code",
   "execution_count": null,
   "metadata": {},
   "outputs": [],
   "source": [
    "df.head()"
   ]
  },
  {
   "cell_type": "code",
   "execution_count": null,
   "metadata": {},
   "outputs": [],
   "source": [
    "df.isnull().sum()"
   ]
  },
  {
   "cell_type": "code",
   "execution_count": null,
   "metadata": {},
   "outputs": [],
   "source": [
    "df.tail()"
   ]
  },
  {
   "cell_type": "code",
   "execution_count": null,
   "metadata": {},
   "outputs": [],
   "source": [
    "df = df.iloc[:-2, :].reset_index(drop = True)"
   ]
  },
  {
   "cell_type": "code",
   "execution_count": null,
   "metadata": {},
   "outputs": [],
   "source": [
    "df.tail()"
   ]
  },
  {
   "cell_type": "code",
   "execution_count": null,
   "metadata": {},
   "outputs": [],
   "source": [
    "# drop columns\n",
    "df = df.drop(columns = ['元号', '和暦（年）', '注'])"
   ]
  },
  {
   "cell_type": "code",
   "execution_count": null,
   "metadata": {},
   "outputs": [],
   "source": [
    "# Change column names\n",
    "df.columns = ['code', 'pref', 'year', 'pop_total', 'pop_men', 'pop_women']"
   ]
  },
  {
   "cell_type": "code",
   "execution_count": null,
   "metadata": {},
   "outputs": [],
   "source": [
    "df.isnull().sum()"
   ]
  },
  {
   "cell_type": "code",
   "execution_count": null,
   "metadata": {},
   "outputs": [],
   "source": [
    "df.dtypes"
   ]
  },
  {
   "cell_type": "code",
   "execution_count": null,
   "metadata": {},
   "outputs": [],
   "source": [
    "# Change data type of year, pop_total, pop_men, pop_women\n",
    "df['year']  = df['year'].astype(int)\n",
    "\n",
    "# columns of pop have string values, which raise error if using .astype. Instead, use pd.to_numeric with errors options.\n",
    "# This returns non-integer as null value.\n",
    "df['pop_total'] = pd.to_numeric(df['pop_total'], errors = 'coerce')\n",
    "df['pop_men'] = pd.to_numeric(df['pop_men'], errors = 'coerce')\n",
    "df['pop_women'] = pd.to_numeric(df['pop_women'], errors = 'coerce')\n",
    "\n",
    "# drop null values\n",
    "df = df.dropna().reset_index(drop = True)"
   ]
  },
  {
   "cell_type": "code",
   "execution_count": null,
   "metadata": {},
   "outputs": [],
   "source": [
    "for col in ['pref', 'year']:\n",
    "    print('\\n' + col + ': ' , df[col].unique())"
   ]
  },
  {
   "cell_type": "code",
   "execution_count": null,
   "metadata": {},
   "outputs": [],
   "source": [
    "# Select national stats\n",
    "df_japan = df[df['pref'] == '全国'].reset_index(drop = True)\n",
    "\n",
    "# Select only prefecture\n",
    "cond1 = df['pref'] != '全国'\n",
    "cond2 = df['pref'] != '人口集中地区'\n",
    "cond3 = df['pref'] != '人口集中地区以外の地区'\n",
    "conds = cond1 & cond2 & cond3\n",
    "df_pref = df[conds].reset_index(drop = True)"
   ]
  },
  {
   "cell_type": "code",
   "execution_count": null,
   "metadata": {},
   "outputs": [],
   "source": [
    "df_japan.head()"
   ]
  },
  {
   "cell_type": "code",
   "execution_count": null,
   "metadata": {},
   "outputs": [],
   "source": [
    "df_pref.head()"
   ]
  },
  {
   "cell_type": "code",
   "execution_count": null,
   "metadata": {},
   "outputs": [],
   "source": [
    "print(df_japan['pref'].unique())\n",
    "print(df_pref['pref'].unique())"
   ]
  },
  {
   "cell_type": "code",
   "execution_count": null,
   "metadata": {},
   "outputs": [],
   "source": [
    "df_japan.dtypes"
   ]
  },
  {
   "cell_type": "code",
   "execution_count": null,
   "metadata": {},
   "outputs": [],
   "source": [
    "# Convert float to integer on pop columns\n",
    "for col in ['pop_total', 'pop_men', 'pop_women']:\n",
    "    df_japan[col] = df_japan[col].astype(int)\n",
    "    df_pref[col] = df_pref[col].astype(int)"
   ]
  },
  {
   "cell_type": "code",
   "execution_count": null,
   "metadata": {},
   "outputs": [],
   "source": [
    "df_japan.dtypes"
   ]
  },
  {
   "cell_type": "code",
   "execution_count": null,
   "metadata": {},
   "outputs": [],
   "source": [
    "df_pref.dtypes"
   ]
  },
  {
   "cell_type": "markdown",
   "metadata": {},
   "source": [
    "Finished preprocessing!!"
   ]
  },
  {
   "cell_type": "markdown",
   "metadata": {},
   "source": [
    "## Quick overview of the data"
   ]
  },
  {
   "cell_type": "code",
   "execution_count": null,
   "metadata": {},
   "outputs": [],
   "source": [
    "df_japan.describe()"
   ]
  },
  {
   "cell_type": "code",
   "execution_count": null,
   "metadata": {},
   "outputs": [],
   "source": [
    "# Plot the graph\n",
    "df_japan.plot(x = 'year')"
   ]
  },
  {
   "cell_type": "code",
   "execution_count": null,
   "metadata": {},
   "outputs": [],
   "source": [
    "# Add some labels\n",
    "df_japan.plot(x = 'year')\n",
    "plt.title('Japan\\'s population')\n",
    "plt.xlabel('Survey year')\n",
    "plt.ylabel('Population')\n",
    "plt.legend()"
   ]
  },
  {
   "cell_type": "code",
   "execution_count": null,
   "metadata": {},
   "outputs": [],
   "source": [
    "# Create new columns with million population\n",
    "df_japan['pop_total_m'] = df_japan['pop_total']/1000000\n",
    "df_japan['pop_men_m'] = df_japan['pop_men']/1000000\n",
    "df_japan['pop_women_m'] = df_japan['pop_women']/1000000"
   ]
  },
  {
   "cell_type": "code",
   "execution_count": null,
   "metadata": {},
   "outputs": [],
   "source": [
    "# Change pop variables\n",
    "df_japan.plot(x = 'year', y = ['pop_total_m', 'pop_men_m', 'pop_women_m'])\n",
    "plt.title('Japan\\'s population')\n",
    "plt.xlabel('Survey year')\n",
    "plt.ylabel('Population (million)')\n",
    "plt.legend()"
   ]
  },
  {
   "cell_type": "code",
   "execution_count": null,
   "metadata": {},
   "outputs": [],
   "source": [
    "# Check minimum and maximum years\n",
    "print('year min {}, max {}'.format(df_japan['year'].min(), df_japan['year'].max()))\n",
    "print('population min {}, max {}'.format(df_japan['pop_total_m'].min(), df_japan['pop_total_m'].max()))"
   ]
  },
  {
   "cell_type": "code",
   "execution_count": null,
   "metadata": {},
   "outputs": [],
   "source": [
    "# Add some labels\n",
    "df_japan.plot(x = 'year', y = ['pop_total_m', 'pop_men_m', 'pop_women_m'],\n",
    "              color = ['black', 'blue', 'red'], figsize = (12, 6))\n",
    "plt.title('Japan\\'s population')\n",
    "plt.xlabel('Survey year')\n",
    "plt.ylabel('Population (million)')\n",
    "plt.xticks(range(1920, 2015, 5))\n",
    "plt.yticks(range(0, 150, 20))\n",
    "plt.legend(labels = ['Total Population', 'Population (Men)', 'Population (Women)'])"
   ]
  },
  {
   "cell_type": "code",
   "execution_count": null,
   "metadata": {},
   "outputs": [],
   "source": [
    "# bar plot\n",
    "df_japan.plot.bar(x = 'year', y = 'pop_total_m')\n",
    "plt.title('Japan\\'s Total Population')\n",
    "plt.xlabel('Survey Year')\n",
    "plt.ylabel('Population (Million)')"
   ]
  },
  {
   "cell_type": "code",
   "execution_count": null,
   "metadata": {},
   "outputs": [],
   "source": [
    "# bar plot\n",
    "df_japan.plot.bar(x = 'year', y = ['pop_men_m', 'pop_women_m'], figsize = (10, 5), color = ['blue', 'red'])\n",
    "plt.title('Japan\\'s population by gender')\n",
    "plt.xlabel('Survey Year')\n",
    "plt.ylabel('Population (Million)')\n",
    "plt.legend(labels = ['Population (Men)', 'Population (Women)'])"
   ]
  },
  {
   "cell_type": "markdown",
   "metadata": {},
   "source": [
    "### Now let's look at prefecture"
   ]
  },
  {
   "cell_type": "code",
   "execution_count": null,
   "metadata": {},
   "outputs": [],
   "source": [
    "df_pref.columns"
   ]
  },
  {
   "cell_type": "code",
   "execution_count": null,
   "metadata": {},
   "outputs": [],
   "source": [
    "df_pref[['pop_total', 'pop_men', 'pop_women']].describe().T[['min', 'max']]"
   ]
  },
  {
   "cell_type": "code",
   "execution_count": null,
   "metadata": {},
   "outputs": [],
   "source": [
    "for col in ['pop_total', 'pop_men', 'pop_women']:\n",
    "    df_pref[col + '_t'] = df_pref[col] // 1000"
   ]
  },
  {
   "cell_type": "code",
   "execution_count": null,
   "metadata": {},
   "outputs": [],
   "source": [
    "df_pref.head()"
   ]
  },
  {
   "cell_type": "code",
   "execution_count": null,
   "metadata": {},
   "outputs": [],
   "source": [
    "# Show histogram\n",
    "df_pref.hist(column = ['pop_total_t'], bins  = 10)"
   ]
  },
  {
   "cell_type": "code",
   "execution_count": null,
   "metadata": {},
   "outputs": [],
   "source": [
    "# Show boxplot\n",
    "df_pref.boxplot(column = ['pop_total_t'], by = 'pref', figsize = (15, 7), )\n",
    "plt.title('県別人口ボックスプロット')\n",
    "plt.xticks(rotation = 90);"
   ]
  },
  {
   "cell_type": "markdown",
   "metadata": {},
   "source": [
    "Looking into Kanto region."
   ]
  },
  {
   "cell_type": "code",
   "execution_count": null,
   "metadata": {},
   "outputs": [],
   "source": [
    "df_pref['pref'].unique()"
   ]
  },
  {
   "cell_type": "code",
   "execution_count": null,
   "metadata": {},
   "outputs": [],
   "source": [
    "# Select prefectures in Kanto region\n",
    "kanto = ['茨城県', '栃木県', '群馬県', '埼玉県', '千葉県', '東京都', '神奈川県']\n",
    "df_kanto = df_pref.query(\"pref == @kanto\").reset_index(drop = True)"
   ]
  },
  {
   "cell_type": "code",
   "execution_count": null,
   "metadata": {},
   "outputs": [],
   "source": [
    "df_kanto.head()"
   ]
  },
  {
   "cell_type": "code",
   "execution_count": null,
   "metadata": {},
   "outputs": [],
   "source": [
    "import seaborn as sns"
   ]
  },
  {
   "cell_type": "code",
   "execution_count": null,
   "metadata": {},
   "outputs": [],
   "source": [
    "plt.figure(figsize = (15, 5))\n",
    "sns.violinplot(x = 'pref', y = 'pop_total_t', data = df_kanto, palette = 'tab20c')"
   ]
  },
  {
   "cell_type": "markdown",
   "metadata": {},
   "source": [
    "It would be more interesting if we could know gender distribution by prefecture. To do this, we need to tweak dataframe to allow Seaborn to visualize."
   ]
  },
  {
   "cell_type": "code",
   "execution_count": null,
   "metadata": {},
   "outputs": [],
   "source": [
    "# \"Melting\" data to long form.\n",
    "df_kanto_long = df_kanto.melt(id_vars = 'pref', value_vars = ['pop_men_t', 'pop_women_t'],\n",
    "                              var_name = ['gender'], value_name = 'population')\n",
    "df_kanto_long = df_kanto_long.replace({'pop_men_t':'男性', 'pop_women_t':'女性'})\n",
    "df_kanto_long.head()"
   ]
  },
  {
   "cell_type": "code",
   "execution_count": null,
   "metadata": {},
   "outputs": [],
   "source": [
    "# Finaly shows violin plot by gender\n",
    "plt.figure(figsize = (15, 5))\n",
    "sns.violinplot(x = 'pref', y = 'population', hue = 'gender', data = df_kanto_long, palette = ['#E8F1F2','#B3EFB2'])\n",
    "plt.xlabel('関東')\n",
    "plt.ylabel('人口（千人）');"
   ]
  },
  {
   "cell_type": "markdown",
   "metadata": {},
   "source": [
    "That's it!お疲れ様でした。MatplotlibやSeabornでは様々なことができるので、是非それぞれのギャラリーを確認ください。私が以前作ったグラフで、例えばムンバイで空間クラスタリングがどこでどのように発生しているかを以下の図のように作成しました。これも、Matplotlibで作っています。（図の見方は、中心点がプロジェクトの介入場所（道路整備）、外周が方角、補助線が道路からの距離、赤いドットが空間クラスタリングの発生場所です。）\n",
    "\n",
    "<img src=\"img/Mumbai_horizontal_clustering.png\" alt = \"Mumbai Horizontal Clustering\" style = \"width: 300px;\"/>\n",
    "\n",
    "Visualizationで最も手っ取り早いアプローチはサンプルやexampleを真似て、段々とオリジナリティを出していくことです。<br>\n",
    "Matplotlibのサンプルについては、[こちら](https://matplotlib.org/stable/gallery/index.html)を参照。<br>\n",
    "Seabornのサンプルについては、[こちら](https://seaborn.pydata.org/examples/index.html)を参照。<br>\n",
    "\n",
    "図のカラーリングは[Coolors](https://coolors.co/)がおすすめ。Coolorsでカラーパターンを作って、そこからHEXコードをコピーするのが最も手っ取り早いと思います。"
   ]
  },
  {
   "cell_type": "code",
   "execution_count": null,
   "metadata": {},
   "outputs": [],
   "source": []
  }
 ],
 "metadata": {
  "kernelspec": {
   "display_name": "Python 3",
   "language": "python",
   "name": "python3"
  },
  "language_info": {
   "codemirror_mode": {
    "name": "ipython",
    "version": 3
   },
   "file_extension": ".py",
   "mimetype": "text/x-python",
   "name": "python",
   "nbconvert_exporter": "python",
   "pygments_lexer": "ipython3",
   "version": "3.7.6"
  }
 },
 "nbformat": 4,
 "nbformat_minor": 4
}
