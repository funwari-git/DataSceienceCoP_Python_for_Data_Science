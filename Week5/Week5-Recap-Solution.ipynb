{
 "cells": [
  {
   "cell_type": "markdown",
   "id": "702aa9f7",
   "metadata": {},
   "source": [
    "<table width=100%; style=\"background-color:#caf0fa\";>\n",
    "    <tr style=\"background-color:#caf0fa\">\n",
    "        <td>\n",
    "            <h1 style=\"text-align:right\">\n",
    "                Python for Data Science Training - Week 5\n",
    "            </h1>\n",
    "        </td>\n",
    "        <td>\n",
    "            <img src=\"../img/jica-logo.png\" alt = \"JICA Training\" style = \"width: 100px;\"/>\n",
    "        </td>\n",
    "    </tr>\n",
    "</table>\n",
    "\n",
    "# Recap\n"
   ]
  },
  {
   "cell_type": "code",
   "execution_count": null,
   "id": "835a4c2e",
   "metadata": {},
   "outputs": [],
   "source": [
    "import pandas as pd\n",
    "import numpy as np\n",
    "import matplotlib.pyplot as plt\n",
    "%matplotlib inline"
   ]
  },
  {
   "cell_type": "code",
   "execution_count": null,
   "id": "549e196c",
   "metadata": {},
   "outputs": [],
   "source": [
    "import os\n",
    "os.listdir('data')"
   ]
  },
  {
   "cell_type": "markdown",
   "id": "7598527f",
   "metadata": {},
   "source": [
    "# 1. Read CSV data and view first and last 5 rows"
   ]
  },
  {
   "cell_type": "code",
   "execution_count": null,
   "id": "86fc6bf2",
   "metadata": {},
   "outputs": [],
   "source": [
    "os.listdir('data')"
   ]
  },
  {
   "cell_type": "code",
   "execution_count": null,
   "id": "92c233c1",
   "metadata": {},
   "outputs": [],
   "source": [
    "# read csv file\n",
    "df = pd.read_csv('data/List_of_countries_by_population.csv', encoding = 'utf-8')"
   ]
  },
  {
   "cell_type": "code",
   "execution_count": null,
   "id": "53bc5950",
   "metadata": {},
   "outputs": [],
   "source": [
    "# Looking at first 5 rows of data\n",
    "df.head()"
   ]
  },
  {
   "cell_type": "code",
   "execution_count": null,
   "id": "17f7b359",
   "metadata": {},
   "outputs": [],
   "source": [
    "# Looking at last 5 rows of data\n",
    "df.tail()"
   ]
  },
  {
   "cell_type": "markdown",
   "id": "b270e519",
   "metadata": {},
   "source": [
    "# 2. Check data types"
   ]
  },
  {
   "cell_type": "code",
   "execution_count": null,
   "id": "3f7f1e94",
   "metadata": {},
   "outputs": [],
   "source": [
    "# Check data types\n",
    "df.dtypes"
   ]
  },
  {
   "cell_type": "markdown",
   "id": "d5fdb252",
   "metadata": {},
   "source": [
    "# 3. Convert string to number (population in 2018 and 2019)"
   ]
  },
  {
   "cell_type": "code",
   "execution_count": null,
   "id": "5135d909",
   "metadata": {},
   "outputs": [],
   "source": [
    "# Take a look at an example\n",
    "df['Population_2018'][0]"
   ]
  },
  {
   "cell_type": "code",
   "execution_count": null,
   "id": "ba73b10f",
   "metadata": {},
   "outputs": [],
   "source": [
    "# Remove ','\n",
    "df['Population_2018'] = df['Population_2018'].str.replace(',', '')\n",
    "df['Population_2019'] = df['Population_2019'].str.replace(',', '')"
   ]
  },
  {
   "cell_type": "code",
   "execution_count": null,
   "id": "d3af373b",
   "metadata": {},
   "outputs": [],
   "source": [
    "# Convert string number to integer\n",
    "df['Population_2018'] = df['Population_2018'].astype(int)\n",
    "df['Population_2019'] = df['Population_2019'].astype(int)"
   ]
  },
  {
   "cell_type": "code",
   "execution_count": null,
   "id": "9c33f545",
   "metadata": {},
   "outputs": [],
   "source": [
    "df.dtypes"
   ]
  },
  {
   "cell_type": "markdown",
   "id": "e5c36964",
   "metadata": {},
   "source": [
    "# 4. View major statistics"
   ]
  },
  {
   "cell_type": "code",
   "execution_count": null,
   "id": "30ece136",
   "metadata": {},
   "outputs": [],
   "source": [
    "df.describe()"
   ]
  },
  {
   "cell_type": "markdown",
   "id": "5e2e27c3",
   "metadata": {},
   "source": [
    "# 5. Sort data\n",
    "1. by region (UN_statistical)\n",
    "2. by Population 2019\n",
    "3. by region (UN_statistical) and then by population 2019."
   ]
  },
  {
   "cell_type": "code",
   "execution_count": null,
   "id": "24672d1a",
   "metadata": {},
   "outputs": [],
   "source": [
    "# 5-1 by region\n",
    "df_sorted_by_region = df.sort_values(by = 'UN_statistical')\n",
    "df_sorted_by_region.head()"
   ]
  },
  {
   "cell_type": "code",
   "execution_count": null,
   "id": "0d43c016",
   "metadata": {},
   "outputs": [],
   "source": [
    "# 5-2 by population 2019\n",
    "df_sorted_by_population = df.sort_values(by = 'Population_2019')\n",
    "df_sorted_by_population.head()"
   ]
  },
  {
   "cell_type": "code",
   "execution_count": null,
   "id": "6770c63a",
   "metadata": {},
   "outputs": [],
   "source": [
    "# 5-3 by region and population 2019\n",
    "df_sorted_by_region_population = df.sort_values(by = ['UN_statistical', 'Population_2019'])\n",
    "df_sorted_by_region_population.head()"
   ]
  },
  {
   "cell_type": "markdown",
   "id": "76e2016d",
   "metadata": {},
   "source": [
    "# 6. Create a column \"change\" by calculating percent change from 2018 to 2019"
   ]
  },
  {
   "cell_type": "code",
   "execution_count": null,
   "id": "d1f93e59",
   "metadata": {},
   "outputs": [],
   "source": [
    "# Calculate change\n",
    "df['change'] = (df['Population_2019'] - df['Population_2018']) / df['Population_2018']"
   ]
  },
  {
   "cell_type": "code",
   "execution_count": null,
   "id": "3e434d85",
   "metadata": {},
   "outputs": [],
   "source": [
    "# Show the result\n",
    "df.head()"
   ]
  },
  {
   "cell_type": "code",
   "execution_count": null,
   "id": "ae801970",
   "metadata": {},
   "outputs": [],
   "source": [
    "# show by percent\n",
    "df['change']  = df['change'] * 100\n",
    "\n",
    "# Show the result\n",
    "df.head()"
   ]
  },
  {
   "cell_type": "code",
   "execution_count": null,
   "id": "eae1870d",
   "metadata": {},
   "outputs": [],
   "source": [
    "# Another way to calculate percent change\n",
    "df['change2'] = df[['Population_2018', 'Population_2019']].pct_change(axis = 1)['Population_2019'] * 100"
   ]
  },
  {
   "cell_type": "code",
   "execution_count": null,
   "id": "8313d255",
   "metadata": {},
   "outputs": [],
   "source": [
    "df.head()"
   ]
  },
  {
   "cell_type": "markdown",
   "id": "0bfc0d31",
   "metadata": {},
   "source": [
    "# 7. Calculate the total population by continent by using `.groupby`"
   ]
  },
  {
   "cell_type": "code",
   "execution_count": null,
   "id": "cd49df1f",
   "metadata": {},
   "outputs": [],
   "source": [
    "df_group = df.groupby('UN_continental').agg({'Population_2018':'sum',\n",
    "                                             'Population_2019':'sum'})"
   ]
  },
  {
   "cell_type": "code",
   "execution_count": null,
   "id": "a056baba",
   "metadata": {},
   "outputs": [],
   "source": [
    "df_group"
   ]
  },
  {
   "cell_type": "markdown",
   "id": "f6842e8d",
   "metadata": {},
   "source": [
    "# 8. Visualize population data"
   ]
  },
  {
   "cell_type": "code",
   "execution_count": null,
   "id": "3c83fc29",
   "metadata": {},
   "outputs": [],
   "source": [
    "# Plot total population 2018 by continent\n",
    "df_group.plot(kind = 'bar', y = 'Population_2018', figsize = (16, 5))\n",
    "plt.xticks(fontsize = 14)\n",
    "plt.xlabel('region')\n",
    "plt.ylabel('population')\n",
    "plt.title('World Population', fontsize = 16);"
   ]
  },
  {
   "cell_type": "code",
   "execution_count": null,
   "id": "e0bf6da5",
   "metadata": {},
   "outputs": [],
   "source": [
    "# Plot total population 2018 and 2019by continent\n",
    "df_group.plot(kind = 'bar', y = ['Population_2018', 'Population_2019'], figsize = (16, 5))\n",
    "plt.xticks(fontsize = 14)\n",
    "plt.xlabel('region')\n",
    "plt.ylabel('population')\n",
    "plt.title('World Population', fontsize = 16);"
   ]
  },
  {
   "cell_type": "code",
   "execution_count": null,
   "id": "feb622d5",
   "metadata": {},
   "outputs": [],
   "source": []
  }
 ],
 "metadata": {
  "kernelspec": {
   "display_name": "Python 3",
   "language": "python",
   "name": "python3"
  },
  "language_info": {
   "codemirror_mode": {
    "name": "ipython",
    "version": 3
   },
   "file_extension": ".py",
   "mimetype": "text/x-python",
   "name": "python",
   "nbconvert_exporter": "python",
   "pygments_lexer": "ipython3",
   "version": "3.8.8"
  }
 },
 "nbformat": 4,
 "nbformat_minor": 5
}
