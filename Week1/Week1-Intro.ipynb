{
 "cells": [
  {
   "cell_type": "markdown",
   "metadata": {},
   "source": [
    "<table width=100%; style=\"background-color:#caf0fa\";>\n",
    "    <tr style=\"background-color:#caf0fa\">\n",
    "        <td>\n",
    "            <h1 style=\"text-align:right\">\n",
    "                Python for Data Science Training - Week 1\n",
    "            </h1>\n",
    "        </td>\n",
    "        <td>\n",
    "            <img src=\"../img/jica-logo.png\" alt = \"JICA Training\" style = \"width: 100px;\"/>\n",
    "        </td>\n",
    "    </tr>\n",
    "</table>\n",
    "\n",
    "# 1. なぜPythonか？\n",
    "- シンプル\n",
    "- ポピュラリティ\n",
    "- モジュラリティ\n",
    "\n",
    "### (1) シンプル"
   ]
  },
  {
   "cell_type": "code",
   "execution_count": null,
   "metadata": {},
   "outputs": [],
   "source": [
    "import this"
   ]
  },
  {
   "cell_type": "markdown",
   "metadata": {},
   "source": [
    "### (2) ポピュラリティ"
   ]
  },
  {
   "cell_type": "code",
   "execution_count": null,
   "metadata": {},
   "outputs": [],
   "source": [
    "import requests\n",
    "import pandas as pd\n",
    "import matplotlib.pyplot as plt\n",
    "%matplotlib inline"
   ]
  },
  {
   "cell_type": "code",
   "execution_count": null,
   "metadata": {},
   "outputs": [],
   "source": [
    "# Import libraries\n",
    "from selenium import webdriver\n",
    "import pandas as pd\n",
    "\n",
    "# Pypl programming language popularity\n",
    "url = 'https://pypl.github.io/PYPL.html'\n",
    "\n",
    "# Run selenium script\n",
    "driver = webdriver.Chrome()\n",
    "driver.get(url)\n",
    "html = driver.page_source"
   ]
  },
  {
   "cell_type": "code",
   "execution_count": null,
   "metadata": {},
   "outputs": [],
   "source": [
    "# Read html\n",
    "tables = pd.read_html(html)\n",
    "data = tables[0][['Rank', 'Language', 'Share']].iloc[:-1, :]\n",
    "# Reformat data types\n",
    "data['Rank'] = data['Rank'].astype(int)\n",
    "data['Share'] = [float(element.split('%')[0]) for element in data['Share']]"
   ]
  },
  {
   "cell_type": "code",
   "execution_count": null,
   "metadata": {},
   "outputs": [],
   "source": [
    "# Plot table\n",
    "data.plot.bar(x = 'Language', y = 'Share', color = 'gray', figsize = (10, 4))\n",
    "plt.ylabel('Percent')\n",
    "plt.xlabel('Language')\n",
    "plt.title('Popularity of Programming Language', fontsize = 14);"
   ]
  },
  {
   "cell_type": "markdown",
   "metadata": {},
   "source": [
    "### (3) モジュラリティ    \n",
    "PythonはベースとなるPython言語に、**様々なモジュール（Libraryと言う）**を組み合わせることにより、機能している言語。代表的なLibraryは**Numpy**, **Pandas**, **Matplotlib**など。これらのベースモジュールから、さらに様々なLibraryが拡張されている（例えば、機械学習で一般的なScikit-LearnはNumpy, Pandas, Matplotlibと互換している）。簡単に、Numpy, Pandas, Matplotlibを見てみます。"
   ]
  },
  {
   "cell_type": "code",
   "execution_count": null,
   "metadata": {},
   "outputs": [],
   "source": [
    "# 例１:Numpy\n",
    "import numpy as np\n",
    "arr = np.array([1, 2, 3])\n",
    "print('Numpy: ', arr)\n",
    "type(arr)"
   ]
  },
  {
   "cell_type": "code",
   "execution_count": null,
   "metadata": {},
   "outputs": [],
   "source": [
    "# 例２：Pandas\n",
    "import pandas as pd\n",
    "df = pd.DataFrame(arr, columns = ['column'])\n",
    "print(type(df))\n",
    "print('\\nThis is Pandas DataFrame.')\n",
    "df"
   ]
  },
  {
   "cell_type": "code",
   "execution_count": null,
   "metadata": {},
   "outputs": [],
   "source": [
    "#　例３：Matplotlib\n",
    "import matplotlib.pyplot as plt\n",
    "# Show Numpy array\n",
    "plt.plot(arr)# `arr`と`df`を入れ替えてみても、同じ図になります。\n",
    "plt.title('Visualize Numpy array')\n",
    "plt.show()\n",
    "\n",
    "# Show Pandas Dataframe\n",
    "plt.plot(df)\n",
    "plt.title('Visualize Pandas Dataframe')\n",
    "plt.show()"
   ]
  },
  {
   "cell_type": "markdown",
   "metadata": {},
   "source": [
    "# 2. Pythonのインストール\n",
    "\n",
    "(1) 結論：  \n",
    "- **[Anaconda](https://www.anaconda.com/products/individual)**をダウンロード&インストール。インストール時に**Environment variable**を指定しますか、というようなウィンドウがでるので、そこのボックスをチェック。詳しいインストール方法は[こちら](https://docs.anaconda.com/anaconda/install/windows/)(ただし、こちらではEnv variableにチェックをしないようになっていますが、チェックしておいた方が後々楽。)。\n",
    "<img src=\"img/Installation.png\" alt = \"Anaconda installer\" style = \"width: 500px;\"/>\n",
    "- WindowsであればWindows Keyを押下、「cmd」とタイプ。黒い画面（Command）に、\"**jupyter notebook**\"とタイプ。（\"はタイプする必要なし）\n",
    "- Macであれば、Command+Spaceキーを押下、「Terminal」とタイプ。黒い画面（Terminal）に、\"**jupyter notebook**\"とタイプ。\n",
    "\n",
    "(2) 解説：  \n",
    "- 本家本元のPythonは[こちら](https://www.python.org/downloads/)からダウンロードしてインストールできます。しかし、それを動かしていくには大きな課題が２つあります。\n",
    "- １つ目は**Dependency**という問題です。先ほどModuralityの話をしましたが、多くのLibraryはその他のLibraryを基盤にして積み上げていくように作っています（ベースとするライブラリがあり、それに応用ライブラリをくっつけるようなイメージ）。そうすると、ある応用ライブラリをインストールするときに、ベースとなるライブラリもインストールしなければいけません。そして、それらのライブラリのバージョンが変更される度にインストールを繰り返すようなことが必要になります。従って、このバージョンコントロール、すなわちライブラリ間のDependenciesをいかにマネージするかが重要になります。通常のPython3のインストールではこれができませんが、Anacondaだと自動でDependenciesの管理をしてくれます。\n",
    "- ２つ目は**プログラムを書くプラットフォーム**です。本元Pythonはスクリプトだけを書くので、コントロールをしづらいです。Pythonコードを書くプラットフォームは様々で例えば[Atom](https://atom.io/)、[Visual Studio Code](https://code.visualstudio.com/)、[Spyder](https://www.spyder-ide.org/)などがありますが、最も使いやすく、かつポピュラーなプラットフォームは**[Jupyter notebook](https://jupyter.org/)**になります。Jupyter notebookはその名のとおり、ノートブック形式で、セルを一つ一つ実行することにより、動作確認をしていくことができるため、コードを書きながら修正していくためにはとても使いやすいものです。AnacondaではJupyter Notebookを自動でインストールしてくれるので、追加でのインストールは不要です。\n",
    "<br><br>\n",
    "なお、*この研修受講はPythonをインストールしなくても大丈夫*です。私が作ったノートブックを**Binder**という機能で公開します。Binderは指定されたノートブックをウェブ上で走らせることができるため、ローカル環境でのインストールは不要です。ただし、アクセスが一度に集まるとノートブックが立ち上がらないケースがある点だけご了解ください。"
   ]
  },
  {
   "cell_type": "markdown",
   "metadata": {},
   "source": [
    "# 3. Jupyter Notebookの使い方（とりあえず、これだけ覚えれば大丈夫）"
   ]
  },
  {
   "cell_type": "markdown",
   "metadata": {},
   "source": [
    "`Ctrl` + `Enter` -> セルをクリック（同じセルにとどまる）"
   ]
  },
  {
   "cell_type": "code",
   "execution_count": null,
   "metadata": {},
   "outputs": [],
   "source": [
    "print('Hello World!')"
   ]
  },
  {
   "cell_type": "markdown",
   "metadata": {},
   "source": [
    "`Shift` + `Enter` ->　セルをクリックし、次のセルに遷移"
   ]
  },
  {
   "cell_type": "code",
   "execution_count": null,
   "metadata": {},
   "outputs": [],
   "source": [
    "print('Hello World!')"
   ]
  },
  {
   "cell_type": "markdown",
   "metadata": {},
   "source": [
    "`Esc`を押してから`B` -> セルを下に挿入"
   ]
  },
  {
   "cell_type": "markdown",
   "metadata": {},
   "source": [
    "`Esc`を押してから`A`　->　セルを上に挿入"
   ]
  },
  {
   "cell_type": "markdown",
   "metadata": {},
   "source": [
    "`Esc`を押してから`D`を2回クリック ->　セルを削除"
   ]
  },
  {
   "cell_type": "code",
   "execution_count": null,
   "metadata": {},
   "outputs": [],
   "source": [
    "print('Hello World!')"
   ]
  },
  {
   "cell_type": "markdown",
   "metadata": {},
   "source": [
    "`Esc`を押してから`M` -> Markdownモード（メモ書き、セルの左側はブランクに）"
   ]
  },
  {
   "cell_type": "code",
   "execution_count": null,
   "metadata": {},
   "outputs": [],
   "source": [
    "print('Hello World!')"
   ]
  },
  {
   "cell_type": "markdown",
   "metadata": {},
   "source": [
    "`Esc`を押してから`Y` ->Codeモード（セルの左側はコードの番号が表示）"
   ]
  },
  {
   "cell_type": "code",
   "execution_count": null,
   "metadata": {},
   "outputs": [],
   "source": [
    "print('Hello World!')"
   ]
  },
  {
   "cell_type": "markdown",
   "metadata": {},
   "source": [
    "Jupyter Notebookの機能に限ったものではないが、覚えておくべきこと。\n",
    "\n",
    "`#`　->　コメント"
   ]
  },
  {
   "cell_type": "code",
   "execution_count": null,
   "metadata": {},
   "outputs": [],
   "source": [
    "# This is the comment.\n",
    "print('Hello World!')"
   ]
  },
  {
   "cell_type": "code",
   "execution_count": null,
   "metadata": {},
   "outputs": [],
   "source": [
    "print('Hello World!') # This also works."
   ]
  },
  {
   "cell_type": "markdown",
   "metadata": {},
   "source": [
    "`' '`又は`\" \"` -> テキスト"
   ]
  },
  {
   "cell_type": "code",
   "execution_count": null,
   "metadata": {},
   "outputs": [],
   "source": [
    "# This does not work\n",
    "Hello World!"
   ]
  },
  {
   "cell_type": "code",
   "execution_count": null,
   "metadata": {},
   "outputs": [],
   "source": [
    "# This does work\n",
    "'Hello World!'"
   ]
  },
  {
   "cell_type": "markdown",
   "metadata": {},
   "source": [
    "# 4. 簡単な計算をしてみましょう。"
   ]
  },
  {
   "cell_type": "code",
   "execution_count": null,
   "metadata": {},
   "outputs": [],
   "source": [
    "# 足算\n",
    "115 + 28"
   ]
  },
  {
   "cell_type": "code",
   "execution_count": null,
   "metadata": {},
   "outputs": [],
   "source": [
    "# イコールを書くとエラーが出ます。なぜなら、PythonではイコールはVariableを指定するために用いられるからです。\n",
    "115 + 28 = 43"
   ]
  },
  {
   "cell_type": "code",
   "execution_count": null,
   "metadata": {},
   "outputs": [],
   "source": [
    "# イコールはこのように使います。\n",
    "sampleAddition = 115 + 28\n",
    "sampleAddition"
   ]
  },
  {
   "cell_type": "code",
   "execution_count": null,
   "metadata": {},
   "outputs": [],
   "source": [
    "# 引き算\n",
    "111 - 45"
   ]
  },
  {
   "cell_type": "code",
   "execution_count": null,
   "metadata": {},
   "outputs": [],
   "source": [
    "# 同じようにイコールでvariableを指定します。\n",
    "sampleSubtraction = 111 - 45\n",
    "sampleSubtraction"
   ]
  },
  {
   "cell_type": "code",
   "execution_count": null,
   "metadata": {},
   "outputs": [],
   "source": [
    "# では、上の足算と引き算を足し上げるとどうでしょう？\n",
    "(115 + 28) + (111 - 45)"
   ]
  },
  {
   "cell_type": "code",
   "execution_count": null,
   "metadata": {},
   "outputs": [],
   "source": [
    "# 当然ながらそれぞれの計算結果から算出しても同じですよね\n",
    "143 + 66"
   ]
  },
  {
   "cell_type": "code",
   "execution_count": null,
   "metadata": {},
   "outputs": [],
   "source": [
    "# Variables同士を足し上げることもできます\n",
    "sampleAddition + sampleSubtraction"
   ]
  },
  {
   "cell_type": "code",
   "execution_count": null,
   "metadata": {},
   "outputs": [],
   "source": [
    "# 掛け算\n",
    "143 * 66"
   ]
  },
  {
   "cell_type": "code",
   "execution_count": null,
   "metadata": {},
   "outputs": [],
   "source": [
    "sampleAddition * sampleSubtraction"
   ]
  },
  {
   "cell_type": "code",
   "execution_count": null,
   "metadata": {},
   "outputs": [],
   "source": [
    "# 割り算\n",
    "143 / 66"
   ]
  },
  {
   "cell_type": "code",
   "execution_count": null,
   "metadata": {},
   "outputs": [],
   "source": [
    "sampleAddition / sampleSubtraction"
   ]
  },
  {
   "cell_type": "code",
   "execution_count": null,
   "metadata": {},
   "outputs": [],
   "source": [
    "# 累乗 `**`\n",
    "2 ** 8"
   ]
  },
  {
   "cell_type": "code",
   "execution_count": null,
   "metadata": {},
   "outputs": [],
   "source": [
    "# \"切り捨て除算\" floor division\n",
    "143 // 66"
   ]
  },
  {
   "cell_type": "code",
   "execution_count": null,
   "metadata": {},
   "outputs": [],
   "source": [
    "# Modulus = Remainder of division\n",
    "sampleAddition % sampleSubtraction"
   ]
  },
  {
   "cell_type": "code",
   "execution_count": null,
   "metadata": {},
   "outputs": [],
   "source": [
    "# 例えば、エクセルで定番のSum計算もできます。\n",
    "sum([1, 2, 3, 4])"
   ]
  },
  {
   "cell_type": "markdown",
   "metadata": {},
   "source": [
    "## Variables\n",
    "すでに`sampleSubtraction = 111 - 45`で、variableを指定することはやっていますが、Do's and Don'tsを紹介します。"
   ]
  },
  {
   "cell_type": "code",
   "execution_count": null,
   "metadata": {},
   "outputs": [],
   "source": [
    "# Define a variable\n",
    "x = 10"
   ]
  },
  {
   "cell_type": "code",
   "execution_count": null,
   "metadata": {},
   "outputs": [],
   "source": [
    "# Add 5\n",
    "y = x + 5\n",
    "y"
   ]
  },
  {
   "cell_type": "code",
   "execution_count": null,
   "metadata": {},
   "outputs": [],
   "source": [
    "# Add 5 to the variable of x\n",
    "x = x + 5\n",
    "x"
   ]
  },
  {
   "cell_type": "code",
   "execution_count": null,
   "metadata": {},
   "outputs": [],
   "source": [
    "# Add 10 to the variable of x, using the shorthand like +=, -=\n",
    "x += 10\n",
    "x"
   ]
  },
  {
   "cell_type": "code",
   "execution_count": null,
   "metadata": {},
   "outputs": [],
   "source": [
    "# Subtract 25 from the variable of x\n",
    "x -= 25\n",
    "x"
   ]
  },
  {
   "cell_type": "markdown",
   "metadata": {},
   "source": [
    "不適当なVariables"
   ]
  },
  {
   "cell_type": "code",
   "execution_count": null,
   "metadata": {},
   "outputs": [],
   "source": [
    "## Case One - Space in the variable\n",
    "my var = 100"
   ]
  },
  {
   "cell_type": "code",
   "execution_count": null,
   "metadata": {},
   "outputs": [],
   "source": [
    "## Case Two - Number in front\n",
    "123var = 100"
   ]
  },
  {
   "cell_type": "code",
   "execution_count": null,
   "metadata": {},
   "outputs": [],
   "source": [
    "## Case Three - Using the existing syntax in Python\n",
    "# print = 100"
   ]
  },
  {
   "cell_type": "code",
   "execution_count": null,
   "metadata": {},
   "outputs": [],
   "source": [
    "## Case Three - Start from capital letter (allowed, but not recommended)\n",
    "Var = 100"
   ]
  },
  {
   "cell_type": "markdown",
   "metadata": {},
   "source": [
    "正しいVariables"
   ]
  },
  {
   "cell_type": "code",
   "execution_count": null,
   "metadata": {},
   "outputs": [],
   "source": [
    "myvariable = 100\n",
    "myVariable = 100\n",
    "my_variable = 100\n",
    "my_variable_100 = 100"
   ]
  },
  {
   "cell_type": "markdown",
   "metadata": {},
   "source": [
    "Print function"
   ]
  },
  {
   "cell_type": "code",
   "execution_count": null,
   "metadata": {},
   "outputs": [],
   "source": [
    "print('abc')"
   ]
  },
  {
   "cell_type": "code",
   "execution_count": null,
   "metadata": {},
   "outputs": [],
   "source": [
    "# Don't forget to make it a text!\n",
    "print(abc)"
   ]
  },
  {
   "cell_type": "markdown",
   "metadata": {},
   "source": [
    "`print`を使わなくても、コンソールに結果を示すことはできるが、それは最終行にvariableが記載されているとき。結果をExplicitにコンソールに印字したい場合は、`print`を用いる。"
   ]
  },
  {
   "cell_type": "code",
   "execution_count": null,
   "metadata": {},
   "outputs": [],
   "source": [
    "x = 100\n",
    "x"
   ]
  },
  {
   "cell_type": "code",
   "execution_count": null,
   "metadata": {},
   "outputs": [],
   "source": [
    "y = 200\n",
    "x # x は最終行でないため、印刷されない。\n",
    "y"
   ]
  },
  {
   "cell_type": "code",
   "execution_count": null,
   "metadata": {},
   "outputs": [],
   "source": [
    "#　印刷したいものは`print`で。\n",
    "print(x)\n",
    "print(y)"
   ]
  },
  {
   "cell_type": "code",
   "execution_count": null,
   "metadata": {},
   "outputs": [],
   "source": [
    "# より複雑なprint function\n",
    "## Case 1 - 文字を数字をin sequenceで合わせる。\n",
    "print('Data Science CoPには全部で', x, '人の参加者がいます。')"
   ]
  },
  {
   "cell_type": "code",
   "execution_count": null,
   "metadata": {},
   "outputs": [],
   "source": [
    "# Case 2 - 鍵かっこで文字を閉じて、後ろにformatを記載。\n",
    "print('Data Science CoPには全部で{}人の参加者がいます。'.format(x))"
   ]
  },
  {
   "cell_type": "code",
   "execution_count": null,
   "metadata": {},
   "outputs": [],
   "source": [
    "# Case 3 - すでにxは指定されているので、鍵かっこだけ挿入。\n",
    "print(f'Data Science CoPには全部で{x}人の参加者がいます。')"
   ]
  },
  {
   "cell_type": "markdown",
   "metadata": {},
   "source": [
    "テキストを用いるときは、ダブルクオーテーション又はシングルクオーテーションを用います。"
   ]
  },
  {
   "cell_type": "code",
   "execution_count": null,
   "metadata": {},
   "outputs": [],
   "source": [
    "\"Hello World!\""
   ]
  },
  {
   "cell_type": "code",
   "execution_count": null,
   "metadata": {},
   "outputs": [],
   "source": [
    "'Hellow World!'"
   ]
  },
  {
   "cell_type": "code",
   "execution_count": null,
   "metadata": {},
   "outputs": [],
   "source": []
  }
 ],
 "metadata": {
  "kernelspec": {
   "display_name": "Python 3",
   "language": "python",
   "name": "python3"
  },
  "language_info": {
   "codemirror_mode": {
    "name": "ipython",
    "version": 3
   },
   "file_extension": ".py",
   "mimetype": "text/x-python",
   "name": "python",
   "nbconvert_exporter": "python",
   "pygments_lexer": "ipython3",
   "version": "3.7.6"
  }
 },
 "nbformat": 4,
 "nbformat_minor": 4
}
