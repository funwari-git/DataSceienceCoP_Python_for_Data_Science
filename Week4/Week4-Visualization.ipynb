{
 "cells": [
  {
   "cell_type": "markdown",
   "metadata": {},
   "source": [
    "<table width=100%; style=\"background-color:#caf0fa\";>\n",
    "    <tr style=\"background-color:#caf0fa\">\n",
    "        <td>\n",
    "            <h1 style=\"text-align:right\">\n",
    "                Python for Data Science Training - Week 4\n",
    "            </h1>\n",
    "        </td>\n",
    "        <td>\n",
    "            <img src=\"../img/jica-logo.png\" alt = \"JICA Training\" style = \"width: 100px;\"/>\n",
    "        </td>\n",
    "    </tr>\n",
    "</table>\n",
    "\n",
    "# Today's Contents\n",
    "1. Matplotlib\n",
    "2. Seaborn\n",
    "\n",
    "---\n",
    "\n",
    "# 1. Matplotlib\n",
    "Matplotlib is the most famous and popular visualization library in Python."
   ]
  },
  {
   "cell_type": "markdown",
   "metadata": {},
   "source": [
    "### Creating a Japanese language environment for matplotlib\n",
    "Matplotlibはデフォルトでは日本語を読み込む際に文字化けします。以下のように、Matplotlibの文字設定を変更しておく必要があります。  \n",
    "参考1：[Qiita matplotlibで日本語](https://qiita.com/yniji/items/3fac25c2ffa316990d0c)  \n",
    "参考2：[ESRI Japan matplotlib での日本語利用について](https://esrijapan.github.io/arcgis-dev-resources/tips/python/matplotlib-japanese/)"
   ]
  },
  {
   "cell_type": "code",
   "execution_count": 1,
   "metadata": {},
   "outputs": [
    {
     "data": {
      "text/plain": [
       "['/System/Library/Fonts/Supplemental/NotoSansCham-Regular.ttf',\n",
       " '/System/Library/Fonts/Helvetica.ttc',\n",
       " '/System/Library/Fonts/Supplemental/NotoSansSundanese-Regular.ttf',\n",
       " '/opt/X11/share/fonts/TTF/VeraSeBd.ttf',\n",
       " '/System/Library/Fonts/Supplemental/NotoSerifBalinese-Regular.ttf',\n",
       " '/System/Library/Fonts/Supplemental/AlBayan.ttc',\n",
       " '/Users/yokoihiroyuki/Library/Fonts/Roboto/Roboto-ThinItalic.ttf',\n",
       " '/System/Library/Fonts/Supplemental/NotoSansMandaic-Regular.ttf',\n",
       " '/System/Library/Fonts/Supplemental/Krungthep.ttf',\n",
       " '/System/Library/Fonts/Supplemental/Lao MN.ttc',\n",
       " '/Users/yokoihiroyuki/Library/Fonts/Lato-Regular.ttf',\n",
       " '/System/Library/Fonts/KohinoorTelugu.ttc',\n",
       " '/System/Library/Fonts/Supplemental/STIXIntDBol.otf',\n",
       " '/System/Library/Fonts/Supplemental/NotoSansChakma-Regular.ttf',\n",
       " '/System/Library/Fonts/Supplemental/Verdana Bold Italic.ttf',\n",
       " '/System/Library/Fonts/Supplemental/Comic Sans MS Bold.ttf',\n",
       " '/Users/yokoihiroyuki/Library/Fonts/Roboto_Condensed/RobotoCondensed-LightItalic.ttf',\n",
       " '/System/Library/Fonts/Keyboard.ttf',\n",
       " '/System/Library/Fonts/Palatino.ttc',\n",
       " '/System/Library/Fonts/Supplemental/STIXIntUpDReg.otf',\n",
       " '/System/Library/Fonts/Supplemental/NotoSansOldItalic-Regular.ttf',\n",
       " '/System/Library/Fonts/Supplemental/Bodoni 72 Smallcaps Book.ttf',\n",
       " '/System/Library/Fonts/Supplemental/Bangla MN.ttc',\n",
       " '/System/Library/Fonts/Supplemental/Times New Roman Bold Italic.ttf',\n",
       " '/System/Library/Fonts/KohinoorBangla.ttc',\n",
       " '/opt/X11/share/fonts/OTF/SyrCOMBatnanBold.otf',\n",
       " '/System/Library/Fonts/Supplemental/Trattatello.ttf',\n",
       " '/opt/X11/share/fonts/TTF/luxirr.ttf',\n",
       " '/System/Library/Fonts/Supplemental/Kefa.ttc',\n",
       " '/opt/X11/share/fonts/TTF/VeraSe.ttf',\n",
       " '/System/Library/Fonts/Times.ttc',\n",
       " '/opt/X11/share/fonts/OTF/SyrCOMJerusalemOutline.otf',\n",
       " '/System/Library/Fonts/ArabicUIDisplay.ttc',\n",
       " '/opt/X11/share/fonts/TTF/luxisbi.ttf',\n",
       " '/System/Library/Fonts/Supplemental/STIXIntSmBol.otf',\n",
       " '/System/Library/Fonts/Supplemental/Kokonor.ttf',\n",
       " '/System/Library/Fonts/Supplemental/Microsoft Sans Serif.ttf',\n",
       " '/System/Library/Fonts/Supplemental/Gujarati Sangam MN.ttc',\n",
       " '/System/Library/Fonts/ZapfDingbats.ttf',\n",
       " '/System/Library/Fonts/Supplemental/Oriya MN.ttc',\n",
       " '/System/Library/Fonts/Supplemental/NotoSansMeeteiMayek-Regular.ttf',\n",
       " '/System/Library/Fonts/Supplemental/Verdana Bold.ttf',\n",
       " '/System/Library/Fonts/Supplemental/Impact.ttf',\n",
       " '/System/Library/Fonts/Supplemental/Lao Sangam MN.ttf',\n",
       " '/System/Library/Fonts/Supplemental/NotoSansBamum-Regular.ttf',\n",
       " '/System/Library/Fonts/Symbol.ttf',\n",
       " '/System/Library/Fonts/Supplemental/Gurmukhi MN.ttc',\n",
       " '/Library/Fonts/Arial Unicode.ttf',\n",
       " '/System/Library/Fonts/Supplemental/PTSans.ttc',\n",
       " '/System/Library/Fonts/ArabicUIText.ttc',\n",
       " '/System/Library/Fonts/Supplemental/NotoSansCuneiform-Regular.ttf',\n",
       " '/System/Library/Fonts/Supplemental/STIXSizTwoSymBol.otf',\n",
       " '/System/Library/Fonts/STHeiti Medium.ttc',\n",
       " '/System/Library/Fonts/Supplemental/Tamil Sangam MN.ttc',\n",
       " '/System/Library/Fonts/Supplemental/DIN Condensed Bold.ttf',\n",
       " '/System/Library/Fonts/Supplemental/Farisi.ttf',\n",
       " '/Users/yokoihiroyuki/Library/Fonts/Roboto/Roboto-Bold.ttf',\n",
       " '/System/Library/Fonts/SFNSRounded.ttf',\n",
       " '/System/Library/Fonts/Supplemental/Tahoma.ttf',\n",
       " '/Users/yokoihiroyuki/Library/Fonts/Roboto_Condensed/RobotoCondensed-Regular.ttf',\n",
       " '/System/Library/Fonts/Supplemental/Georgia Italic.ttf',\n",
       " '/System/Library/Fonts/Supplemental/NotoSansRejang-Regular.ttf',\n",
       " '/System/Library/Fonts/Supplemental/STIXNonUni.otf',\n",
       " '/System/Library/Fonts/Supplemental/NotoSansOldTurkic-Regular.ttf',\n",
       " '/opt/X11/share/fonts/OTF/SyrCOMMardinBold.otf',\n",
       " '/System/Library/Fonts/Supplemental/Athelas.ttc',\n",
       " '/Users/yokoihiroyuki/Library/Fonts/Roboto/Roboto-Black.ttf',\n",
       " '/System/Library/Fonts/Supplemental/STIXVar.otf',\n",
       " '/System/Library/Fonts/Supplemental/Georgia Bold Italic.ttf',\n",
       " '/System/Library/Fonts/SFCompactDisplay.ttf',\n",
       " '/System/Library/Fonts/Apple Symbols.ttf',\n",
       " '/System/Library/Fonts/Apple Braille Outline 8 Dot.ttf',\n",
       " '/System/Library/Fonts/Supplemental/Farah.ttc',\n",
       " '/System/Library/Fonts/Supplemental/Trebuchet MS.ttf',\n",
       " '/Users/yokoihiroyuki/Library/Fonts/Roboto_Condensed/RobotoCondensed-BoldItalic.ttf',\n",
       " '/System/Library/Fonts/Supplemental/Arial.ttf',\n",
       " '/System/Library/Fonts/Supplemental/NotoSansTaiLe-Regular.ttf',\n",
       " '/System/Library/Fonts/Supplemental/STIXNonUniIta.otf',\n",
       " '/System/Library/Fonts/Supplemental/PlantagenetCherokee.ttf',\n",
       " '/opt/X11/share/fonts/OTF/SyrCOMMalankara.otf',\n",
       " '/System/Library/Fonts/Supplemental/Courier New.ttf',\n",
       " '/System/Library/Fonts/Supplemental/STIXGeneralBolIta.otf',\n",
       " '/opt/X11/share/fonts/OTF/SyrCOMJerusalemBold.otf',\n",
       " '/System/Library/Fonts/Supplemental/DevanagariMT.ttc',\n",
       " '/System/Library/Fonts/Supplemental/Savoye LET.ttc',\n",
       " '/System/Library/Fonts/Supplemental/PTSerif.ttc',\n",
       " '/System/Library/Fonts/Supplemental/NotoSansLimbu-Regular.ttf',\n",
       " '/System/Library/Fonts/Supplemental/STIXSizFourSymBol.otf',\n",
       " '/Users/yokoihiroyuki/Library/Fonts/Roboto_Condensed/RobotoCondensed-Bold.ttf',\n",
       " '/System/Library/Fonts/Supplemental/NotoSansCypriot-Regular.ttf',\n",
       " '/System/Library/Fonts/Supplemental/Corsiva.ttc',\n",
       " '/System/Library/Fonts/SFCompactText.ttf',\n",
       " '/System/Library/Fonts/Supplemental/STIXIntDReg.otf',\n",
       " '/System/Library/Fonts/Supplemental/Comic Sans MS.ttf',\n",
       " '/System/Library/Fonts/ヒラギノ角ゴシック W2.ttc',\n",
       " '/System/Library/Fonts/Supplemental/NotoSansOgham-Regular.ttf',\n",
       " '/System/Library/Fonts/Supplemental/SukhumvitSet.ttc',\n",
       " '/System/Library/Fonts/Supplemental/NotoSansTaiViet-Regular.ttf',\n",
       " '/System/Library/Fonts/Supplemental/NotoSansPhagsPa-Regular.ttf',\n",
       " '/System/Library/Fonts/Supplemental/NotoSansLinearB-Regular.ttf',\n",
       " '/System/Library/Fonts/NotoNastaliq.ttc',\n",
       " '/System/Library/Fonts/Supplemental/STIXIntUpSmBol.otf',\n",
       " '/opt/X11/share/fonts/OTF/SyrCOMMardin.otf',\n",
       " '/System/Library/Fonts/SFNSDisplayCondensed-Regular.otf',\n",
       " '/System/Library/Fonts/Supplemental/PTMono.ttc',\n",
       " '/System/Library/Fonts/NewYork.ttf',\n",
       " '/System/Library/Fonts/Supplemental/Trebuchet MS Bold.ttf',\n",
       " '/System/Library/Fonts/Supplemental/NotoSansKharoshthi-Regular.ttf',\n",
       " '/System/Library/Fonts/Supplemental/Papyrus.ttc',\n",
       " '/System/Library/Fonts/ヒラギノ丸ゴ ProN W4.ttc',\n",
       " '/opt/X11/share/fonts/OTF/SyrCOMAntioch.otf',\n",
       " '/Users/yokoihiroyuki/Library/Fonts/Lato-SemiboldItalic.ttf',\n",
       " '/System/Library/Fonts/Supplemental/NotoSansInscriptionalParthian-Regular.ttf',\n",
       " '/System/Library/Fonts/SFNSDisplayCondensed-Black.otf',\n",
       " '/System/Library/Fonts/SFNSTextCondensed-Bold.otf',\n",
       " '/System/Library/Fonts/SFCompactRounded.ttf',\n",
       " '/System/Library/Fonts/Avenir.ttc',\n",
       " '/System/Library/Fonts/SFNSDisplayCondensed-Ultralight.otf',\n",
       " '/System/Library/Fonts/Supplemental/SnellRoundhand.ttc',\n",
       " '/System/Library/Fonts/Supplemental/Chalkboard.ttc',\n",
       " '/System/Library/Fonts/Supplemental/Diwan Kufi.ttc',\n",
       " '/Users/yokoihiroyuki/Library/Fonts/Roboto/Roboto-Regular.ttf',\n",
       " '/System/Library/Fonts/Supplemental/Arial Unicode.ttf',\n",
       " '/System/Library/Fonts/Supplemental/Arial Rounded Bold.ttf',\n",
       " '/Users/yokoihiroyuki/Library/Fonts/Roboto_Condensed/RobotoCondensed-Light.ttf',\n",
       " '/System/Library/Fonts/Supplemental/Telugu Sangam MN.ttc',\n",
       " '/System/Library/Fonts/Supplemental/NotoSansTaiTham-Regular.ttf',\n",
       " '/System/Library/Fonts/ヒラギノ角ゴシック W7.ttc',\n",
       " '/System/Library/Fonts/Supplemental/Tamil MN.ttc',\n",
       " '/System/Library/Fonts/SFNSMonoItalic.ttf',\n",
       " '/System/Library/Fonts/Supplemental/Charter.ttc',\n",
       " '/System/Library/Fonts/Supplemental/Verdana Italic.ttf',\n",
       " '/opt/X11/share/fonts/TTF/luxirb.ttf',\n",
       " '/System/Library/Fonts/SFCompactTextItalic.ttf',\n",
       " '/System/Library/Fonts/SFNSDisplayCondensed-Heavy.otf',\n",
       " '/System/Library/Fonts/Supplemental/Chalkduster.ttf',\n",
       " '/System/Library/Fonts/NotoSerifMyanmar.ttc',\n",
       " '/System/Library/Fonts/Supplemental/NewPeninimMT.ttc',\n",
       " '/opt/X11/share/fonts/OTF/SyrCOMUrhoy.otf',\n",
       " '/System/Library/Fonts/Supplemental/Luminari.ttf',\n",
       " '/System/Library/Fonts/Supplemental/Bradley Hand Bold.ttf',\n",
       " '/System/Library/Fonts/NotoSansMyanmar.ttc',\n",
       " '/System/Library/Fonts/Supplemental/Tahoma Bold.ttf',\n",
       " '/System/Library/Fonts/Supplemental/Kannada Sangam MN.ttc',\n",
       " '/System/Library/Fonts/Supplemental/Bodoni 72.ttc',\n",
       " '/System/Library/Fonts/Supplemental/STIXVarBol.otf',\n",
       " '/System/Library/Fonts/Supplemental/Baghdad.ttc',\n",
       " '/System/Library/Fonts/Supplemental/Verdana.ttf',\n",
       " '/System/Library/Fonts/Supplemental/Sinhala MN.ttc',\n",
       " '/System/Library/Fonts/Supplemental/Futura.ttc',\n",
       " '/System/Library/Fonts/Supplemental/Khmer MN.ttc',\n",
       " '/System/Library/Fonts/Supplemental/Seravek.ttc',\n",
       " '/System/Library/Fonts/Supplemental/Shree714.ttc',\n",
       " '/Users/yokoihiroyuki/Library/Fonts/Roboto/Roboto-Medium.ttf',\n",
       " '/System/Library/Fonts/Hiragino Sans GB.ttc',\n",
       " '/System/Library/Fonts/Supplemental/Al Tarikh.ttc',\n",
       " '/System/Library/Fonts/Supplemental/Courier New Italic.ttf',\n",
       " '/System/Library/Fonts/Supplemental/NotoSansThaana-Regular.ttf',\n",
       " '/System/Library/Fonts/Supplemental/NotoSansSylotiNagri-Regular.ttf',\n",
       " '/System/Library/Fonts/Supplemental/GujaratiMT.ttc',\n",
       " '/Users/yokoihiroyuki/Library/Fonts/Roboto/Roboto-BlackItalic.ttf',\n",
       " '/System/Library/Fonts/Supplemental/STIXGeneralBol.otf',\n",
       " '/Users/yokoihiroyuki/Library/Fonts/Roboto/Roboto-MediumItalic.ttf',\n",
       " '/System/Library/Fonts/KohinoorGujarati.ttc',\n",
       " '/System/Library/Fonts/Supplemental/Rockwell.ttc',\n",
       " '/System/Library/Fonts/Supplemental/NotoSansOldSouthArabian-Regular.ttf',\n",
       " '/System/Library/Fonts/Apple Braille Outline 6 Dot.ttf',\n",
       " '/System/Library/Fonts/NewYorkItalic.ttf',\n",
       " '/System/Library/Fonts/Supplemental/NotoSansGlagolitic-Regular.ttf',\n",
       " '/System/Library/Fonts/SFNS.ttf',\n",
       " '/System/Library/Fonts/Supplemental/NotoSansSaurashtra-Regular.ttf',\n",
       " '/System/Library/Fonts/Supplemental/NotoSansHanunoo-Regular.ttf',\n",
       " '/System/Library/Fonts/SFNSTextCondensed-Medium.otf',\n",
       " '/System/Library/Fonts/Supplemental/STIXSizThreeSymReg.otf',\n",
       " '/System/Library/Fonts/Supplemental/STIXGeneralItalic.otf',\n",
       " '/System/Library/Fonts/LastResort.otf',\n",
       " '/System/Library/Fonts/Supplemental/NotoSansLycian-Regular.ttf',\n",
       " '/opt/X11/share/fonts/OTF/SyrCOMAdiabene.otf',\n",
       " '/opt/X11/share/fonts/TTF/luxisb.ttf',\n",
       " '/System/Library/Fonts/Supplemental/Waseem.ttc',\n",
       " '/System/Library/Fonts/NotoSansKannada.ttc',\n",
       " '/System/Library/Fonts/Supplemental/NotoSansKayahLi-Regular.ttf',\n",
       " '/System/Library/Fonts/Supplemental/STIXIntUpReg.otf',\n",
       " '/System/Library/Fonts/Supplemental/NotoSansJavanese-Regular.otf',\n",
       " '/opt/X11/share/fonts/TTF/VeraMoBd.ttf',\n",
       " '/System/Library/Fonts/Supplemental/NISC18030.ttf',\n",
       " '/System/Library/Fonts/Supplemental/Bodoni Ornaments.ttf',\n",
       " '/System/Library/Fonts/Supplemental/NotoSansGothic-Regular.ttf',\n",
       " '/System/Library/Fonts/Supplemental/Damascus.ttc',\n",
       " '/System/Library/Fonts/Supplemental/Arial Italic.ttf',\n",
       " '/System/Library/Fonts/Supplemental/Kailasa.ttc',\n",
       " '/System/Library/Fonts/Supplemental/Iowan Old Style.ttc',\n",
       " '/System/Library/Fonts/Supplemental/DIN Alternate Bold.ttf',\n",
       " '/System/Library/Fonts/Supplemental/Brush Script.ttf',\n",
       " '/System/Library/Fonts/Supplemental/SignPainter.ttc',\n",
       " '/System/Library/Fonts/Supplemental/Apple Chancery.ttf',\n",
       " '/System/Library/Fonts/ArialHB.ttc',\n",
       " '/System/Library/Fonts/Supplemental/Nadeem.ttc',\n",
       " '/Users/yokoihiroyuki/Library/Fonts/Roboto/Roboto-Thin.ttf',\n",
       " '/System/Library/Fonts/Avenir Next.ttc',\n",
       " '/opt/X11/share/fonts/TTF/luximr.ttf',\n",
       " '/System/Library/Fonts/Supplemental/NotoSansOlChiki-Regular.ttf',\n",
       " '/System/Library/Fonts/Supplemental/Malayalam MN.ttc',\n",
       " '/System/Library/Fonts/Supplemental/NotoSansKaithi-Regular.ttf',\n",
       " '/Users/yokoihiroyuki/Library/Fonts/Lato-BoldItalic.ttf',\n",
       " '/System/Library/Fonts/Supplemental/NotoSansMongolian-Regular.ttf',\n",
       " '/opt/X11/share/fonts/TTF/luxirbi.ttf',\n",
       " '/System/Library/Fonts/SFNSMono.ttf',\n",
       " '/System/Library/Fonts/Supplemental/ChalkboardSE.ttc',\n",
       " '/System/Library/Fonts/Supplemental/Telugu MN.ttc',\n",
       " '/Users/yokoihiroyuki/Library/Fonts/Roboto/Roboto-LightItalic.ttf',\n",
       " '/System/Library/Fonts/Supplemental/NotoSansBuhid-Regular.ttf',\n",
       " '/System/Library/Fonts/Supplemental/Malayalam Sangam MN.ttc',\n",
       " '/System/Library/Fonts/Supplemental/NotoSansPhoenician-Regular.ttf',\n",
       " '/System/Library/Fonts/Supplemental/Arial Bold Italic.ttf',\n",
       " '/System/Library/Fonts/MuktaMahee.ttc',\n",
       " '/System/Library/Fonts/Supplemental/Hoefler Text.ttc',\n",
       " '/opt/X11/share/fonts/TTF/VeraBd.ttf',\n",
       " '/System/Library/Fonts/PingFang.ttc',\n",
       " '/System/Library/Fonts/SFNSDisplayCondensed-Thin.otf',\n",
       " '/System/Library/Fonts/Supplemental/Mshtakan.ttc',\n",
       " '/opt/X11/share/fonts/TTF/Vera.ttf',\n",
       " '/System/Library/Fonts/Supplemental/Silom.ttf',\n",
       " '/Users/yokoihiroyuki/Library/Fonts/Lato-Semibold.ttf',\n",
       " '/System/Library/Fonts/Supplemental/STIXIntUpBol.otf',\n",
       " '/System/Library/Fonts/Apple Braille.ttf',\n",
       " '/System/Library/Fonts/Supplemental/STIXSizOneSymReg.otf',\n",
       " '/System/Library/Fonts/Supplemental/Cochin.ttc',\n",
       " '/System/Library/Fonts/Supplemental/Devanagari Sangam MN.ttc',\n",
       " '/System/Library/Fonts/Apple Color Emoji.ttc',\n",
       " '/opt/X11/share/fonts/TTF/VeraMoBI.ttf',\n",
       " '/System/Library/Fonts/ヒラギノ角ゴシック W8.ttc',\n",
       " '/System/Library/Fonts/Supplemental/Andale Mono.ttf',\n",
       " '/System/Library/Fonts/Supplemental/Raanana.ttc',\n",
       " '/System/Library/Fonts/Supplemental/NotoSansRunic-Regular.ttf',\n",
       " '/System/Library/Fonts/Supplemental/Sinhala Sangam MN.ttc',\n",
       " '/Users/yokoihiroyuki/Library/Fonts/Roboto/Roboto-Italic.ttf',\n",
       " '/System/Library/Fonts/Supplemental/KufiStandardGK.ttc',\n",
       " '/System/Library/Fonts/Supplemental/AmericanTypewriter.ttc',\n",
       " '/System/Library/Fonts/HelveticaNeueDeskInterface.ttc',\n",
       " '/System/Library/Fonts/Supplemental/NotoSansBatak-Regular.ttf',\n",
       " '/System/Library/Fonts/Supplemental/Songti.ttc',\n",
       " '/System/Library/Fonts/Supplemental/NotoSansVai-Regular.ttf',\n",
       " '/Users/yokoihiroyuki/Library/Fonts/Lato-Italic.ttf',\n",
       " '/System/Library/Fonts/Supplemental/NotoSansLisu-Regular.ttf',\n",
       " '/System/Library/Fonts/Supplemental/NotoSansSamaritan-Regular.ttf',\n",
       " '/opt/X11/share/fonts/TTF/VeraBI.ttf',\n",
       " '/opt/X11/share/fonts/OTF/SyrCOMJerusalem.otf',\n",
       " '/System/Library/Fonts/NotoSansArmenian.ttc',\n",
       " '/System/Library/Fonts/Supplemental/Trebuchet MS Bold Italic.ttf',\n",
       " '/opt/X11/share/fonts/TTF/GohaTibebZemen.ttf',\n",
       " '/System/Library/Fonts/Supplemental/Khmer Sangam MN.ttf',\n",
       " '/System/Library/Fonts/Supplemental/Bodoni 72 OS.ttc',\n",
       " '/opt/X11/share/fonts/TTF/VeraIt.ttf',\n",
       " '/System/Library/Fonts/Supplemental/STIXIntSmReg.otf',\n",
       " '/System/Library/Fonts/Supplemental/STIXSizTwoSymReg.otf',\n",
       " '/System/Library/Fonts/ヒラギノ角ゴシック W9.ttc',\n",
       " '/System/Library/Fonts/Supplemental/NotoSansBuginese-Regular.ttf',\n",
       " '/System/Library/Fonts/Supplemental/STIXSizOneSymBol.otf',\n",
       " '/System/Library/Fonts/Supplemental/Zapfino.ttf',\n",
       " '/System/Library/Fonts/Supplemental/Wingdings.ttf',\n",
       " '/System/Library/Fonts/Supplemental/Arial Bold.ttf',\n",
       " '/System/Library/Fonts/ヒラギノ角ゴシック W1.ttc',\n",
       " '/System/Library/Fonts/Supplemental/Copperplate.ttc',\n",
       " '/System/Library/Fonts/Optima.ttc',\n",
       " '/System/Library/Fonts/Supplemental/NotoSansSyriac-Regular.ttf',\n",
       " '/System/Library/Fonts/Supplemental/Galvji.ttc',\n",
       " '/System/Library/Fonts/Supplemental/NotoSansLydian-Regular.ttf',\n",
       " '/System/Library/Fonts/Supplemental/STIXSizThreeSymBol.otf',\n",
       " '/Users/yokoihiroyuki/Library/Fonts/Roboto/Roboto-BoldItalic.ttf',\n",
       " '/opt/X11/share/fonts/OTF/SyrCOMTalada.otf',\n",
       " '/System/Library/Fonts/Supplemental/Muna.ttc',\n",
       " '/opt/X11/share/fonts/TTF/luximbi.ttf',\n",
       " '/System/Library/Fonts/AquaKana.ttc',\n",
       " '/System/Library/Fonts/Supplemental/Arial Narrow Italic.ttf',\n",
       " '/System/Library/Fonts/Supplemental/STIXNonUniBolIta.otf',\n",
       " '/opt/X11/share/fonts/TTF/luxirri.ttf',\n",
       " '/Users/yokoihiroyuki/Library/Fonts/Lato-Bold.ttf',\n",
       " '/System/Library/Fonts/Supplemental/NotoSansShavian-Regular.ttf',\n",
       " '/System/Library/Fonts/AppleSDGothicNeo.ttc',\n",
       " '/System/Library/Fonts/HelveticaNeue.ttc',\n",
       " '/opt/X11/share/fonts/TTF/luxisri.ttf',\n",
       " '/System/Library/Fonts/SFNSDisplayCondensed-Light.otf',\n",
       " '/System/Library/Fonts/GeezaPro.ttc',\n",
       " '/opt/X11/share/fonts/OTF/SyrCOMEdessa.otf',\n",
       " '/System/Library/Fonts/Supplemental/Didot.ttc',\n",
       " '/System/Library/Fonts/Supplemental/Bangla Sangam MN.ttc',\n",
       " '/System/Library/Fonts/Supplemental/NotoSansTifinagh-Regular.ttf',\n",
       " '/System/Library/Fonts/SFNSTextCondensed-Regular.otf',\n",
       " '/System/Library/Fonts/Supplemental/Times New Roman Italic.ttf',\n",
       " '/System/Library/Fonts/Supplemental/Courier New Bold Italic.ttf',\n",
       " '/System/Library/Fonts/SFNSTextCondensed-Semibold.otf',\n",
       " '/System/Library/Fonts/Supplemental/Arial Black.ttf',\n",
       " '/System/Library/Fonts/Supplemental/Oriya Sangam MN.ttc',\n",
       " '/System/Library/Fonts/Supplemental/Mishafi.ttf',\n",
       " '/Users/yokoihiroyuki/Library/Fonts/Lato-Light.ttf',\n",
       " '/System/Library/Fonts/SFNSTextCondensed-Light.otf',\n",
       " '/System/Library/Fonts/Supplemental/Arial Narrow.ttf',\n",
       " '/opt/X11/share/fonts/TTF/luximri.ttf',\n",
       " '/Users/yokoihiroyuki/Library/Fonts/Roboto/Roboto-Light.ttf',\n",
       " '/System/Library/Fonts/Supplemental/Webdings.ttf',\n",
       " '/System/Library/Fonts/Supplemental/ITFDevanagari.ttc',\n",
       " '/System/Library/Fonts/Supplemental/Wingdings 2.ttf',\n",
       " '/opt/X11/share/fonts/OTF/SyrCOMJerusalemItalic.otf',\n",
       " '/System/Library/Fonts/Supplemental/EuphemiaCAS.ttc',\n",
       " '/System/Library/Fonts/Thonburi.ttc',\n",
       " '/System/Library/Fonts/Supplemental/DecoTypeNaskh.ttc',\n",
       " '/System/Library/Fonts/Menlo.ttc',\n",
       " '/opt/X11/share/fonts/OTF/SyrCOMNisibinOutline.otf',\n",
       " '/System/Library/Fonts/Supplemental/STIXNonUniBol.otf',\n",
       " '/System/Library/Fonts/Supplemental/Arial Narrow Bold.ttf',\n",
       " '/System/Library/Fonts/NotoSansOriya.ttc',\n",
       " '/System/Library/Fonts/Supplemental/Skia.ttf',\n",
       " '/System/Library/Fonts/Supplemental/STIXIntUpDBol.otf',\n",
       " '/System/Library/Fonts/ヒラギノ明朝 ProN.ttc',\n",
       " '/System/Library/Fonts/Supplemental/NotoSansBrahmi-Regular.ttf',\n",
       " '/System/Library/Fonts/SFNSDisplayCondensed-Bold.otf',\n",
       " '/System/Library/Fonts/Supplemental/Gurmukhi Sangam MN.ttc',\n",
       " '/System/Library/Fonts/SFNSItalic.ttf',\n",
       " '/System/Library/Fonts/Supplemental/Gurmukhi.ttf',\n",
       " '/System/Library/Fonts/Supplemental/Phosphate.ttc',\n",
       " '/System/Library/Fonts/Supplemental/NotoSansTagbanwa-Regular.ttf',\n",
       " '/opt/X11/share/fonts/TTF/VeraMono.ttf',\n",
       " '/System/Library/Fonts/Supplemental/Georgia Bold.ttf',\n",
       " '/System/Library/Fonts/Supplemental/NotoSansOldPersian-Regular.ttf',\n",
       " '/System/Library/Fonts/ヒラギノ角ゴシック W4.ttc',\n",
       " '/opt/X11/share/fonts/OTF/SyrCOMBatnan.otf',\n",
       " '/System/Library/Fonts/Apple Braille Pinpoint 6 Dot.ttf',\n",
       " '/System/Library/Fonts/Supplemental/Myanmar Sangam MN.ttc',\n",
       " '/System/Library/Fonts/Supplemental/NotoSansNewTaiLue-Regular.ttf',\n",
       " '/System/Library/Fonts/Supplemental/NotoSansInscriptionalPahlavi-Regular.ttf',\n",
       " '/System/Library/Fonts/Supplemental/Baskerville.ttc',\n",
       " '/System/Library/Fonts/Supplemental/NotoSansEgyptianHieroglyphs-Regular.ttf',\n",
       " '/opt/X11/share/fonts/OTF/SyrCOMCtesiphon.otf',\n",
       " '/System/Library/Fonts/Supplemental/NotoSansAvestan-Regular.ttf',\n",
       " '/System/Library/Fonts/Supplemental/STIXSizFiveSymReg.otf',\n",
       " '/System/Library/Fonts/SFNSTextCondensed-Heavy.otf',\n",
       " '/System/Library/Fonts/Supplemental/AppleGothic.ttf',\n",
       " '/opt/X11/share/fonts/OTF/SyrCOMKharput.otf',\n",
       " '/System/Library/Fonts/Supplemental/SuperClarendon.ttc',\n",
       " '/opt/X11/share/fonts/TTF/luximb.ttf',\n",
       " '/System/Library/Fonts/Supplemental/Mishafi Gold.ttf',\n",
       " '/System/Library/Fonts/Supplemental/NotoSansUgaritic-Regular.ttf',\n",
       " '/System/Library/Fonts/Supplemental/Sana.ttc',\n",
       " '/System/Library/Fonts/Supplemental/STIXIntUpSmReg.otf',\n",
       " '/opt/X11/share/fonts/OTF/GohaTibebZemen.otf',\n",
       " '/System/Library/Fonts/Supplemental/Ayuthaya.ttf',\n",
       " '/System/Library/Fonts/Supplemental/Times New Roman.ttf',\n",
       " '/Users/yokoihiroyuki/Library/Fonts/Roboto_Condensed/RobotoCondensed-Italic.ttf',\n",
       " '/System/Library/Fonts/Supplemental/NotoSansImperialAramaic-Regular.ttf',\n",
       " '/System/Library/Fonts/Supplemental/Arial Narrow Bold Italic.ttf',\n",
       " '/System/Library/Fonts/Supplemental/Sathu.ttf',\n",
       " '/opt/X11/share/fonts/TTF/luxisr.ttf',\n",
       " '/System/Library/Fonts/ヒラギノ角ゴシック W3.ttc',\n",
       " '/System/Library/Fonts/Supplemental/Georgia.ttf',\n",
       " '/System/Library/Fonts/Supplemental/NotoSansOsmanya-Regular.ttf',\n",
       " '/System/Library/Fonts/Supplemental/Al Nile.ttc',\n",
       " '/System/Library/Fonts/Supplemental/Beirut.ttc',\n",
       " '/opt/X11/share/fonts/OTF/SyrCOMMidyat.otf',\n",
       " '/System/Library/Fonts/STHeiti Light.ttc',\n",
       " '/System/Library/Fonts/Supplemental/Myanmar MN.ttc',\n",
       " '/System/Library/Fonts/LucidaGrande.ttc',\n",
       " '/System/Library/Fonts/SFNSDisplayCondensed-Semibold.otf',\n",
       " '/System/Library/Fonts/Supplemental/BigCaslon.ttf',\n",
       " '/System/Library/Fonts/SFNSDisplayCondensed-Medium.otf',\n",
       " '/System/Library/Fonts/Supplemental/GillSans.ttc',\n",
       " '/System/Library/Fonts/Supplemental/Times New Roman Bold.ttf',\n",
       " '/System/Library/Fonts/ヒラギノ角ゴシック W0.ttc',\n",
       " '/System/Library/Fonts/Noteworthy.ttc',\n",
       " '/System/Library/Fonts/Supplemental/NotoSansYi-Regular.ttf',\n",
       " '/System/Library/Fonts/Supplemental/Courier New Bold.ttf',\n",
       " '/System/Library/Fonts/ヒラギノ角ゴシック W6.ttc',\n",
       " '/System/Library/Fonts/Supplemental/Kannada MN.ttc',\n",
       " '/System/Library/Fonts/Supplemental/NotoSansTagalog-Regular.ttf',\n",
       " '/opt/X11/share/fonts/OTF/SyrCOMNisibin.otf',\n",
       " '/opt/X11/share/fonts/TTF/VeraMoIt.ttf',\n",
       " '/System/Library/Fonts/Supplemental/STIXGeneral.otf',\n",
       " '/System/Library/Fonts/Supplemental/NotoSansCarian-Regular.ttf',\n",
       " '/opt/X11/share/fonts/OTF/SyrCOMUrhoyBold.otf',\n",
       " '/System/Library/Fonts/Supplemental/Hoefler Text Ornaments.ttf',\n",
       " '/System/Library/Fonts/ヒラギノ角ゴシック W5.ttc',\n",
       " '/System/Library/Fonts/Supplemental/Trebuchet MS Italic.ttf',\n",
       " '/System/Library/Fonts/Supplemental/NotoSansNKo-Regular.ttf',\n",
       " '/System/Library/Fonts/Supplemental/Marion.ttc',\n",
       " '/System/Library/Fonts/Avenir Next Condensed.ttc',\n",
       " '/System/Library/Fonts/Supplemental/Wingdings 3.ttf',\n",
       " '/System/Library/Fonts/Kohinoor.ttc',\n",
       " '/System/Library/Fonts/Supplemental/NotoSansLepcha-Regular.ttf',\n",
       " '/System/Library/Fonts/Supplemental/PTSerifCaption.ttc',\n",
       " '/opt/X11/share/fonts/OTF/SyrCOMTurAbdin.otf',\n",
       " '/System/Library/Fonts/Supplemental/Diwan Thuluth.ttf',\n",
       " '/System/Library/Fonts/Supplemental/STIXSizFourSymReg.otf',\n",
       " '/opt/X11/share/fonts/OTF/SyrCOMQenNeshrin.otf',\n",
       " '/System/Library/Fonts/Supplemental/NotoSansCoptic-Regular.ttf',\n",
       " '/System/Library/Fonts/Apple Braille Pinpoint 8 Dot.ttf',\n",
       " '/System/Library/Fonts/MarkerFelt.ttc',\n",
       " '/System/Library/Fonts/Supplemental/Herculanum.ttf',\n",
       " '/System/Library/Fonts/Supplemental/InaiMathi-MN.ttc',\n",
       " '/System/Library/Fonts/Supplemental/AppleMyungjo.ttf']"
      ]
     },
     "execution_count": 1,
     "metadata": {},
     "output_type": "execute_result"
    }
   ],
   "source": [
    "import matplotlib.font_manager as fm\n",
    "fm_list = fm.findSystemFonts()\n",
    "fm_list"
   ]
  },
  {
   "cell_type": "code",
   "execution_count": 2,
   "metadata": {},
   "outputs": [],
   "source": [
    "import matplotlib.pyplot as plt\n",
    "from matplotlib import rcParams\n",
    "rcParams[\"font.family\"] = \"sans-serif\"\n",
    "rcParams['font.sans-serif'] = ['Hiragino Maru Gothic Pro', 'Yu Gothic', 'Meirio', 'Takao', 'IPAexGothic', 'IPAPGothic', 'VL PGothic', 'Noto Sans CJK JP']"
   ]
  },
  {
   "cell_type": "markdown",
   "metadata": {},
   "source": [
    "## Preprocessing"
   ]
  },
  {
   "cell_type": "code",
   "execution_count": 3,
   "metadata": {},
   "outputs": [],
   "source": [
    "import pandas as pd\n",
    "import matplotlib.pyplot as plt\n",
    "%matplotlib inline\n",
    "# percent is called magic command to allow specific behaviour in the notebook."
   ]
  },
  {
   "cell_type": "code",
   "execution_count": 4,
   "metadata": {},
   "outputs": [],
   "source": [
    "# 国勢調査　男女別人口－全国，都道府県（大正９年～平成27年）\n",
    "url = 'https://www.e-stat.go.jp/stat-search/file-download?statInfId=000031524010&fileKind=1'\n",
    "df = pd.read_csv(url, encoding=\"shift-jis\")"
   ]
  },
  {
   "cell_type": "code",
   "execution_count": 5,
   "metadata": {},
   "outputs": [
    {
     "data": {
      "text/html": [
       "<div>\n",
       "<style scoped>\n",
       "    .dataframe tbody tr th:only-of-type {\n",
       "        vertical-align: middle;\n",
       "    }\n",
       "\n",
       "    .dataframe tbody tr th {\n",
       "        vertical-align: top;\n",
       "    }\n",
       "\n",
       "    .dataframe thead th {\n",
       "        text-align: right;\n",
       "    }\n",
       "</style>\n",
       "<table border=\"1\" class=\"dataframe\">\n",
       "  <thead>\n",
       "    <tr style=\"text-align: right;\">\n",
       "      <th></th>\n",
       "      <th>都道府県コード</th>\n",
       "      <th>都道府県名</th>\n",
       "      <th>元号</th>\n",
       "      <th>和暦（年）</th>\n",
       "      <th>西暦（年）</th>\n",
       "      <th>注</th>\n",
       "      <th>人口（総数）</th>\n",
       "      <th>人口（男）</th>\n",
       "      <th>人口（女）</th>\n",
       "    </tr>\n",
       "  </thead>\n",
       "  <tbody>\n",
       "    <tr>\n",
       "      <th>0</th>\n",
       "      <td>00</td>\n",
       "      <td>全国</td>\n",
       "      <td>大正</td>\n",
       "      <td>9.0</td>\n",
       "      <td>1920.0</td>\n",
       "      <td>NaN</td>\n",
       "      <td>55963053</td>\n",
       "      <td>28044185</td>\n",
       "      <td>27918868</td>\n",
       "    </tr>\n",
       "    <tr>\n",
       "      <th>1</th>\n",
       "      <td>01</td>\n",
       "      <td>北海道</td>\n",
       "      <td>大正</td>\n",
       "      <td>9.0</td>\n",
       "      <td>1920.0</td>\n",
       "      <td>NaN</td>\n",
       "      <td>2359183</td>\n",
       "      <td>1244322</td>\n",
       "      <td>1114861</td>\n",
       "    </tr>\n",
       "    <tr>\n",
       "      <th>2</th>\n",
       "      <td>02</td>\n",
       "      <td>青森県</td>\n",
       "      <td>大正</td>\n",
       "      <td>9.0</td>\n",
       "      <td>1920.0</td>\n",
       "      <td>NaN</td>\n",
       "      <td>756454</td>\n",
       "      <td>381293</td>\n",
       "      <td>375161</td>\n",
       "    </tr>\n",
       "    <tr>\n",
       "      <th>3</th>\n",
       "      <td>03</td>\n",
       "      <td>岩手県</td>\n",
       "      <td>大正</td>\n",
       "      <td>9.0</td>\n",
       "      <td>1920.0</td>\n",
       "      <td>NaN</td>\n",
       "      <td>845540</td>\n",
       "      <td>421069</td>\n",
       "      <td>424471</td>\n",
       "    </tr>\n",
       "    <tr>\n",
       "      <th>4</th>\n",
       "      <td>04</td>\n",
       "      <td>宮城県</td>\n",
       "      <td>大正</td>\n",
       "      <td>9.0</td>\n",
       "      <td>1920.0</td>\n",
       "      <td>NaN</td>\n",
       "      <td>961768</td>\n",
       "      <td>485309</td>\n",
       "      <td>476459</td>\n",
       "    </tr>\n",
       "  </tbody>\n",
       "</table>\n",
       "</div>"
      ],
      "text/plain": [
       "  都道府県コード 都道府県名  元号  和暦（年）   西暦（年）    注    人口（総数）     人口（男）     人口（女）\n",
       "0      00    全国  大正    9.0  1920.0  NaN  55963053  28044185  27918868\n",
       "1      01   北海道  大正    9.0  1920.0  NaN   2359183   1244322   1114861\n",
       "2      02   青森県  大正    9.0  1920.0  NaN    756454    381293    375161\n",
       "3      03   岩手県  大正    9.0  1920.0  NaN    845540    421069    424471\n",
       "4      04   宮城県  大正    9.0  1920.0  NaN    961768    485309    476459"
      ]
     },
     "execution_count": 5,
     "metadata": {},
     "output_type": "execute_result"
    }
   ],
   "source": [
    "df.head()"
   ]
  },
  {
   "cell_type": "code",
   "execution_count": 6,
   "metadata": {},
   "outputs": [
    {
     "data": {
      "text/plain": [
       "都道府県コード      0\n",
       "都道府県名        2\n",
       "元号           2\n",
       "和暦（年）        2\n",
       "西暦（年）        2\n",
       "注          886\n",
       "人口（総数）       2\n",
       "人口（男）        2\n",
       "人口（女）        2\n",
       "dtype: int64"
      ]
     },
     "execution_count": 6,
     "metadata": {},
     "output_type": "execute_result"
    }
   ],
   "source": [
    "df.isnull().sum()"
   ]
  },
  {
   "cell_type": "code",
   "execution_count": 7,
   "metadata": {},
   "outputs": [
    {
     "data": {
      "text/html": [
       "<div>\n",
       "<style scoped>\n",
       "    .dataframe tbody tr th:only-of-type {\n",
       "        vertical-align: middle;\n",
       "    }\n",
       "\n",
       "    .dataframe tbody tr th {\n",
       "        vertical-align: top;\n",
       "    }\n",
       "\n",
       "    .dataframe thead th {\n",
       "        text-align: right;\n",
       "    }\n",
       "</style>\n",
       "<table border=\"1\" class=\"dataframe\">\n",
       "  <thead>\n",
       "    <tr style=\"text-align: right;\">\n",
       "      <th></th>\n",
       "      <th>都道府県コード</th>\n",
       "      <th>都道府県名</th>\n",
       "      <th>元号</th>\n",
       "      <th>和暦（年）</th>\n",
       "      <th>西暦（年）</th>\n",
       "      <th>注</th>\n",
       "      <th>人口（総数）</th>\n",
       "      <th>人口（男）</th>\n",
       "      <th>人口（女）</th>\n",
       "    </tr>\n",
       "  </thead>\n",
       "  <tbody>\n",
       "    <tr>\n",
       "      <th>977</th>\n",
       "      <td>45</td>\n",
       "      <td>宮崎県</td>\n",
       "      <td>平成</td>\n",
       "      <td>27.0</td>\n",
       "      <td>2015.0</td>\n",
       "      <td>NaN</td>\n",
       "      <td>1104069</td>\n",
       "      <td>519242</td>\n",
       "      <td>584827</td>\n",
       "    </tr>\n",
       "    <tr>\n",
       "      <th>978</th>\n",
       "      <td>46</td>\n",
       "      <td>鹿児島県</td>\n",
       "      <td>平成</td>\n",
       "      <td>27.0</td>\n",
       "      <td>2015.0</td>\n",
       "      <td>NaN</td>\n",
       "      <td>1648177</td>\n",
       "      <td>773061</td>\n",
       "      <td>875116</td>\n",
       "    </tr>\n",
       "    <tr>\n",
       "      <th>979</th>\n",
       "      <td>47</td>\n",
       "      <td>沖縄県</td>\n",
       "      <td>平成</td>\n",
       "      <td>27.0</td>\n",
       "      <td>2015.0</td>\n",
       "      <td>NaN</td>\n",
       "      <td>1433566</td>\n",
       "      <td>704619</td>\n",
       "      <td>728947</td>\n",
       "    </tr>\n",
       "    <tr>\n",
       "      <th>980</th>\n",
       "      <td>1)　沖縄県は調査されなかったため，含まれていない。</td>\n",
       "      <td>NaN</td>\n",
       "      <td>NaN</td>\n",
       "      <td>NaN</td>\n",
       "      <td>NaN</td>\n",
       "      <td>NaN</td>\n",
       "      <td>NaN</td>\n",
       "      <td>NaN</td>\n",
       "      <td>NaN</td>\n",
       "    </tr>\n",
       "    <tr>\n",
       "      <th>981</th>\n",
       "      <td>2)　長野県西筑摩群山口村と岐阜県中津川市の境界紛争地域人口（男39人，女34人）は全国に含...</td>\n",
       "      <td>NaN</td>\n",
       "      <td>NaN</td>\n",
       "      <td>NaN</td>\n",
       "      <td>NaN</td>\n",
       "      <td>NaN</td>\n",
       "      <td>NaN</td>\n",
       "      <td>NaN</td>\n",
       "      <td>NaN</td>\n",
       "    </tr>\n",
       "  </tbody>\n",
       "</table>\n",
       "</div>"
      ],
      "text/plain": [
       "                                               都道府県コード 都道府県名   元号  和暦（年）  \\\n",
       "977                                                 45   宮崎県   平成   27.0   \n",
       "978                                                 46  鹿児島県   平成   27.0   \n",
       "979                                                 47   沖縄県   平成   27.0   \n",
       "980                         1)　沖縄県は調査されなかったため，含まれていない。   NaN  NaN    NaN   \n",
       "981  2)　長野県西筑摩群山口村と岐阜県中津川市の境界紛争地域人口（男39人，女34人）は全国に含...   NaN  NaN    NaN   \n",
       "\n",
       "      西暦（年）    注   人口（総数）   人口（男）   人口（女）  \n",
       "977  2015.0  NaN  1104069  519242  584827  \n",
       "978  2015.0  NaN  1648177  773061  875116  \n",
       "979  2015.0  NaN  1433566  704619  728947  \n",
       "980     NaN  NaN      NaN     NaN     NaN  \n",
       "981     NaN  NaN      NaN     NaN     NaN  "
      ]
     },
     "execution_count": 7,
     "metadata": {},
     "output_type": "execute_result"
    }
   ],
   "source": [
    "df.tail()"
   ]
  },
  {
   "cell_type": "code",
   "execution_count": 8,
   "metadata": {},
   "outputs": [],
   "source": [
    "df = df.iloc[:-2, :].reset_index(drop = True)"
   ]
  },
  {
   "cell_type": "code",
   "execution_count": 9,
   "metadata": {},
   "outputs": [
    {
     "data": {
      "text/html": [
       "<div>\n",
       "<style scoped>\n",
       "    .dataframe tbody tr th:only-of-type {\n",
       "        vertical-align: middle;\n",
       "    }\n",
       "\n",
       "    .dataframe tbody tr th {\n",
       "        vertical-align: top;\n",
       "    }\n",
       "\n",
       "    .dataframe thead th {\n",
       "        text-align: right;\n",
       "    }\n",
       "</style>\n",
       "<table border=\"1\" class=\"dataframe\">\n",
       "  <thead>\n",
       "    <tr style=\"text-align: right;\">\n",
       "      <th></th>\n",
       "      <th>都道府県コード</th>\n",
       "      <th>都道府県名</th>\n",
       "      <th>元号</th>\n",
       "      <th>和暦（年）</th>\n",
       "      <th>西暦（年）</th>\n",
       "      <th>注</th>\n",
       "      <th>人口（総数）</th>\n",
       "      <th>人口（男）</th>\n",
       "      <th>人口（女）</th>\n",
       "    </tr>\n",
       "  </thead>\n",
       "  <tbody>\n",
       "    <tr>\n",
       "      <th>975</th>\n",
       "      <td>43</td>\n",
       "      <td>熊本県</td>\n",
       "      <td>平成</td>\n",
       "      <td>27.0</td>\n",
       "      <td>2015.0</td>\n",
       "      <td>NaN</td>\n",
       "      <td>1786170</td>\n",
       "      <td>841046</td>\n",
       "      <td>945124</td>\n",
       "    </tr>\n",
       "    <tr>\n",
       "      <th>976</th>\n",
       "      <td>44</td>\n",
       "      <td>大分県</td>\n",
       "      <td>平成</td>\n",
       "      <td>27.0</td>\n",
       "      <td>2015.0</td>\n",
       "      <td>NaN</td>\n",
       "      <td>1166338</td>\n",
       "      <td>551932</td>\n",
       "      <td>614406</td>\n",
       "    </tr>\n",
       "    <tr>\n",
       "      <th>977</th>\n",
       "      <td>45</td>\n",
       "      <td>宮崎県</td>\n",
       "      <td>平成</td>\n",
       "      <td>27.0</td>\n",
       "      <td>2015.0</td>\n",
       "      <td>NaN</td>\n",
       "      <td>1104069</td>\n",
       "      <td>519242</td>\n",
       "      <td>584827</td>\n",
       "    </tr>\n",
       "    <tr>\n",
       "      <th>978</th>\n",
       "      <td>46</td>\n",
       "      <td>鹿児島県</td>\n",
       "      <td>平成</td>\n",
       "      <td>27.0</td>\n",
       "      <td>2015.0</td>\n",
       "      <td>NaN</td>\n",
       "      <td>1648177</td>\n",
       "      <td>773061</td>\n",
       "      <td>875116</td>\n",
       "    </tr>\n",
       "    <tr>\n",
       "      <th>979</th>\n",
       "      <td>47</td>\n",
       "      <td>沖縄県</td>\n",
       "      <td>平成</td>\n",
       "      <td>27.0</td>\n",
       "      <td>2015.0</td>\n",
       "      <td>NaN</td>\n",
       "      <td>1433566</td>\n",
       "      <td>704619</td>\n",
       "      <td>728947</td>\n",
       "    </tr>\n",
       "  </tbody>\n",
       "</table>\n",
       "</div>"
      ],
      "text/plain": [
       "    都道府県コード 都道府県名  元号  和暦（年）   西暦（年）    注   人口（総数）   人口（男）   人口（女）\n",
       "975      43   熊本県  平成   27.0  2015.0  NaN  1786170  841046  945124\n",
       "976      44   大分県  平成   27.0  2015.0  NaN  1166338  551932  614406\n",
       "977      45   宮崎県  平成   27.0  2015.0  NaN  1104069  519242  584827\n",
       "978      46  鹿児島県  平成   27.0  2015.0  NaN  1648177  773061  875116\n",
       "979      47   沖縄県  平成   27.0  2015.0  NaN  1433566  704619  728947"
      ]
     },
     "execution_count": 9,
     "metadata": {},
     "output_type": "execute_result"
    }
   ],
   "source": [
    "df.tail()"
   ]
  },
  {
   "cell_type": "code",
   "execution_count": 10,
   "metadata": {},
   "outputs": [],
   "source": [
    "# drop columns\n",
    "df = df.drop(columns = ['元号', '和暦（年）', '注'])"
   ]
  },
  {
   "cell_type": "code",
   "execution_count": 11,
   "metadata": {},
   "outputs": [],
   "source": [
    "# Change column names\n",
    "df.columns = ['code', 'pref', 'year', 'pop_total', 'pop_men', 'pop_women']"
   ]
  },
  {
   "cell_type": "code",
   "execution_count": 12,
   "metadata": {},
   "outputs": [
    {
     "data": {
      "text/plain": [
       "code         0\n",
       "pref         0\n",
       "year         0\n",
       "pop_total    0\n",
       "pop_men      0\n",
       "pop_women    0\n",
       "dtype: int64"
      ]
     },
     "execution_count": 12,
     "metadata": {},
     "output_type": "execute_result"
    }
   ],
   "source": [
    "df.isnull().sum()"
   ]
  },
  {
   "cell_type": "code",
   "execution_count": 13,
   "metadata": {},
   "outputs": [
    {
     "data": {
      "text/plain": [
       "code          object\n",
       "pref          object\n",
       "year         float64\n",
       "pop_total     object\n",
       "pop_men       object\n",
       "pop_women     object\n",
       "dtype: object"
      ]
     },
     "execution_count": 13,
     "metadata": {},
     "output_type": "execute_result"
    }
   ],
   "source": [
    "df.dtypes"
   ]
  },
  {
   "cell_type": "code",
   "execution_count": 14,
   "metadata": {},
   "outputs": [],
   "source": [
    "# Change data type of year, pop_total, pop_men, pop_women\n",
    "df['year']  = df['year'].astype(int)\n",
    "\n",
    "# columns of pop have string values, which raise error if using .astype. Instead, use pd.to_numeric with errors options.\n",
    "# This returns non-integer as null value.\n",
    "df['pop_total'] = pd.to_numeric(df['pop_total'], errors = 'coerce')\n",
    "df['pop_men'] = pd.to_numeric(df['pop_men'], errors = 'coerce')\n",
    "df['pop_women'] = pd.to_numeric(df['pop_women'], errors = 'coerce')\n",
    "\n",
    "# drop null values\n",
    "df = df.dropna().reset_index(drop = True)"
   ]
  },
  {
   "cell_type": "code",
   "execution_count": 15,
   "metadata": {},
   "outputs": [
    {
     "name": "stdout",
     "output_type": "stream",
     "text": [
      "\n",
      "pref:  ['全国' '北海道' '青森県' '岩手県' '宮城県' '秋田県' '山形県' '福島県' '茨城県' '栃木県' '群馬県' '埼玉県'\n",
      " '千葉県' '東京都' '神奈川県' '新潟県' '富山県' '石川県' '福井県' '山梨県' '長野県' '岐阜県' '静岡県' '愛知県'\n",
      " '三重県' '滋賀県' '京都府' '大阪府' '兵庫県' '奈良県' '和歌山県' '鳥取県' '島根県' '岡山県' '広島県' '山口県'\n",
      " '徳島県' '香川県' '愛媛県' '高知県' '福岡県' '佐賀県' '長崎県' '熊本県' '大分県' '宮崎県' '鹿児島県' '沖縄県'\n",
      " '人口集中地区' '人口集中地区以外の地区']\n",
      "\n",
      "year:  [1920 1925 1930 1935 1940 1945 1950 1955 1960 1965 1970 1975 1980 1985\n",
      " 1990 1995 2000 2005 2010 2015]\n"
     ]
    }
   ],
   "source": [
    "for col in ['pref', 'year']:\n",
    "    print('\\n' + col + ': ' , df[col].unique())"
   ]
  },
  {
   "cell_type": "code",
   "execution_count": 16,
   "metadata": {},
   "outputs": [],
   "source": [
    "# Select national stats\n",
    "df_japan = df[df['pref'] == '全国'].reset_index(drop = True)\n",
    "\n",
    "# Select only prefecture\n",
    "cond1 = df['pref'] != '全国'\n",
    "cond2 = df['pref'] != '人口集中地区'\n",
    "cond3 = df['pref'] != '人口集中地区以外の地区'\n",
    "conds = cond1 & cond2 & cond3\n",
    "df_pref = df[conds].reset_index(drop = True)"
   ]
  },
  {
   "cell_type": "code",
   "execution_count": 17,
   "metadata": {},
   "outputs": [
    {
     "data": {
      "text/html": [
       "<div>\n",
       "<style scoped>\n",
       "    .dataframe tbody tr th:only-of-type {\n",
       "        vertical-align: middle;\n",
       "    }\n",
       "\n",
       "    .dataframe tbody tr th {\n",
       "        vertical-align: top;\n",
       "    }\n",
       "\n",
       "    .dataframe thead th {\n",
       "        text-align: right;\n",
       "    }\n",
       "</style>\n",
       "<table border=\"1\" class=\"dataframe\">\n",
       "  <thead>\n",
       "    <tr style=\"text-align: right;\">\n",
       "      <th></th>\n",
       "      <th>code</th>\n",
       "      <th>pref</th>\n",
       "      <th>year</th>\n",
       "      <th>pop_total</th>\n",
       "      <th>pop_men</th>\n",
       "      <th>pop_women</th>\n",
       "    </tr>\n",
       "  </thead>\n",
       "  <tbody>\n",
       "    <tr>\n",
       "      <th>0</th>\n",
       "      <td>00</td>\n",
       "      <td>全国</td>\n",
       "      <td>1920</td>\n",
       "      <td>55963053.0</td>\n",
       "      <td>28044185.0</td>\n",
       "      <td>27918868.0</td>\n",
       "    </tr>\n",
       "    <tr>\n",
       "      <th>1</th>\n",
       "      <td>00</td>\n",
       "      <td>全国</td>\n",
       "      <td>1925</td>\n",
       "      <td>59736822.0</td>\n",
       "      <td>30013109.0</td>\n",
       "      <td>29723713.0</td>\n",
       "    </tr>\n",
       "    <tr>\n",
       "      <th>2</th>\n",
       "      <td>00</td>\n",
       "      <td>全国</td>\n",
       "      <td>1930</td>\n",
       "      <td>64450005.0</td>\n",
       "      <td>32390155.0</td>\n",
       "      <td>32059850.0</td>\n",
       "    </tr>\n",
       "    <tr>\n",
       "      <th>3</th>\n",
       "      <td>00</td>\n",
       "      <td>全国</td>\n",
       "      <td>1935</td>\n",
       "      <td>69254148.0</td>\n",
       "      <td>34734133.0</td>\n",
       "      <td>34520015.0</td>\n",
       "    </tr>\n",
       "    <tr>\n",
       "      <th>4</th>\n",
       "      <td>00</td>\n",
       "      <td>全国</td>\n",
       "      <td>1940</td>\n",
       "      <td>73114308.0</td>\n",
       "      <td>36566010.0</td>\n",
       "      <td>36548298.0</td>\n",
       "    </tr>\n",
       "  </tbody>\n",
       "</table>\n",
       "</div>"
      ],
      "text/plain": [
       "  code pref  year   pop_total     pop_men   pop_women\n",
       "0   00   全国  1920  55963053.0  28044185.0  27918868.0\n",
       "1   00   全国  1925  59736822.0  30013109.0  29723713.0\n",
       "2   00   全国  1930  64450005.0  32390155.0  32059850.0\n",
       "3   00   全国  1935  69254148.0  34734133.0  34520015.0\n",
       "4   00   全国  1940  73114308.0  36566010.0  36548298.0"
      ]
     },
     "execution_count": 17,
     "metadata": {},
     "output_type": "execute_result"
    }
   ],
   "source": [
    "df_japan.head()"
   ]
  },
  {
   "cell_type": "code",
   "execution_count": 18,
   "metadata": {},
   "outputs": [
    {
     "data": {
      "text/html": [
       "<div>\n",
       "<style scoped>\n",
       "    .dataframe tbody tr th:only-of-type {\n",
       "        vertical-align: middle;\n",
       "    }\n",
       "\n",
       "    .dataframe tbody tr th {\n",
       "        vertical-align: top;\n",
       "    }\n",
       "\n",
       "    .dataframe thead th {\n",
       "        text-align: right;\n",
       "    }\n",
       "</style>\n",
       "<table border=\"1\" class=\"dataframe\">\n",
       "  <thead>\n",
       "    <tr style=\"text-align: right;\">\n",
       "      <th></th>\n",
       "      <th>code</th>\n",
       "      <th>pref</th>\n",
       "      <th>year</th>\n",
       "      <th>pop_total</th>\n",
       "      <th>pop_men</th>\n",
       "      <th>pop_women</th>\n",
       "    </tr>\n",
       "  </thead>\n",
       "  <tbody>\n",
       "    <tr>\n",
       "      <th>0</th>\n",
       "      <td>01</td>\n",
       "      <td>北海道</td>\n",
       "      <td>1920</td>\n",
       "      <td>2359183.0</td>\n",
       "      <td>1244322.0</td>\n",
       "      <td>1114861.0</td>\n",
       "    </tr>\n",
       "    <tr>\n",
       "      <th>1</th>\n",
       "      <td>02</td>\n",
       "      <td>青森県</td>\n",
       "      <td>1920</td>\n",
       "      <td>756454.0</td>\n",
       "      <td>381293.0</td>\n",
       "      <td>375161.0</td>\n",
       "    </tr>\n",
       "    <tr>\n",
       "      <th>2</th>\n",
       "      <td>03</td>\n",
       "      <td>岩手県</td>\n",
       "      <td>1920</td>\n",
       "      <td>845540.0</td>\n",
       "      <td>421069.0</td>\n",
       "      <td>424471.0</td>\n",
       "    </tr>\n",
       "    <tr>\n",
       "      <th>3</th>\n",
       "      <td>04</td>\n",
       "      <td>宮城県</td>\n",
       "      <td>1920</td>\n",
       "      <td>961768.0</td>\n",
       "      <td>485309.0</td>\n",
       "      <td>476459.0</td>\n",
       "    </tr>\n",
       "    <tr>\n",
       "      <th>4</th>\n",
       "      <td>05</td>\n",
       "      <td>秋田県</td>\n",
       "      <td>1920</td>\n",
       "      <td>898537.0</td>\n",
       "      <td>453682.0</td>\n",
       "      <td>444855.0</td>\n",
       "    </tr>\n",
       "  </tbody>\n",
       "</table>\n",
       "</div>"
      ],
      "text/plain": [
       "  code pref  year  pop_total    pop_men  pop_women\n",
       "0   01  北海道  1920  2359183.0  1244322.0  1114861.0\n",
       "1   02  青森県  1920   756454.0   381293.0   375161.0\n",
       "2   03  岩手県  1920   845540.0   421069.0   424471.0\n",
       "3   04  宮城県  1920   961768.0   485309.0   476459.0\n",
       "4   05  秋田県  1920   898537.0   453682.0   444855.0"
      ]
     },
     "execution_count": 18,
     "metadata": {},
     "output_type": "execute_result"
    }
   ],
   "source": [
    "df_pref.head()"
   ]
  },
  {
   "cell_type": "code",
   "execution_count": 19,
   "metadata": {},
   "outputs": [
    {
     "name": "stdout",
     "output_type": "stream",
     "text": [
      "['全国']\n",
      "['北海道' '青森県' '岩手県' '宮城県' '秋田県' '山形県' '福島県' '茨城県' '栃木県' '群馬県' '埼玉県' '千葉県'\n",
      " '東京都' '神奈川県' '新潟県' '富山県' '石川県' '福井県' '山梨県' '長野県' '岐阜県' '静岡県' '愛知県' '三重県'\n",
      " '滋賀県' '京都府' '大阪府' '兵庫県' '奈良県' '和歌山県' '鳥取県' '島根県' '岡山県' '広島県' '山口県' '徳島県'\n",
      " '香川県' '愛媛県' '高知県' '福岡県' '佐賀県' '長崎県' '熊本県' '大分県' '宮崎県' '鹿児島県' '沖縄県']\n"
     ]
    }
   ],
   "source": [
    "print(df_japan['pref'].unique())\n",
    "print(df_pref['pref'].unique())"
   ]
  },
  {
   "cell_type": "code",
   "execution_count": 20,
   "metadata": {},
   "outputs": [
    {
     "data": {
      "text/plain": [
       "code          object\n",
       "pref          object\n",
       "year           int64\n",
       "pop_total    float64\n",
       "pop_men      float64\n",
       "pop_women    float64\n",
       "dtype: object"
      ]
     },
     "execution_count": 20,
     "metadata": {},
     "output_type": "execute_result"
    }
   ],
   "source": [
    "df_japan.dtypes"
   ]
  },
  {
   "cell_type": "code",
   "execution_count": 21,
   "metadata": {},
   "outputs": [],
   "source": [
    "# Convert float to integer on pop columns\n",
    "for col in ['pop_total', 'pop_men', 'pop_women']:\n",
    "    df_japan[col] = df_japan[col].astype(int)\n",
    "    df_pref[col] = df_pref[col].astype(int)"
   ]
  },
  {
   "cell_type": "code",
   "execution_count": 22,
   "metadata": {},
   "outputs": [
    {
     "data": {
      "text/plain": [
       "code         object\n",
       "pref         object\n",
       "year          int64\n",
       "pop_total     int64\n",
       "pop_men       int64\n",
       "pop_women     int64\n",
       "dtype: object"
      ]
     },
     "execution_count": 22,
     "metadata": {},
     "output_type": "execute_result"
    }
   ],
   "source": [
    "df_japan.dtypes"
   ]
  },
  {
   "cell_type": "code",
   "execution_count": 23,
   "metadata": {},
   "outputs": [
    {
     "data": {
      "text/plain": [
       "code         object\n",
       "pref         object\n",
       "year          int64\n",
       "pop_total     int64\n",
       "pop_men       int64\n",
       "pop_women     int64\n",
       "dtype: object"
      ]
     },
     "execution_count": 23,
     "metadata": {},
     "output_type": "execute_result"
    }
   ],
   "source": [
    "df_pref.dtypes"
   ]
  },
  {
   "cell_type": "markdown",
   "metadata": {},
   "source": [
    "Finished preprocessing!!"
   ]
  },
  {
   "cell_type": "markdown",
   "metadata": {},
   "source": [
    "## Quick overview of the data"
   ]
  },
  {
   "cell_type": "code",
   "execution_count": 24,
   "metadata": {},
   "outputs": [
    {
     "data": {
      "text/html": [
       "<div>\n",
       "<style scoped>\n",
       "    .dataframe tbody tr th:only-of-type {\n",
       "        vertical-align: middle;\n",
       "    }\n",
       "\n",
       "    .dataframe tbody tr th {\n",
       "        vertical-align: top;\n",
       "    }\n",
       "\n",
       "    .dataframe thead th {\n",
       "        text-align: right;\n",
       "    }\n",
       "</style>\n",
       "<table border=\"1\" class=\"dataframe\">\n",
       "  <thead>\n",
       "    <tr style=\"text-align: right;\">\n",
       "      <th></th>\n",
       "      <th>year</th>\n",
       "      <th>pop_total</th>\n",
       "      <th>pop_men</th>\n",
       "      <th>pop_women</th>\n",
       "    </tr>\n",
       "  </thead>\n",
       "  <tbody>\n",
       "    <tr>\n",
       "      <th>count</th>\n",
       "      <td>20.000000</td>\n",
       "      <td>2.000000e+01</td>\n",
       "      <td>2.000000e+01</td>\n",
       "      <td>2.000000e+01</td>\n",
       "    </tr>\n",
       "    <tr>\n",
       "      <th>mean</th>\n",
       "      <td>1967.500000</td>\n",
       "      <td>9.879799e+07</td>\n",
       "      <td>4.852847e+07</td>\n",
       "      <td>5.026952e+07</td>\n",
       "    </tr>\n",
       "    <tr>\n",
       "      <th>std</th>\n",
       "      <td>29.580399</td>\n",
       "      <td>2.591343e+07</td>\n",
       "      <td>1.248562e+07</td>\n",
       "      <td>1.344463e+07</td>\n",
       "    </tr>\n",
       "    <tr>\n",
       "      <th>min</th>\n",
       "      <td>1920.000000</td>\n",
       "      <td>5.596305e+07</td>\n",
       "      <td>2.804418e+07</td>\n",
       "      <td>2.791887e+07</td>\n",
       "    </tr>\n",
       "    <tr>\n",
       "      <th>25%</th>\n",
       "      <td>1943.750000</td>\n",
       "      <td>7.283526e+07</td>\n",
       "      <td>3.610804e+07</td>\n",
       "      <td>3.771511e+07</td>\n",
       "    </tr>\n",
       "    <tr>\n",
       "      <th>50%</th>\n",
       "      <td>1967.500000</td>\n",
       "      <td>1.019372e+08</td>\n",
       "      <td>5.003066e+07</td>\n",
       "      <td>5.190650e+07</td>\n",
       "    </tr>\n",
       "    <tr>\n",
       "      <th>75%</th>\n",
       "      <td>1991.250000</td>\n",
       "      <td>1.241009e+08</td>\n",
       "      <td>6.091614e+07</td>\n",
       "      <td>6.318479e+07</td>\n",
       "    </tr>\n",
       "    <tr>\n",
       "      <th>max</th>\n",
       "      <td>2015.000000</td>\n",
       "      <td>1.280574e+08</td>\n",
       "      <td>6.234898e+07</td>\n",
       "      <td>6.572962e+07</td>\n",
       "    </tr>\n",
       "  </tbody>\n",
       "</table>\n",
       "</div>"
      ],
      "text/plain": [
       "              year     pop_total       pop_men     pop_women\n",
       "count    20.000000  2.000000e+01  2.000000e+01  2.000000e+01\n",
       "mean   1967.500000  9.879799e+07  4.852847e+07  5.026952e+07\n",
       "std      29.580399  2.591343e+07  1.248562e+07  1.344463e+07\n",
       "min    1920.000000  5.596305e+07  2.804418e+07  2.791887e+07\n",
       "25%    1943.750000  7.283526e+07  3.610804e+07  3.771511e+07\n",
       "50%    1967.500000  1.019372e+08  5.003066e+07  5.190650e+07\n",
       "75%    1991.250000  1.241009e+08  6.091614e+07  6.318479e+07\n",
       "max    2015.000000  1.280574e+08  6.234898e+07  6.572962e+07"
      ]
     },
     "execution_count": 24,
     "metadata": {},
     "output_type": "execute_result"
    }
   ],
   "source": [
    "df_japan.describe()"
   ]
  },
  {
   "cell_type": "code",
   "execution_count": 25,
   "metadata": {},
   "outputs": [
    {
     "data": {
      "text/plain": [
       "<AxesSubplot:xlabel='year'>"
      ]
     },
     "execution_count": 25,
     "metadata": {},
     "output_type": "execute_result"
    },
    {
     "data": {
      "image/png": "[encoded data removed]",
      "text/plain": [
       "<Figure size 432x288 with 1 Axes>"
      ]
     },
     "metadata": {
      "needs_background": "light"
     },
     "output_type": "display_data"
    }
   ],
   "source": [
    "# Plot the graph\n",
    "df_japan.plot(x = 'year')"
   ]
  },
  {
   "cell_type": "code",
   "execution_count": 26,
   "metadata": {},
   "outputs": [
    {
     "data": {
      "text/plain": [
       "<matplotlib.legend.Legend at 0x7fadba36d0d0>"
      ]
     },
     "execution_count": 26,
     "metadata": {},
     "output_type": "execute_result"
    },
    {
     "data": {
      "image/png": "[encoded data removed]",
      "text/plain": [
       "<Figure size 432x288 with 1 Axes>"
      ]
     },
     "metadata": {
      "needs_background": "light"
     },
     "output_type": "display_data"
    }
   ],
   "source": [
    "# Add some labels\n",
    "df_japan.plot(x = 'year')\n",
    "plt.title('Japan\\'s population')\n",
    "plt.xlabel('Survey year')\n",
    "plt.ylabel('Population')\n",
    "plt.legend()"
   ]
  },
  {
   "cell_type": "code",
   "execution_count": 27,
   "metadata": {},
   "outputs": [],
   "source": [
    "# Create new columns with million population\n",
    "df_japan['pop_total_m'] = df_japan['pop_total']/1000000\n",
    "df_japan['pop_men_m'] = df_japan['pop_men']/1000000\n",
    "df_japan['pop_women_m'] = df_japan['pop_women']/1000000"
   ]
  },
  {
   "cell_type": "code",
   "execution_count": 28,
   "metadata": {},
   "outputs": [
    {
     "data": {
      "text/plain": [
       "<matplotlib.legend.Legend at 0x7fadba388e50>"
      ]
     },
     "execution_count": 28,
     "metadata": {},
     "output_type": "execute_result"
    },
    {
     "data": {
      "image/png": "[encoded data removed]",
      "text/plain": [
       "<Figure size 432x288 with 1 Axes>"
      ]
     },
     "metadata": {
      "needs_background": "light"
     },
     "output_type": "display_data"
    }
   ],
   "source": [
    "# Change pop variables\n",
    "df_japan.plot(x = 'year', y = ['pop_total_m', 'pop_men_m', 'pop_women_m'])\n",
    "plt.title('Japan\\'s population')\n",
    "plt.xlabel('Survey year')\n",
    "plt.ylabel('Population (million)')\n",
    "plt.legend()"
   ]
  },
  {
   "cell_type": "code",
   "execution_count": 29,
   "metadata": {},
   "outputs": [
    {
     "name": "stdout",
     "output_type": "stream",
     "text": [
      "year min 1920, max 2015\n",
      "population min 55.963053, max 128.057352\n"
     ]
    }
   ],
   "source": [
    "# Check minimum and maximum years\n",
    "print('year min {}, max {}'.format(df_japan['year'].min(), df_japan['year'].max()))\n",
    "print('population min {}, max {}'.format(df_japan['pop_total_m'].min(), df_japan['pop_total_m'].max()))"
   ]
  },
  {
   "cell_type": "code",
   "execution_count": 30,
   "metadata": {},
   "outputs": [
    {
     "data": {
      "text/plain": [
       "<matplotlib.legend.Legend at 0x7fadba5117f0>"
      ]
     },
     "execution_count": 30,
     "metadata": {},
     "output_type": "execute_result"
    },
    {
     "data": {
      "image/png": "[encoded data removed]",
      "text/plain": [
       "<Figure size 864x432 with 1 Axes>"
      ]
     },
     "metadata": {
      "needs_background": "light"
     },
     "output_type": "display_data"
    }
   ],
   "source": [
    "# Add some labels\n",
    "df_japan.plot(x = 'year', y = ['pop_total_m', 'pop_men_m', 'pop_women_m'],\n",
    "              color = ['black', 'blue', 'red'], figsize = (12, 6))\n",
    "plt.title('Japan\\'s population')\n",
    "plt.xlabel('Survey year')\n",
    "plt.ylabel('Population (million)')\n",
    "plt.xticks(range(1920, 2015, 5))\n",
    "plt.yticks(range(0, 150, 20))\n",
    "plt.legend(labels = ['Total Population', 'Population (Men)', 'Population (Women)'])"
   ]
  },
  {
   "cell_type": "code",
   "execution_count": 31,
   "metadata": {},
   "outputs": [
    {
     "data": {
      "text/plain": [
       "Text(0, 0.5, 'Population (Million)')"
      ]
     },
     "execution_count": 31,
     "metadata": {},
     "output_type": "execute_result"
    },
    {
     "data": {
      "image/png": "[encoded data removed]",
      "text/plain": [
       "<Figure size 432x288 with 1 Axes>"
      ]
     },
     "metadata": {
      "needs_background": "light"
     },
     "output_type": "display_data"
    }
   ],
   "source": [
    "# bar plot\n",
    "df_japan.plot.bar(x = 'year', y = 'pop_total_m')\n",
    "plt.title('Japan\\'s Total Population')\n",
    "plt.xlabel('Survey Year')\n",
    "plt.ylabel('Population (Million)')"
   ]
  },
  {
   "cell_type": "code",
   "execution_count": 32,
   "metadata": {},
   "outputs": [
    {
     "data": {
      "text/plain": [
       "<matplotlib.legend.Legend at 0x7fadba62cdc0>"
      ]
     },
     "execution_count": 32,
     "metadata": {},
     "output_type": "execute_result"
    },
    {
     "data": {
      "image/png": "[encoded data removed]",
      "text/plain": [
       "<Figure size 720x360 with 1 Axes>"
      ]
     },
     "metadata": {
      "needs_background": "light"
     },
     "output_type": "display_data"
    }
   ],
   "source": [
    "# bar plot\n",
    "df_japan.plot.bar(x = 'year', y = ['pop_men_m', 'pop_women_m'], figsize = (10, 5), color = ['blue', 'red'])\n",
    "plt.title('Japan\\'s population by gender')\n",
    "plt.xlabel('Survey Year')\n",
    "plt.ylabel('Population (Million)')\n",
    "plt.legend(labels = ['Population (Men)', 'Population (Women)'])"
   ]
  },
  {
   "cell_type": "markdown",
   "metadata": {},
   "source": [
    "### Now let's look at prefecture"
   ]
  },
  {
   "cell_type": "code",
   "execution_count": 33,
   "metadata": {},
   "outputs": [
    {
     "data": {
      "text/plain": [
       "Index(['code', 'pref', 'year', 'pop_total', 'pop_men', 'pop_women'], dtype='object')"
      ]
     },
     "execution_count": 33,
     "metadata": {},
     "output_type": "execute_result"
    }
   ],
   "source": [
    "df_pref.columns"
   ]
  },
  {
   "cell_type": "code",
   "execution_count": 34,
   "metadata": {},
   "outputs": [
    {
     "data": {
      "text/html": [
       "<div>\n",
       "<style scoped>\n",
       "    .dataframe tbody tr th:only-of-type {\n",
       "        vertical-align: middle;\n",
       "    }\n",
       "\n",
       "    .dataframe tbody tr th {\n",
       "        vertical-align: top;\n",
       "    }\n",
       "\n",
       "    .dataframe thead th {\n",
       "        text-align: right;\n",
       "    }\n",
       "</style>\n",
       "<table border=\"1\" class=\"dataframe\">\n",
       "  <thead>\n",
       "    <tr style=\"text-align: right;\">\n",
       "      <th></th>\n",
       "      <th>min</th>\n",
       "      <th>max</th>\n",
       "    </tr>\n",
       "  </thead>\n",
       "  <tbody>\n",
       "    <tr>\n",
       "      <th>pop_total</th>\n",
       "      <td>454675.0</td>\n",
       "      <td>13515271.0</td>\n",
       "    </tr>\n",
       "    <tr>\n",
       "      <th>pop_men</th>\n",
       "      <td>222802.0</td>\n",
       "      <td>6666690.0</td>\n",
       "    </tr>\n",
       "    <tr>\n",
       "      <th>pop_women</th>\n",
       "      <td>231873.0</td>\n",
       "      <td>6848581.0</td>\n",
       "    </tr>\n",
       "  </tbody>\n",
       "</table>\n",
       "</div>"
      ],
      "text/plain": [
       "                min         max\n",
       "pop_total  454675.0  13515271.0\n",
       "pop_men    222802.0   6666690.0\n",
       "pop_women  231873.0   6848581.0"
      ]
     },
     "execution_count": 34,
     "metadata": {},
     "output_type": "execute_result"
    }
   ],
   "source": [
    "df_pref[['pop_total', 'pop_men', 'pop_women']].describe().T[['min', 'max']]"
   ]
  },
  {
   "cell_type": "code",
   "execution_count": 35,
   "metadata": {},
   "outputs": [],
   "source": [
    "for col in ['pop_total', 'pop_men', 'pop_women']:\n",
    "    df_pref[col + '_t'] = df_pref[col] // 1000"
   ]
  },
  {
   "cell_type": "code",
   "execution_count": 36,
   "metadata": {},
   "outputs": [
    {
     "data": {
      "text/html": [
       "<div>\n",
       "<style scoped>\n",
       "    .dataframe tbody tr th:only-of-type {\n",
       "        vertical-align: middle;\n",
       "    }\n",
       "\n",
       "    .dataframe tbody tr th {\n",
       "        vertical-align: top;\n",
       "    }\n",
       "\n",
       "    .dataframe thead th {\n",
       "        text-align: right;\n",
       "    }\n",
       "</style>\n",
       "<table border=\"1\" class=\"dataframe\">\n",
       "  <thead>\n",
       "    <tr style=\"text-align: right;\">\n",
       "      <th></th>\n",
       "      <th>code</th>\n",
       "      <th>pref</th>\n",
       "      <th>year</th>\n",
       "      <th>pop_total</th>\n",
       "      <th>pop_men</th>\n",
       "      <th>pop_women</th>\n",
       "      <th>pop_total_t</th>\n",
       "      <th>pop_men_t</th>\n",
       "      <th>pop_women_t</th>\n",
       "    </tr>\n",
       "  </thead>\n",
       "  <tbody>\n",
       "    <tr>\n",
       "      <th>0</th>\n",
       "      <td>01</td>\n",
       "      <td>北海道</td>\n",
       "      <td>1920</td>\n",
       "      <td>2359183</td>\n",
       "      <td>1244322</td>\n",
       "      <td>1114861</td>\n",
       "      <td>2359</td>\n",
       "      <td>1244</td>\n",
       "      <td>1114</td>\n",
       "    </tr>\n",
       "    <tr>\n",
       "      <th>1</th>\n",
       "      <td>02</td>\n",
       "      <td>青森県</td>\n",
       "      <td>1920</td>\n",
       "      <td>756454</td>\n",
       "      <td>381293</td>\n",
       "      <td>375161</td>\n",
       "      <td>756</td>\n",
       "      <td>381</td>\n",
       "      <td>375</td>\n",
       "    </tr>\n",
       "    <tr>\n",
       "      <th>2</th>\n",
       "      <td>03</td>\n",
       "      <td>岩手県</td>\n",
       "      <td>1920</td>\n",
       "      <td>845540</td>\n",
       "      <td>421069</td>\n",
       "      <td>424471</td>\n",
       "      <td>845</td>\n",
       "      <td>421</td>\n",
       "      <td>424</td>\n",
       "    </tr>\n",
       "    <tr>\n",
       "      <th>3</th>\n",
       "      <td>04</td>\n",
       "      <td>宮城県</td>\n",
       "      <td>1920</td>\n",
       "      <td>961768</td>\n",
       "      <td>485309</td>\n",
       "      <td>476459</td>\n",
       "      <td>961</td>\n",
       "      <td>485</td>\n",
       "      <td>476</td>\n",
       "    </tr>\n",
       "    <tr>\n",
       "      <th>4</th>\n",
       "      <td>05</td>\n",
       "      <td>秋田県</td>\n",
       "      <td>1920</td>\n",
       "      <td>898537</td>\n",
       "      <td>453682</td>\n",
       "      <td>444855</td>\n",
       "      <td>898</td>\n",
       "      <td>453</td>\n",
       "      <td>444</td>\n",
       "    </tr>\n",
       "  </tbody>\n",
       "</table>\n",
       "</div>"
      ],
      "text/plain": [
       "  code pref  year  pop_total  pop_men  pop_women  pop_total_t  pop_men_t  \\\n",
       "0   01  北海道  1920    2359183  1244322    1114861         2359       1244   \n",
       "1   02  青森県  1920     756454   381293     375161          756        381   \n",
       "2   03  岩手県  1920     845540   421069     424471          845        421   \n",
       "3   04  宮城県  1920     961768   485309     476459          961        485   \n",
       "4   05  秋田県  1920     898537   453682     444855          898        453   \n",
       "\n",
       "   pop_women_t  \n",
       "0         1114  \n",
       "1          375  \n",
       "2          424  \n",
       "3          476  \n",
       "4          444  "
      ]
     },
     "execution_count": 36,
     "metadata": {},
     "output_type": "execute_result"
    }
   ],
   "source": [
    "df_pref.head()"
   ]
  },
  {
   "cell_type": "code",
   "execution_count": 37,
   "metadata": {},
   "outputs": [
    {
     "data": {
      "text/plain": [
       "array([[<AxesSubplot:title={'center':'pop_total_t'}>]], dtype=object)"
      ]
     },
     "execution_count": 37,
     "metadata": {},
     "output_type": "execute_result"
    },
    {
     "data": {
      "image/png": "[encoded data removed]",
      "text/plain": [
       "<Figure size 432x288 with 1 Axes>"
      ]
     },
     "metadata": {
      "needs_background": "light"
     },
     "output_type": "display_data"
    }
   ],
   "source": [
    "# Show histogram\n",
    "df_pref.hist(column = ['pop_total_t'], bins  = 10)"
   ]
  },
  {
   "cell_type": "code",
   "execution_count": 38,
   "metadata": {},
   "outputs": [
    {
     "data": {
      "image/png": "[encoded data removed]",
      "text/plain": [
       "<Figure size 1080x504 with 1 Axes>"
      ]
     },
     "metadata": {
      "needs_background": "light"
     },
     "output_type": "display_data"
    }
   ],
   "source": [
    "# Show boxplot\n",
    "df_pref.boxplot(column = ['pop_total_t'], by = 'pref', figsize = (15, 7), )\n",
    "plt.title('県別人口ボックスプロット')\n",
    "plt.xticks(rotation = 90);"
   ]
  },
  {
   "cell_type": "markdown",
   "metadata": {},
   "source": [
    "Looking into Kanto region."
   ]
  },
  {
   "cell_type": "code",
   "execution_count": 39,
   "metadata": {},
   "outputs": [
    {
     "data": {
      "text/plain": [
       "array(['北海道', '青森県', '岩手県', '宮城県', '秋田県', '山形県', '福島県', '茨城県', '栃木県',\n",
       "       '群馬県', '埼玉県', '千葉県', '東京都', '神奈川県', '新潟県', '富山県', '石川県', '福井県',\n",
       "       '山梨県', '長野県', '岐阜県', '静岡県', '愛知県', '三重県', '滋賀県', '京都府', '大阪府',\n",
       "       '兵庫県', '奈良県', '和歌山県', '鳥取県', '島根県', '岡山県', '広島県', '山口県', '徳島県',\n",
       "       '香川県', '愛媛県', '高知県', '福岡県', '佐賀県', '長崎県', '熊本県', '大分県', '宮崎県',\n",
       "       '鹿児島県', '沖縄県'], dtype=object)"
      ]
     },
     "execution_count": 39,
     "metadata": {},
     "output_type": "execute_result"
    }
   ],
   "source": [
    "df_pref['pref'].unique()"
   ]
  },
  {
   "cell_type": "code",
   "execution_count": 40,
   "metadata": {},
   "outputs": [],
   "source": [
    "# Select prefectures in Kanto region\n",
    "kanto = ['茨城県', '栃木県', '群馬県', '埼玉県', '千葉県', '東京都', '神奈川県']\n",
    "df_kanto = df_pref.query(\"pref == @kanto\").reset_index(drop = True)"
   ]
  },
  {
   "cell_type": "code",
   "execution_count": 41,
   "metadata": {},
   "outputs": [
    {
     "data": {
      "text/html": [
       "<div>\n",
       "<style scoped>\n",
       "    .dataframe tbody tr th:only-of-type {\n",
       "        vertical-align: middle;\n",
       "    }\n",
       "\n",
       "    .dataframe tbody tr th {\n",
       "        vertical-align: top;\n",
       "    }\n",
       "\n",
       "    .dataframe thead th {\n",
       "        text-align: right;\n",
       "    }\n",
       "</style>\n",
       "<table border=\"1\" class=\"dataframe\">\n",
       "  <thead>\n",
       "    <tr style=\"text-align: right;\">\n",
       "      <th></th>\n",
       "      <th>code</th>\n",
       "      <th>pref</th>\n",
       "      <th>year</th>\n",
       "      <th>pop_total</th>\n",
       "      <th>pop_men</th>\n",
       "      <th>pop_women</th>\n",
       "      <th>pop_total_t</th>\n",
       "      <th>pop_men_t</th>\n",
       "      <th>pop_women_t</th>\n",
       "    </tr>\n",
       "  </thead>\n",
       "  <tbody>\n",
       "    <tr>\n",
       "      <th>0</th>\n",
       "      <td>08</td>\n",
       "      <td>茨城県</td>\n",
       "      <td>1920</td>\n",
       "      <td>1350400</td>\n",
       "      <td>662128</td>\n",
       "      <td>688272</td>\n",
       "      <td>1350</td>\n",
       "      <td>662</td>\n",
       "      <td>688</td>\n",
       "    </tr>\n",
       "    <tr>\n",
       "      <th>1</th>\n",
       "      <td>09</td>\n",
       "      <td>栃木県</td>\n",
       "      <td>1920</td>\n",
       "      <td>1046479</td>\n",
       "      <td>514255</td>\n",
       "      <td>532224</td>\n",
       "      <td>1046</td>\n",
       "      <td>514</td>\n",
       "      <td>532</td>\n",
       "    </tr>\n",
       "    <tr>\n",
       "      <th>2</th>\n",
       "      <td>10</td>\n",
       "      <td>群馬県</td>\n",
       "      <td>1920</td>\n",
       "      <td>1052610</td>\n",
       "      <td>514106</td>\n",
       "      <td>538504</td>\n",
       "      <td>1052</td>\n",
       "      <td>514</td>\n",
       "      <td>538</td>\n",
       "    </tr>\n",
       "    <tr>\n",
       "      <th>3</th>\n",
       "      <td>11</td>\n",
       "      <td>埼玉県</td>\n",
       "      <td>1920</td>\n",
       "      <td>1319533</td>\n",
       "      <td>641161</td>\n",
       "      <td>678372</td>\n",
       "      <td>1319</td>\n",
       "      <td>641</td>\n",
       "      <td>678</td>\n",
       "    </tr>\n",
       "    <tr>\n",
       "      <th>4</th>\n",
       "      <td>12</td>\n",
       "      <td>千葉県</td>\n",
       "      <td>1920</td>\n",
       "      <td>1336155</td>\n",
       "      <td>656968</td>\n",
       "      <td>679187</td>\n",
       "      <td>1336</td>\n",
       "      <td>656</td>\n",
       "      <td>679</td>\n",
       "    </tr>\n",
       "  </tbody>\n",
       "</table>\n",
       "</div>"
      ],
      "text/plain": [
       "  code pref  year  pop_total  pop_men  pop_women  pop_total_t  pop_men_t  \\\n",
       "0   08  茨城県  1920    1350400   662128     688272         1350        662   \n",
       "1   09  栃木県  1920    1046479   514255     532224         1046        514   \n",
       "2   10  群馬県  1920    1052610   514106     538504         1052        514   \n",
       "3   11  埼玉県  1920    1319533   641161     678372         1319        641   \n",
       "4   12  千葉県  1920    1336155   656968     679187         1336        656   \n",
       "\n",
       "   pop_women_t  \n",
       "0          688  \n",
       "1          532  \n",
       "2          538  \n",
       "3          678  \n",
       "4          679  "
      ]
     },
     "execution_count": 41,
     "metadata": {},
     "output_type": "execute_result"
    }
   ],
   "source": [
    "df_kanto.head()"
   ]
  },
  {
   "cell_type": "code",
   "execution_count": 42,
   "metadata": {},
   "outputs": [],
   "source": [
    "import seaborn as sns"
   ]
  },
  {
   "cell_type": "code",
   "execution_count": 43,
   "metadata": {},
   "outputs": [
    {
     "data": {
      "text/plain": [
       "<AxesSubplot:xlabel='pref', ylabel='pop_total_t'>"
      ]
     },
     "execution_count": 43,
     "metadata": {},
     "output_type": "execute_result"
    },
    {
     "data": {
      "image/png": "[encoded data removed]",
      "text/plain": [
       "<Figure size 1080x360 with 1 Axes>"
      ]
     },
     "metadata": {
      "needs_background": "light"
     },
     "output_type": "display_data"
    }
   ],
   "source": [
    "plt.figure(figsize = (15, 5))\n",
    "sns.violinplot(x = 'pref', y = 'pop_total_t', data = df_kanto, palette = 'tab20c')"
   ]
  },
  {
   "cell_type": "markdown",
   "metadata": {},
   "source": [
    "It would be more interesting if we could know gender distribution by prefecture. To do this, we need to tweak dataframe to allow Seaborn to visualize."
   ]
  },
  {
   "cell_type": "code",
   "execution_count": 44,
   "metadata": {},
   "outputs": [
    {
     "data": {
      "text/html": [
       "<div>\n",
       "<style scoped>\n",
       "    .dataframe tbody tr th:only-of-type {\n",
       "        vertical-align: middle;\n",
       "    }\n",
       "\n",
       "    .dataframe tbody tr th {\n",
       "        vertical-align: top;\n",
       "    }\n",
       "\n",
       "    .dataframe thead th {\n",
       "        text-align: right;\n",
       "    }\n",
       "</style>\n",
       "<table border=\"1\" class=\"dataframe\">\n",
       "  <thead>\n",
       "    <tr style=\"text-align: right;\">\n",
       "      <th></th>\n",
       "      <th>pref</th>\n",
       "      <th>gender</th>\n",
       "      <th>population</th>\n",
       "    </tr>\n",
       "  </thead>\n",
       "  <tbody>\n",
       "    <tr>\n",
       "      <th>0</th>\n",
       "      <td>茨城県</td>\n",
       "      <td>男性</td>\n",
       "      <td>662</td>\n",
       "    </tr>\n",
       "    <tr>\n",
       "      <th>1</th>\n",
       "      <td>栃木県</td>\n",
       "      <td>男性</td>\n",
       "      <td>514</td>\n",
       "    </tr>\n",
       "    <tr>\n",
       "      <th>2</th>\n",
       "      <td>群馬県</td>\n",
       "      <td>男性</td>\n",
       "      <td>514</td>\n",
       "    </tr>\n",
       "    <tr>\n",
       "      <th>3</th>\n",
       "      <td>埼玉県</td>\n",
       "      <td>男性</td>\n",
       "      <td>641</td>\n",
       "    </tr>\n",
       "    <tr>\n",
       "      <th>4</th>\n",
       "      <td>千葉県</td>\n",
       "      <td>男性</td>\n",
       "      <td>656</td>\n",
       "    </tr>\n",
       "  </tbody>\n",
       "</table>\n",
       "</div>"
      ],
      "text/plain": [
       "  pref gender  population\n",
       "0  茨城県     男性         662\n",
       "1  栃木県     男性         514\n",
       "2  群馬県     男性         514\n",
       "3  埼玉県     男性         641\n",
       "4  千葉県     男性         656"
      ]
     },
     "execution_count": 44,
     "metadata": {},
     "output_type": "execute_result"
    }
   ],
   "source": [
    "# \"Melting\" data to long form.\n",
    "df_kanto_long = df_kanto.melt(id_vars = 'pref', value_vars = ['pop_men_t', 'pop_women_t'],\n",
    "                              var_name = ['gender'], value_name = 'population')\n",
    "df_kanto_long = df_kanto_long.replace({'pop_men_t':'男性', 'pop_women_t':'女性'})\n",
    "df_kanto_long.head()"
   ]
  },
  {
   "cell_type": "code",
   "execution_count": 45,
   "metadata": {},
   "outputs": [
    {
     "data": {
      "image/png": "[encoded data removed]",
      "text/plain": [
       "<Figure size 1080x360 with 1 Axes>"
      ]
     },
     "metadata": {
      "needs_background": "light"
     },
     "output_type": "display_data"
    }
   ],
   "source": [
    "# Finaly shows violin plot by gender\n",
    "plt.figure(figsize = (15, 5))\n",
    "sns.violinplot(x = 'pref', y = 'population', hue = 'gender', data = df_kanto_long, palette = ['#E8F1F2','#B3EFB2'])\n",
    "plt.xlabel('関東')\n",
    "plt.ylabel('人口（千人）');"
   ]
  },
  {
   "cell_type": "markdown",
   "metadata": {},
   "source": [
    "That's it!お疲れ様でした。MatplotlibやSeabornでは様々なことができるので、是非それぞれのギャラリーを確認ください。私が以前作ったグラフで、例えばムンバイで空間クラスタリングがどこでどのように発生しているかを以下の図のように作成しました。これも、Matplotlibで作っています。（図の見方は、中心点がプロジェクトの介入場所（道路整備）、外周が方角、補助線が道路からの距離、赤いドットが空間クラスタリングの発生場所です。）\n",
    "\n",
    "<img src=\"img/Mumbai_horizontal_clustering.png\" alt = \"Mumbai Horizontal Clustering\" style = \"width: 300px;\"/>\n",
    "\n",
    "Visualizationで最も手っ取り早いアプローチはサンプルやexampleを真似て、段々とオリジナリティを出していくことです。<br>\n",
    "Matplotlibのサンプルについては、[こちら](https://matplotlib.org/stable/gallery/index.html)を参照。<br>\n",
    "Seabornのサンプルについては、[こちら](https://seaborn.pydata.org/examples/index.html)を参照。<br>\n",
    "\n",
    "図のカラーリングは[Coolors](https://coolors.co/)がおすすめ。Coolorsでカラーパターンを作って、そこからHEXコードをコピーするのが最も手っ取り早いと思います。"
   ]
  },
  {
   "cell_type": "markdown",
   "metadata": {},
   "source": [
    "---"
   ]
  },
  {
   "cell_type": "code",
   "execution_count": 46,
   "metadata": {},
   "outputs": [
    {
     "data": {
      "text/html": [
       "<script>\n",
       "code_show=true; \n",
       "function code_toggle() {\n",
       "    if (code_show){\n",
       "        $('div.cell.code_cell.rendered.selected div.input').hide();\n",
       "    } else {\n",
       "        $('div.cell.code_cell.rendered.selected div.input').show();\n",
       "    }\n",
       "    code_show = !code_show\n",
       "} \n",
       "$( document ).ready(code_toggle);\n",
       "</script>\n",
       "Creating requirements.txt file. To show/hide this cell's raw code input, click <a href=\"javascript:code_toggle()\">here</a>."
      ],
      "text/plain": [
       "<IPython.core.display.HTML object>"
      ]
     },
     "metadata": {},
     "output_type": "display_data"
    },
    {
     "name": "stdout",
     "output_type": "stream",
     "text": [
      "Create \"requirements.txt\"\n",
      "\tseaborn==0.11.1\n",
      "\tpandas==1.2.4\n",
      "\tmatplotlib==3.3.4\n",
      "\"requirements.txt\" was created.\n"
     ]
    }
   ],
   "source": [
    "# This cell is to create a config file.\n",
    "# Hiding this cell for authority\n",
    "\n",
    "# Hiding celll from https://gist.github.com/Zsailer/5d1f4e357c78409dd9a5a4e5c61be552\n",
    "from IPython.display import HTML\n",
    "from IPython.display import display\n",
    "\n",
    "# Taken from https://stackoverflow.com/questions/31517194/how-to-hide-one-specific-cell-input-or-output-in-ipython-notebook\n",
    "tag = HTML('''<script>\n",
    "code_show=true; \n",
    "function code_toggle() {\n",
    "    if (code_show){\n",
    "        $('div.cell.code_cell.rendered.selected div.input').hide();\n",
    "    } else {\n",
    "        $('div.cell.code_cell.rendered.selected div.input').show();\n",
    "    }\n",
    "    code_show = !code_show\n",
    "} \n",
    "$( document ).ready(code_toggle);\n",
    "</script>\n",
    "Creating requirements.txt file. To show/hide this cell's raw code input, click <a href=\"javascript:code_toggle()\">here</a>.''')\n",
    "display(tag)\n",
    "\n",
    "############### Write code below ##################\n",
    "# Config file to freeze packages in a notebook\n",
    "# from https://stackoverflow.com/questions/40428931/package-for-listing-version-of-packages-used-in-a-jupyter-notebook\n",
    "import pkg_resources\n",
    "import types\n",
    "\n",
    "def get_requirements():\n",
    "    def get_imports():\n",
    "        for name, val in globals().items():\n",
    "            if isinstance(val, types.ModuleType):\n",
    "                # Split ensures you get root package, \n",
    "                # not just imported function\n",
    "                name = val.__name__.split(\".\")[0]\n",
    "\n",
    "            elif isinstance(val, type):\n",
    "                name = val.__module__.split(\".\")[0]\n",
    "\n",
    "            # Some packages are weird and have different\n",
    "            # imported names vs. system/pip names. Unfortunately,\n",
    "            # there is no systematic way to get pip names from\n",
    "            # a package's imported name. You'll have to add\n",
    "            # exceptions to this list manually!\n",
    "            poorly_named_packages = {\n",
    "                \"PIL\": \"Pillow\",\n",
    "                \"sklearn\": \"scikit-learn\"\n",
    "            }\n",
    "            if name in poorly_named_packages.keys():\n",
    "                name = poorly_named_packages[name]\n",
    "\n",
    "            yield name\n",
    "    imports = list(set(get_imports()))\n",
    "\n",
    "    # The only way I found to get the version of the root package\n",
    "    # from only the name of the package is to cross-check the names \n",
    "    # of installed packages vs. imported packages\n",
    "    requirements = []\n",
    "    for m in pkg_resources.working_set:\n",
    "        if m.project_name in imports and m.project_name!=\"pip\":\n",
    "            requirements.append((m.project_name, m.version))\n",
    "\n",
    "    \n",
    "    with open(\"requirements.txt\", \"w\") as f:\n",
    "        print('Create \"requirements.txt\"')\n",
    "        for r in requirements:\n",
    "            string = r[0] + '==' + r[1] + '\\n'\n",
    "            f.write(string)\n",
    "            print(\"\\t{}=={}\".format(*r))\n",
    "    print('\"requirements.txt\" was created.')\n",
    "        \n",
    "get_requirements()\n"
   ]
  },
  {
   "cell_type": "code",
   "execution_count": null,
   "metadata": {},
   "outputs": [],
   "source": []
  }
 ],
 "metadata": {
  "kernelspec": {
   "display_name": "JICA_training",
   "language": "python",
   "name": "jica"
  },
  "language_info": {
   "codemirror_mode": {
    "name": "ipython",
    "version": 3
   },
   "file_extension": ".py",
   "mimetype": "text/x-python",
   "name": "python",
   "nbconvert_exporter": "python",
   "pygments_lexer": "ipython3",
   "version": "3.9.5"
  }
 },
 "nbformat": 4,
 "nbformat_minor": 4
}
