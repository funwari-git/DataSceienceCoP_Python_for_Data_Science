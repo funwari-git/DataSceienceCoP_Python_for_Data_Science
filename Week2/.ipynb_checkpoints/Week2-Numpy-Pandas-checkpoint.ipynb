{
 "cells": [
  {
   "cell_type": "markdown",
   "metadata": {},
   "source": [
    "<table width=100%; style=\"background-color:#caf0fa\";>\n",
    "    <tr style=\"background-color:#caf0fa\">\n",
    "        <td>\n",
    "            <h1 style=\"text-align:right\">\n",
    "                Python for Data Science Training - Week 2\n",
    "            </h1>\n",
    "        </td>\n",
    "        <td>\n",
    "            <img src=\"../img/jica-logo.png\" alt = \"JICA Training\" style = \"width: 100px;\"/>\n",
    "        </td>\n",
    "    </tr>\n",
    "</table>\n",
    "\n",
    "# Today's Contents\n",
    "1. Data types\n",
    "2. How to install and import libraries\n",
    "3. Numpy\n",
    "4. Pandas - Intro\n",
    "---\n",
    "\n",
    "# 1. Data Types\n",
    "\n",
    "| Numeric | Text | Sequence/Dictionary | Boolean |\n",
    "| --- | --- | --- | --- |\n",
    "| `int` | `str` | `list` | `bool` |\n",
    "| `float` | . | `tuple` | . |\n",
    "| . | . | `range` | . |\n",
    "| . | . | `dict` | . |"
   ]
  },
  {
   "cell_type": "markdown",
   "metadata": {},
   "source": [
    "### Numeric"
   ]
  },
  {
   "cell_type": "code",
   "execution_count": null,
   "metadata": {},
   "outputs": [],
   "source": [
    "# Integer\n",
    "type(1)"
   ]
  },
  {
   "cell_type": "code",
   "execution_count": null,
   "metadata": {},
   "outputs": [],
   "source": [
    "# Float\n",
    "type(1.1)"
   ]
  },
  {
   "cell_type": "code",
   "execution_count": null,
   "metadata": {},
   "outputs": [],
   "source": [
    "type(1.0)"
   ]
  },
  {
   "cell_type": "code",
   "execution_count": null,
   "metadata": {},
   "outputs": [],
   "source": [
    "type(1.)"
   ]
  },
  {
   "cell_type": "code",
   "execution_count": null,
   "metadata": {},
   "outputs": [],
   "source": [
    "mix_of_int_and_float = 1 + 1.5\n",
    "print(mix_of_int_and_float)\n",
    "print('Data Type: ', type(mix_of_int_and_float))"
   ]
  },
  {
   "cell_type": "code",
   "execution_count": null,
   "metadata": {},
   "outputs": [],
   "source": [
    "# You can explititly assign number\n",
    "int(5)"
   ]
  },
  {
   "cell_type": "code",
   "execution_count": null,
   "metadata": {},
   "outputs": [],
   "source": [
    "float(1.5)"
   ]
  },
  {
   "cell_type": "code",
   "execution_count": null,
   "metadata": {},
   "outputs": [],
   "source": [
    "# Float can be forced to be integer\n",
    "int(5.5)"
   ]
  },
  {
   "cell_type": "code",
   "execution_count": null,
   "metadata": {},
   "outputs": [],
   "source": [
    "# Integer can be forced to be integer\n",
    "float(4)"
   ]
  },
  {
   "cell_type": "markdown",
   "metadata": {},
   "source": [
    "### Text"
   ]
  },
  {
   "cell_type": "code",
   "execution_count": null,
   "metadata": {},
   "outputs": [],
   "source": [
    "type('My favorite number... ')"
   ]
  },
  {
   "cell_type": "code",
   "execution_count": null,
   "metadata": {},
   "outputs": [],
   "source": [
    "# String and number cannot be merged\n",
    "'My favorite number is... ' + 7"
   ]
  },
  {
   "cell_type": "code",
   "execution_count": null,
   "metadata": {},
   "outputs": [],
   "source": [
    "# A solution is to change the number to string\n",
    "'My favorite number is... ' + str(7)"
   ]
  },
  {
   "cell_type": "markdown",
   "metadata": {},
   "source": [
    "### List\n",
    "- `[ ]`\n",
    "- `list([ ])`"
   ]
  },
  {
   "cell_type": "code",
   "execution_count": null,
   "metadata": {},
   "outputs": [],
   "source": [
    "# Case 1 - with bracket\n",
    "list_number = [1, 2, 3, 4, 5]\n",
    "list_number"
   ]
  },
  {
   "cell_type": "code",
   "execution_count": null,
   "metadata": {},
   "outputs": [],
   "source": [
    "list_num_and_str = [1, 2, 3, 4, 't']\n",
    "list_num_and_str"
   ]
  },
  {
   "cell_type": "code",
   "execution_count": null,
   "metadata": {},
   "outputs": [],
   "source": [
    "# Case 2- with `list`\n",
    "list_text = list(['abc', 'cde', 'efg'])\n",
    "list_text"
   ]
  },
  {
   "cell_type": "code",
   "execution_count": null,
   "metadata": {},
   "outputs": [],
   "source": [
    "print(type(list_number))\n",
    "print(type(list_num_and_str))\n",
    "print(type(list_text))"
   ]
  },
  {
   "cell_type": "markdown",
   "metadata": {},
   "source": [
    "### Tuple\n",
    "- ( )"
   ]
  },
  {
   "cell_type": "code",
   "execution_count": null,
   "metadata": {},
   "outputs": [],
   "source": [
    "this_is_tuple = (1, 2, 3)\n",
    "print(this_is_tuple)\n",
    "print(type(this_is_tuple))"
   ]
  },
  {
   "cell_type": "markdown",
   "metadata": {},
   "source": [
    "### Dictionary\n",
    "- `{key: value}`"
   ]
  },
  {
   "cell_type": "code",
   "execution_count": null,
   "metadata": {},
   "outputs": [],
   "source": [
    "my_dict = {'FirstName':'Hiroyuki'}\n",
    "print(my_dict)\n",
    "print(type(my_dict))"
   ]
  },
  {
   "cell_type": "code",
   "execution_count": null,
   "metadata": {},
   "outputs": [],
   "source": [
    "# You can find keys\n",
    "my_dict.keys()"
   ]
  },
  {
   "cell_type": "code",
   "execution_count": null,
   "metadata": {},
   "outputs": [],
   "source": [
    "# You can also find values\n",
    "my_dict.values()"
   ]
  },
  {
   "cell_type": "code",
   "execution_count": null,
   "metadata": {},
   "outputs": [],
   "source": [
    "# Multiple keys and values can be assigned.\n",
    "my_new_dict = {'FirstName':'Hiroyuki', 'LastName':'Yokoi'}\n",
    "print(my_new_dict.keys())\n",
    "print(my_new_dict.values())"
   ]
  },
  {
   "cell_type": "code",
   "execution_count": null,
   "metadata": {},
   "outputs": [],
   "source": [
    "# You can add another key and value\n",
    "my_dict['LastName'] = 'Yokoi'\n",
    "print(my_dict)"
   ]
  },
  {
   "cell_type": "code",
   "execution_count": null,
   "metadata": {},
   "outputs": [],
   "source": [
    "# Without creating a new dictionary, you can update the dictionary by `.update` method\n",
    "my_dict.update({'FullName':'Hiroyui Yokoi'})"
   ]
  },
  {
   "cell_type": "code",
   "execution_count": null,
   "metadata": {},
   "outputs": [],
   "source": [
    "my_dict"
   ]
  },
  {
   "cell_type": "markdown",
   "metadata": {},
   "source": [
    "### Boolean\n",
    "- `True` or `False`"
   ]
  },
  {
   "cell_type": "code",
   "execution_count": null,
   "metadata": {},
   "outputs": [],
   "source": [
    "True"
   ]
  },
  {
   "cell_type": "code",
   "execution_count": null,
   "metadata": {},
   "outputs": [],
   "source": [
    "False"
   ]
  },
  {
   "cell_type": "code",
   "execution_count": null,
   "metadata": {},
   "outputs": [],
   "source": [
    "# Python is case sensitive language. For example, \"true\" does not work\n",
    "true"
   ]
  },
  {
   "cell_type": "markdown",
   "metadata": {},
   "source": [
    "Let's see if True equals False.  \n",
    "Note that in Python `==` means left-hand and right-hand side is exactly equal.  \n",
    "Don't mess up with `=`, which assigns a variable."
   ]
  },
  {
   "cell_type": "code",
   "execution_count": null,
   "metadata": {},
   "outputs": [],
   "source": [
    "True == False"
   ]
  },
  {
   "cell_type": "code",
   "execution_count": null,
   "metadata": {},
   "outputs": [],
   "source": [
    "True == True"
   ]
  },
  {
   "cell_type": "code",
   "execution_count": null,
   "metadata": {},
   "outputs": [],
   "source": [
    "False == False"
   ]
  },
  {
   "cell_type": "code",
   "execution_count": null,
   "metadata": {},
   "outputs": [],
   "source": [
    "False == True"
   ]
  },
  {
   "cell_type": "code",
   "execution_count": null,
   "metadata": {},
   "outputs": [],
   "source": [
    "# In Python, True is considered as 1, while False is as 0.\n",
    "int(True)"
   ]
  },
  {
   "cell_type": "code",
   "execution_count": null,
   "metadata": {},
   "outputs": [],
   "source": [
    "int(False)"
   ]
  },
  {
   "cell_type": "code",
   "execution_count": null,
   "metadata": {},
   "outputs": [],
   "source": [
    "True + True"
   ]
  },
  {
   "cell_type": "code",
   "execution_count": null,
   "metadata": {},
   "outputs": [],
   "source": [
    "False + False"
   ]
  },
  {
   "cell_type": "markdown",
   "metadata": {},
   "source": [
    "# 2. How to install and load libraries\n",
    "Other than [Python built-in functions](https://docs.python.org/3/library/functions.html), you always need to import relevant libraries. If a library is not installed to your computer, you should install the library by calling:\n",
    "```python\n",
    "conda install xxxx\n",
    "```\n",
    "(It is also possible to install with:\n",
    "```python\n",
    "pip install xxxx\n",
    "```\n",
    "but this does not consider dependencies, thus `conda install xxxx` is recommended.)   \n",
    "\n",
    "After installation, you call the library with:\n",
    "```python\n",
    "import xxxx\n",
    "```\n"
   ]
  },
  {
   "cell_type": "markdown",
   "metadata": {},
   "source": [
    "### Install a library\n",
    "1. Google `conda install xxxx` (xxxx should be a specific library) and find an installation page in \"https://anaconda.org\".\n",
    "2. Under this page, you'll find a text like: **To install this package with conda run: ** `conda install -c anaconda numpy`\n",
    "3. Copy and paste to **Command**(Windows)/**Terminal**(Mac).\n",
    "\n",
    "Alternatively, you can just run a command in a jupyter notebok by: `!conda install -c anaconda numpy`"
   ]
  },
  {
   "cell_type": "code",
   "execution_count": null,
   "metadata": {},
   "outputs": [],
   "source": [
    "# !conda install -c anaconda numpy"
   ]
  },
  {
   "cell_type": "markdown",
   "metadata": {},
   "source": [
    "### Import a library"
   ]
  },
  {
   "cell_type": "code",
   "execution_count": null,
   "metadata": {},
   "outputs": [],
   "source": [
    "# import white space library\n",
    "import numpy"
   ]
  },
  {
   "cell_type": "code",
   "execution_count": null,
   "metadata": {},
   "outputs": [],
   "source": [
    "type(numpy)"
   ]
  },
  {
   "cell_type": "code",
   "execution_count": null,
   "metadata": {},
   "outputs": [],
   "source": [
    "# also can be used `as` for a shorthand name\n",
    "import numpy as np"
   ]
  },
  {
   "cell_type": "code",
   "execution_count": null,
   "metadata": {},
   "outputs": [],
   "source": [
    "type(np)"
   ]
  },
  {
   "cell_type": "code",
   "execution_count": null,
   "metadata": {},
   "outputs": [],
   "source": [
    "# sometimes a library has \"deep\" module, and a deeper method can be called with the combination of dot.\n",
    "import matplotlib.pyplot as plt\n",
    "type(plt)"
   ]
  },
  {
   "cell_type": "code",
   "execution_count": null,
   "metadata": {},
   "outputs": [],
   "source": [
    "# Several libraries can be loaded in the same cell.\n",
    "import numpy as np\n",
    "import pandas as pd"
   ]
  },
  {
   "cell_type": "markdown",
   "metadata": {},
   "source": [
    "# 3. Numpy\n",
    "Numpy is the most popular and famous library in Python. Many many libraries are built upon Numpy."
   ]
  },
  {
   "cell_type": "code",
   "execution_count": null,
   "metadata": {},
   "outputs": [],
   "source": [
    "# numpy array\n",
    "arr = [1, 2, 3, 4]\n",
    "np_arr = np.array(arr)\n",
    "print(np_arr)\n",
    "print('Type is: ', type(np_arr))"
   ]
  },
  {
   "cell_type": "code",
   "execution_count": null,
   "metadata": {},
   "outputs": [],
   "source": [
    "# Shape is (row, column)\n",
    "np_arr.shape"
   ]
  },
  {
   "cell_type": "code",
   "execution_count": null,
   "metadata": {},
   "outputs": [],
   "source": [
    "# two dimensional aray\n",
    "arr_two_dim = [[1, 2, 3], [5, 6, 7]]\n",
    "np_arr_two_dim = np.array(arr_two_dim)\n",
    "print(np_arr_two_dim)\n",
    "print('Type is: ', type(np_arr_two_dim))"
   ]
  },
  {
   "cell_type": "code",
   "execution_count": null,
   "metadata": {},
   "outputs": [],
   "source": [
    "np_arr_two_dim.shape # two rows and three columns"
   ]
  },
  {
   "cell_type": "code",
   "execution_count": null,
   "metadata": {},
   "outputs": [],
   "source": [
    "np_arr_two_dim.ndim # Show dimension"
   ]
  },
  {
   "cell_type": "code",
   "execution_count": null,
   "metadata": {},
   "outputs": [],
   "source": [
    "np_arr_two_dim.dtype # numeric type"
   ]
  },
  {
   "cell_type": "code",
   "execution_count": null,
   "metadata": {},
   "outputs": [],
   "source": [
    "# select random number\n",
    "np_random = np.random.randint(low = 0, high = 100, size = 10)\n",
    "np_random"
   ]
  },
  {
   "cell_type": "code",
   "execution_count": null,
   "metadata": {},
   "outputs": [],
   "source": [
    "# show shape\n",
    "np_random.shape  # row 10, col none"
   ]
  },
  {
   "cell_type": "code",
   "execution_count": null,
   "metadata": {},
   "outputs": [],
   "source": [
    "# Find max number\n",
    "np.max(np_random)"
   ]
  },
  {
   "cell_type": "code",
   "execution_count": null,
   "metadata": {},
   "outputs": [],
   "source": [
    "# Find min number\n",
    "np.min(np_random)"
   ]
  },
  {
   "cell_type": "code",
   "execution_count": null,
   "metadata": {},
   "outputs": [],
   "source": [
    "# Show mean value\n",
    "np.mean(np_random)"
   ]
  },
  {
   "cell_type": "code",
   "execution_count": null,
   "metadata": {},
   "outputs": [],
   "source": [
    "# Same method\n",
    "np_random.mean()"
   ]
  },
  {
   "cell_type": "code",
   "execution_count": null,
   "metadata": {},
   "outputs": [],
   "source": [
    "# Show median value\n",
    "np.median(np_random)"
   ]
  },
  {
   "cell_type": "code",
   "execution_count": null,
   "metadata": {},
   "outputs": [],
   "source": [
    "# Standard deviation\n",
    "np.std(np_random)"
   ]
  },
  {
   "cell_type": "code",
   "execution_count": null,
   "metadata": {},
   "outputs": [],
   "source": [
    "# Variance\n",
    "np.var(np_random)"
   ]
  },
  {
   "cell_type": "code",
   "execution_count": null,
   "metadata": {},
   "outputs": [],
   "source": [
    "# simple calculation: square root of variance\n",
    "np.sqrt(np.var(np_random))"
   ]
  },
  {
   "cell_type": "code",
   "execution_count": null,
   "metadata": {},
   "outputs": [],
   "source": [
    "# simple calculation: variance is calculated by squaring standard deviation\n",
    "np.std(np_random) ** 2"
   ]
  },
  {
   "cell_type": "markdown",
   "metadata": {},
   "source": [
    "## Indexing\n",
    "An index is a sequential number of a variable, which starts from **0** in Python."
   ]
  },
  {
   "cell_type": "code",
   "execution_count": null,
   "metadata": {},
   "outputs": [],
   "source": [
    "# Indexing: make sure it starts from 0.\n",
    "print(np_random)"
   ]
  },
  {
   "cell_type": "code",
   "execution_count": null,
   "metadata": {},
   "outputs": [],
   "source": [
    "print(np_random[0])"
   ]
  },
  {
   "cell_type": "code",
   "execution_count": null,
   "metadata": {},
   "outputs": [],
   "source": [
    "print(np_random[1])"
   ]
  },
  {
   "cell_type": "code",
   "execution_count": null,
   "metadata": {},
   "outputs": [],
   "source": [
    "print(np_random[2])"
   ]
  },
  {
   "cell_type": "code",
   "execution_count": null,
   "metadata": {},
   "outputs": [],
   "source": [
    "# Index of the last item is: -1\n",
    "print(np_random[-1])"
   ]
  },
  {
   "cell_type": "code",
   "execution_count": null,
   "metadata": {},
   "outputs": [],
   "source": [
    "print(np_random[-2])"
   ]
  },
  {
   "cell_type": "markdown",
   "metadata": {},
   "source": [
    "### For loop\n",
    "It is tedious to type the same command again and again. If there is a repetition in the command, you can run **for loop**.\n",
    "\n",
    "\n",
    "```python\n",
    "for any_name in list_variable:\n",
    "    *do your function\n",
    "```"
   ]
  },
  {
   "cell_type": "code",
   "execution_count": null,
   "metadata": {},
   "outputs": [],
   "source": [
    "# Show the list variable again.\n",
    "np_random"
   ]
  },
  {
   "cell_type": "code",
   "execution_count": null,
   "metadata": {},
   "outputs": [],
   "source": [
    "# Show individual item with for-loop\n",
    "for item in np_random:\n",
    "    print(item)"
   ]
  },
  {
   "cell_type": "code",
   "execution_count": null,
   "metadata": {},
   "outputs": [],
   "source": [
    "# Distinguishing each variable with index:\n",
    "for i, item in enumerate(np_random):\n",
    "    print(f'Index is {i} and Number is {item}')"
   ]
  },
  {
   "cell_type": "code",
   "execution_count": null,
   "metadata": {},
   "outputs": [],
   "source": [
    "# Another example\n",
    "name_list = ['Suzuki', 'Yamada', 'Kobayashi']\n",
    "for name in name_list:\n",
    "    print('My name is ', name)"
   ]
  },
  {
   "cell_type": "code",
   "execution_count": null,
   "metadata": {},
   "outputs": [],
   "source": [
    "# zip function: zipping two lists\n",
    "first_name = ['Kazu', 'Hide', 'Shinji']\n",
    "last_name = ['Miura', 'Nakata', 'Kagawa']\n",
    "\n",
    "for first, last in zip(first_name, last_name):\n",
    "    print(first, last)"
   ]
  },
  {
   "cell_type": "code",
   "execution_count": null,
   "metadata": {},
   "outputs": [],
   "source": [
    "# range function: create sequence\n",
    "for i in range(10):\n",
    "    print(i)"
   ]
  },
  {
   "cell_type": "markdown",
   "metadata": {},
   "source": [
    "### List Comprehension - Quicker way to apply for-loop\n",
    "```python\n",
    "[element for element in list_variable]\n",
    "```"
   ]
  },
  {
   "cell_type": "code",
   "execution_count": null,
   "metadata": {},
   "outputs": [],
   "source": [
    "# Quicker way - List comprehension\n",
    "[name for name in name_list]"
   ]
  },
  {
   "cell_type": "markdown",
   "metadata": {},
   "source": [
    "# グループワーク"
   ]
  },
  {
   "cell_type": "markdown",
   "metadata": {},
   "source": [
    "### ワーク1: for loopを使って次のように文字をプリントしてください\n",
    "\n",
    "```python\n",
    "\"1 番目の人です。\"\n",
    "\"2 番目の人です。\"\n",
    "\"3 番目の人です。\"\n",
    "\"4 番目の人です。\"\n",
    "\"5 番目の人です。\"\n",
    "```"
   ]
  },
  {
   "cell_type": "code",
   "execution_count": null,
   "metadata": {},
   "outputs": [],
   "source": [
    "# TODO\n"
   ]
  },
  {
   "cell_type": "markdown",
   "metadata": {},
   "source": [
    "### ワーク2: \n",
    "1. 学生の時に聞いていたミュージシャンの名前を３つリストとして書き出してください。\n",
    "2. そのミュージシャンの好きな曲のタイトルをそれぞれ３つリストとして書き出してください。\n",
    "3. for loopを使って以下のように文字をプリントしてください。\n",
    "\n",
    "```python\n",
    "\"私が好きなミュージシャンは●●です。そのうち、好きな曲は■■です。\"  \n",
    "\"私が好きなミュージシャンは○○す。そのうち、好きな曲は□□です。\"  \n",
    "\"私が好きなミュージシャンは▲▲です。そのうち、好きな曲は△△です。 \"\n",
    "```"
   ]
  },
  {
   "cell_type": "code",
   "execution_count": null,
   "metadata": {},
   "outputs": [],
   "source": [
    "# TODO\n",
    "musician_name = \n",
    "music_titles = "
   ]
  },
  {
   "cell_type": "markdown",
   "metadata": {},
   "source": [
    "### ワーク3:\n",
    "上のリストを使って、以下のように変化させてください。<br>\n",
    "ポイント：１番目、２番目、３番目というシークエンスが加わりました。<br><br>\n",
    "```python\n",
    "\"私が1番目に好きなミュージシャンは●●です。そのうち、好きな曲は■■です。\"\n",
    "\"私が2番目に好きなミュージシャンは○○す。そのうち、好きな曲は□□です。\"\n",
    "\"私が3番目に好きなミュージシャンは▲▲です。そのうち、好きな曲は△△です。\"\n",
    "```"
   ]
  },
  {
   "cell_type": "code",
   "execution_count": null,
   "metadata": {},
   "outputs": [],
   "source": [
    "# TODO\n"
   ]
  },
  {
   "cell_type": "markdown",
   "metadata": {},
   "source": [
    "### Conditional for-loop\n",
    "1. Two conditions\n",
    "```python\n",
    "    for element in list_variable:\n",
    "        if *condition*:  \n",
    "            *do_something\n",
    "       else:\n",
    "            *do_the_rest\n",
    "```\n",
    "2. More than two conditions\n",
    "```python\n",
    "    for element in list_variable:\n",
    "        if *condition*:  #  First condition\n",
    "            *do_something\n",
    "       elif *another condition*:  #  Second condition\n",
    "            *do_another\n",
    "       else:\n",
    "            *do_the_rest\n",
    "```\n",
    "\n",
    "### Append method\n",
    "It is useful to store variable applied to a specific condition. First, you need to provide a empty list, then you need to be explicit to append a variable to the list.\n",
    "```python\n",
    "    empty_list_1 = []\n",
    "    empty_list_2 = []\n",
    "    for element in list_variable:\n",
    "        if *condition*:\n",
    "            *do_something\n",
    "            empty_list_1.append(element) # an element meeting the condition is appended to the empty_list_1\n",
    "        else:\n",
    "            *do_the_rest\n",
    "            empty_list_2.append(element) # an element NOT meeting the condition is appended to the empty_list_2\n",
    "            \n",
    "```"
   ]
  },
  {
   "cell_type": "code",
   "execution_count": null,
   "metadata": {},
   "outputs": [],
   "source": [
    "# Show the list variable again.\n",
    "np_random"
   ]
  },
  {
   "cell_type": "code",
   "execution_count": null,
   "metadata": {},
   "outputs": [],
   "source": [
    "# two conditions\n",
    "more_than_50_list = []\n",
    "less_than_50_list = []\n",
    "\n",
    "for element in np_random:\n",
    "    if element > 50:\n",
    "        # If element is more than 50, store the variable to the list of more_than_50_list\n",
    "        more_than_50_list.append(element) \n",
    "    else:\n",
    "        # If above condition is not met, store the remaining to the list of less_than_50_list\n",
    "        less_than_50_list.append(element) "
   ]
  },
  {
   "cell_type": "code",
   "execution_count": null,
   "metadata": {},
   "outputs": [],
   "source": [
    "print('More than 50\\n', more_than_50_list)\n",
    "print('Less than 50\\n', less_than_50_list)"
   ]
  },
  {
   "cell_type": "code",
   "execution_count": null,
   "metadata": {},
   "outputs": [],
   "source": [
    "# multiple conditions\n",
    "small_number_list = []\n",
    "mid_number_list = []\n",
    "large_number_list = []\n",
    "\n",
    "for element in np_random:\n",
    "    if element > 30 and element < 60:\n",
    "        #  Store number between 30 and 60 to mid_number_list\n",
    "        mid_number_list.append(element) \n",
    "    elif element >= 60:\n",
    "        #  Store number more than 60 to large_number_list\n",
    "        large_number_list.append(element)\n",
    "    else:\n",
    "        small_number_list.append(element)"
   ]
  },
  {
   "cell_type": "code",
   "execution_count": null,
   "metadata": {},
   "outputs": [],
   "source": [
    "print('Small Number (0-30):\\n', small_number_list)\n",
    "print('Mid Number (30-60):\\n', mid_number_list)\n",
    "print('Large Number (60-100):\\n', large_number_list)"
   ]
  },
  {
   "cell_type": "markdown",
   "metadata": {},
   "source": [
    "# 4. Pandas - Intro\n",
    "<img src=\"https://upload.wikimedia.org/wikipedia/commons/0/0f/Grosser_Panda.JPG\" alt=\"Panda\" style = \"width: 250px;\">\n",
    "\n",
    "Pandas is another most famous library which handles **dataframe**, in other words, a table. Pandas is very powerful to work with any kind of tables which may have numbers and text. Let's take a quick look."
   ]
  },
  {
   "cell_type": "code",
   "execution_count": null,
   "metadata": {},
   "outputs": [],
   "source": [
    "# As convention, pandas is called as pd for a shorthand name.\n",
    "import pandas as pd"
   ]
  },
  {
   "cell_type": "markdown",
   "metadata": {},
   "source": [
    "We'll reveiw the following [excel version of JICA's annual report](https://www.jica.go.jp/about/report/2020/ku57pq00002mxr2q-att/chart01_01.xls). Look into **\"P16　図表-3\"**.\n"
   ]
  },
  {
   "cell_type": "markdown",
   "metadata": {},
   "source": [
    "なお、ローカル環境でPythonを動かしている方は、以下でエラーが出る可能性があります。エラーの原因はPandasでエクセルを読み込むための、`xlrd`というdependencyファイルがないためです。同様のエラーが出た方は、以下をコマンドで実行ください。\n",
    "\n",
    "`conda install -c anaconda xlrd`"
   ]
  },
  {
   "cell_type": "code",
   "execution_count": null,
   "metadata": {},
   "outputs": [],
   "source": [
    "# Let's take a quick look at JICA's annual report.\n",
    "url = 'https://www.jica.go.jp/about/report/2020/ku57pq00002mxr2q-att/chart01_01.xls'\n",
    "scheme_wise_results = pd.read_excel(url)\n",
    "scheme_wise_results"
   ]
  },
  {
   "cell_type": "markdown",
   "metadata": {},
   "source": [
    "- The table is ugly to read. Use `.head()` method, which shows the first 5 rows.\n",
    "- `pd.read_excel` reads the first sheet if not explicitly specified. Thus, you need to specify `sheet_name`."
   ]
  },
  {
   "cell_type": "code",
   "execution_count": null,
   "metadata": {},
   "outputs": [],
   "source": [
    "scheme_wise_results.head()"
   ]
  },
  {
   "cell_type": "code",
   "execution_count": null,
   "metadata": {},
   "outputs": [],
   "source": [
    "# Let's make sure you assign the sheet_name\n",
    "scheme_wise_results = pd.read_excel(url, sheet_name='P16　図表-3', header=4) # header= is from which rows you want to read."
   ]
  },
  {
   "cell_type": "code",
   "execution_count": null,
   "metadata": {},
   "outputs": [],
   "source": [
    "scheme_wise_results.head()"
   ]
  },
  {
   "cell_type": "markdown",
   "metadata": {},
   "source": [
    "Sounds like that you read the correct sheet, but this is still little ugly.  \n",
    "Let's extract what you want - rows 0-2 and columns of 形態 and 金額"
   ]
  },
  {
   "cell_type": "code",
   "execution_count": null,
   "metadata": {},
   "outputs": [],
   "source": [
    "# iloc method can extract what you need to use. In this case, rows should be up to 2, columns should be after 形態.\n",
    "scheme_wise_results = scheme_wise_results.iloc[:3, 1:] #  :3 = 0-2, 1: = select all after index 1"
   ]
  },
  {
   "cell_type": "code",
   "execution_count": null,
   "metadata": {},
   "outputs": [],
   "source": [
    "scheme_wise_results"
   ]
  },
  {
   "cell_type": "markdown",
   "metadata": {},
   "source": [
    "---\n",
    "今週は以上。\n",
    "  \n",
    "  \n",
    "来週はPandasをDeep Dive！\n",
    "関心ある人は[10 minutes to Pandas](https://pandas.pydata.org/pandas-docs/stable/user_guide/10min.html)をみてください。"
   ]
  },
  {
   "cell_type": "code",
   "execution_count": null,
   "metadata": {},
   "outputs": [],
   "source": []
  }
 ],
 "metadata": {
  "kernelspec": {
   "display_name": "JICA_training",
   "language": "python",
   "name": "jica"
  },
  "language_info": {
   "codemirror_mode": {
    "name": "ipython",
    "version": 3
   },
   "file_extension": ".py",
   "mimetype": "text/x-python",
   "name": "python",
   "nbconvert_exporter": "python",
   "pygments_lexer": "ipython3",
   "version": "3.9.5"
  }
 },
 "nbformat": 4,
 "nbformat_minor": 4
}
